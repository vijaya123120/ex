{
 "cells": [
  {
   "cell_type": "code",
   "execution_count": 1,
   "id": "52cad935",
   "metadata": {},
   "outputs": [],
   "source": [
    "import numpy as np\n",
    "import pandas as pd\n",
    "import matplotlib.pyplot as plt\n",
    "import seaborn as sns\n",
    "from tabulate import  tabulate\n",
    "import warnings\n",
    "warnings.filterwarnings(\"ignore\")"
   ]
  },
  {
   "cell_type": "code",
   "execution_count": 2,
   "id": "10fb3421",
   "metadata": {},
   "outputs": [],
   "source": [
    "df=pd.read_csv('DS1_C5_S3_BazilHousing_Data_Hackathon.csv')"
   ]
  },
  {
   "cell_type": "code",
   "execution_count": 3,
   "id": "fd26b5a6",
   "metadata": {},
   "outputs": [
    {
     "data": {
      "text/html": [
       "<div>\n",
       "<style scoped>\n",
       "    .dataframe tbody tr th:only-of-type {\n",
       "        vertical-align: middle;\n",
       "    }\n",
       "\n",
       "    .dataframe tbody tr th {\n",
       "        vertical-align: top;\n",
       "    }\n",
       "\n",
       "    .dataframe thead th {\n",
       "        text-align: right;\n",
       "    }\n",
       "</style>\n",
       "<table border=\"1\" class=\"dataframe\">\n",
       "  <thead>\n",
       "    <tr style=\"text-align: right;\">\n",
       "      <th></th>\n",
       "      <th>city</th>\n",
       "      <th>area</th>\n",
       "      <th>rooms</th>\n",
       "      <th>bathroom</th>\n",
       "      <th>parking spaces</th>\n",
       "      <th>floor</th>\n",
       "      <th>animal</th>\n",
       "      <th>furniture</th>\n",
       "      <th>hoa (R$)</th>\n",
       "      <th>rent amount (R$)</th>\n",
       "      <th>property tax (R$)</th>\n",
       "      <th>fire insurance (R$)</th>\n",
       "      <th>total (R$)</th>\n",
       "    </tr>\n",
       "  </thead>\n",
       "  <tbody>\n",
       "    <tr>\n",
       "      <th>0</th>\n",
       "      <td>São Paulo</td>\n",
       "      <td>70</td>\n",
       "      <td>2</td>\n",
       "      <td>1</td>\n",
       "      <td>1</td>\n",
       "      <td>7</td>\n",
       "      <td>acept</td>\n",
       "      <td>furnished</td>\n",
       "      <td>2065</td>\n",
       "      <td>3300</td>\n",
       "      <td>211</td>\n",
       "      <td>42</td>\n",
       "      <td>5618</td>\n",
       "    </tr>\n",
       "    <tr>\n",
       "      <th>1</th>\n",
       "      <td>São Paulo</td>\n",
       "      <td>320</td>\n",
       "      <td>4</td>\n",
       "      <td>4</td>\n",
       "      <td>0</td>\n",
       "      <td>20</td>\n",
       "      <td>acept</td>\n",
       "      <td>not furnished</td>\n",
       "      <td>1200</td>\n",
       "      <td>4960</td>\n",
       "      <td>1750</td>\n",
       "      <td>63</td>\n",
       "      <td>7973</td>\n",
       "    </tr>\n",
       "    <tr>\n",
       "      <th>2</th>\n",
       "      <td>Porto Alegre</td>\n",
       "      <td>80</td>\n",
       "      <td>1</td>\n",
       "      <td>1</td>\n",
       "      <td>1</td>\n",
       "      <td>6</td>\n",
       "      <td>acept</td>\n",
       "      <td>not furnished</td>\n",
       "      <td>1000</td>\n",
       "      <td>2800</td>\n",
       "      <td>0</td>\n",
       "      <td>41</td>\n",
       "      <td>3841</td>\n",
       "    </tr>\n",
       "    <tr>\n",
       "      <th>3</th>\n",
       "      <td>Porto Alegre</td>\n",
       "      <td>51</td>\n",
       "      <td>2</td>\n",
       "      <td>1</td>\n",
       "      <td>0</td>\n",
       "      <td>2</td>\n",
       "      <td>acept</td>\n",
       "      <td>not furnished</td>\n",
       "      <td>270</td>\n",
       "      <td>1112</td>\n",
       "      <td>22</td>\n",
       "      <td>17</td>\n",
       "      <td>1421</td>\n",
       "    </tr>\n",
       "    <tr>\n",
       "      <th>4</th>\n",
       "      <td>São Paulo</td>\n",
       "      <td>25</td>\n",
       "      <td>1</td>\n",
       "      <td>1</td>\n",
       "      <td>0</td>\n",
       "      <td>1</td>\n",
       "      <td>not acept</td>\n",
       "      <td>not furnished</td>\n",
       "      <td>0</td>\n",
       "      <td>800</td>\n",
       "      <td>25</td>\n",
       "      <td>11</td>\n",
       "      <td>836</td>\n",
       "    </tr>\n",
       "  </tbody>\n",
       "</table>\n",
       "</div>"
      ],
      "text/plain": [
       "           city  area  rooms  bathroom  parking spaces  floor     animal  \\\n",
       "0     São Paulo    70      2         1               1      7      acept   \n",
       "1     São Paulo   320      4         4               0     20      acept   \n",
       "2  Porto Alegre    80      1         1               1      6      acept   \n",
       "3  Porto Alegre    51      2         1               0      2      acept   \n",
       "4     São Paulo    25      1         1               0      1  not acept   \n",
       "\n",
       "       furniture  hoa (R$)  rent amount (R$)  property tax (R$)  \\\n",
       "0      furnished      2065              3300                211   \n",
       "1  not furnished      1200              4960               1750   \n",
       "2  not furnished      1000              2800                  0   \n",
       "3  not furnished       270              1112                 22   \n",
       "4  not furnished         0               800                 25   \n",
       "\n",
       "   fire insurance (R$)  total (R$)  \n",
       "0                   42        5618  \n",
       "1                   63        7973  \n",
       "2                   41        3841  \n",
       "3                   17        1421  \n",
       "4                   11         836  "
      ]
     },
     "execution_count": 3,
     "metadata": {},
     "output_type": "execute_result"
    }
   ],
   "source": [
    "df.head()"
   ]
  },
  {
   "cell_type": "code",
   "execution_count": 4,
   "id": "bbf9b893",
   "metadata": {},
   "outputs": [
    {
     "data": {
      "text/plain": [
       "(10692, 13)"
      ]
     },
     "execution_count": 4,
     "metadata": {},
     "output_type": "execute_result"
    }
   ],
   "source": [
    "#shape of the datset\n",
    "df.shape"
   ]
  },
  {
   "cell_type": "code",
   "execution_count": 5,
   "id": "08b6e3d9",
   "metadata": {},
   "outputs": [
    {
     "data": {
      "text/plain": [
       "Index(['city', 'area', 'rooms', 'bathroom', 'parking spaces', 'floor',\n",
       "       'animal', 'furniture', 'hoa (R$)', 'rent amount (R$)',\n",
       "       'property tax (R$)', 'fire insurance (R$)', 'total (R$)'],\n",
       "      dtype='object')"
      ]
     },
     "execution_count": 5,
     "metadata": {},
     "output_type": "execute_result"
    }
   ],
   "source": [
    "#column names\n",
    "df.columns"
   ]
  },
  {
   "cell_type": "code",
   "execution_count": 6,
   "id": "cf4c9299",
   "metadata": {},
   "outputs": [
    {
     "name": "stdout",
     "output_type": "stream",
     "text": [
      "<class 'pandas.core.frame.DataFrame'>\n",
      "RangeIndex: 10692 entries, 0 to 10691\n",
      "Data columns (total 13 columns):\n",
      " #   Column               Non-Null Count  Dtype \n",
      "---  ------               --------------  ----- \n",
      " 0   city                 10692 non-null  object\n",
      " 1   area                 10692 non-null  int64 \n",
      " 2   rooms                10692 non-null  int64 \n",
      " 3   bathroom             10692 non-null  int64 \n",
      " 4   parking spaces       10692 non-null  int64 \n",
      " 5   floor                10692 non-null  int64 \n",
      " 6   animal               10692 non-null  object\n",
      " 7   furniture            10692 non-null  object\n",
      " 8   hoa (R$)             10692 non-null  int64 \n",
      " 9   rent amount (R$)     10692 non-null  int64 \n",
      " 10  property tax (R$)    10692 non-null  int64 \n",
      " 11  fire insurance (R$)  10692 non-null  int64 \n",
      " 12  total (R$)           10692 non-null  int64 \n",
      "dtypes: int64(10), object(3)\n",
      "memory usage: 1.1+ MB\n"
     ]
    }
   ],
   "source": [
    "#displaying the dataset information\n",
    "df.info()"
   ]
  },
  {
   "cell_type": "code",
   "execution_count": 7,
   "id": "15c9caaa",
   "metadata": {},
   "outputs": [
    {
     "data": {
      "text/plain": [
       "city                   object\n",
       "area                    int64\n",
       "rooms                   int64\n",
       "bathroom                int64\n",
       "parking spaces          int64\n",
       "floor                   int64\n",
       "animal                 object\n",
       "furniture              object\n",
       "hoa (R$)                int64\n",
       "rent amount (R$)        int64\n",
       "property tax (R$)       int64\n",
       "fire insurance (R$)     int64\n",
       "total (R$)              int64\n",
       "dtype: object"
      ]
     },
     "execution_count": 7,
     "metadata": {},
     "output_type": "execute_result"
    }
   ],
   "source": [
    "#displaying the datatypes\n",
    "df.dtypes"
   ]
  },
  {
   "cell_type": "code",
   "execution_count": 8,
   "id": "e0912b56",
   "metadata": {},
   "outputs": [
    {
     "data": {
      "text/plain": [
       "city                   0\n",
       "area                   0\n",
       "rooms                  0\n",
       "bathroom               0\n",
       "parking spaces         0\n",
       "floor                  0\n",
       "animal                 0\n",
       "furniture              0\n",
       "hoa (R$)               0\n",
       "rent amount (R$)       0\n",
       "property tax (R$)      0\n",
       "fire insurance (R$)    0\n",
       "total (R$)             0\n",
       "dtype: int64"
      ]
     },
     "execution_count": 8,
     "metadata": {},
     "output_type": "execute_result"
    }
   ],
   "source": [
    "#checking null values in the column\n",
    "df.isnull().sum()"
   ]
  },
  {
   "cell_type": "code",
   "execution_count": 9,
   "id": "3c032018",
   "metadata": {},
   "outputs": [
    {
     "name": "stdout",
     "output_type": "stream",
     "text": [
      "categorical     continous\n",
      "--------------  -------------------\n",
      "city            area\n",
      "rooms           hoa (R$)\n",
      "bathroom        rent amount (R$)\n",
      "parking spaces  property tax (R$)\n",
      "floor           fire insurance (R$)\n",
      "animal          total (R$)\n",
      "furniture\n"
     ]
    }
   ],
   "source": [
    "def seperate_data_types(df):\n",
    "    categorical=[]\n",
    "    continous=[]\n",
    "    for column in df.columns:\n",
    "        if df[column].nunique() < 100:     \n",
    "            categorical.append(column)           \n",
    "        else:\n",
    "            continous.append(column)\n",
    "    return categorical,continous\n",
    "categorical,continous=seperate_data_types(df)\n",
    "from tabulate import tabulate \n",
    "table=[categorical,continous]\n",
    "print(tabulate ({\"Categorical\":categorical,\"Continous\":continous},headers=['categorical','continous']))"
   ]
  },
  {
   "cell_type": "code",
   "execution_count": 10,
   "id": "e53af19c",
   "metadata": {},
   "outputs": [],
   "source": [
    "def info_categorical(col):\n",
    "    print(f\"The number of unique values  in {col} is:{df[col].unique()}\")\n",
    "    print(f\"mode of  {col} is:{df[col].mode()[0]}\")\n",
    "    print(f\"The number of missing  values  in {col} is:{df[col].isnull().sum()}\")"
   ]
  },
  {
   "cell_type": "code",
   "execution_count": 11,
   "id": "cd9a5a57",
   "metadata": {},
   "outputs": [
    {
     "name": "stdout",
     "output_type": "stream",
     "text": [
      "The number of unique values  in city is:['São Paulo' 'Porto Alegre' 'Rio de Janeiro' 'Campinas' 'Belo Horizonte']\n",
      "mode of  city is:São Paulo\n",
      "The number of missing  values  in city is:0\n",
      "None\n"
     ]
    }
   ],
   "source": [
    "print(info_categorical('city'))"
   ]
  },
  {
   "cell_type": "code",
   "execution_count": 12,
   "id": "4256a891",
   "metadata": {},
   "outputs": [
    {
     "name": "stdout",
     "output_type": "stream",
     "text": [
      "The number of unique values  in floor is:[  7  20   6   2   1   0   4   3  10  11  24   9   8  17  18   5  13  15\n",
      "  16  14  26  12  21  19  22  27  23  35  25  46  28  29 301  51  32]\n",
      "mode of  floor is:0\n",
      "The number of missing  values  in floor is:0\n",
      "None\n"
     ]
    }
   ],
   "source": [
    "print(info_categorical('floor'))"
   ]
  },
  {
   "cell_type": "code",
   "execution_count": 13,
   "id": "36b80961",
   "metadata": {},
   "outputs": [
    {
     "name": "stdout",
     "output_type": "stream",
     "text": [
      "The number of unique values  in animal is:['acept' 'not acept']\n",
      "mode of  animal is:acept\n",
      "The number of missing  values  in animal is:0\n",
      "None\n"
     ]
    }
   ],
   "source": [
    "print(info_categorical('animal'))"
   ]
  },
  {
   "cell_type": "code",
   "execution_count": 14,
   "id": "4d389bba",
   "metadata": {},
   "outputs": [
    {
     "name": "stdout",
     "output_type": "stream",
     "text": [
      "The number of unique values  in furniture is:['furnished' 'not furnished']\n",
      "mode of  furniture is:not furnished\n",
      "The number of missing  values  in furniture is:0\n",
      "None\n"
     ]
    }
   ],
   "source": [
    "print(info_categorical('furniture'))"
   ]
  },
  {
   "cell_type": "code",
   "execution_count": 15,
   "id": "abb73bff",
   "metadata": {},
   "outputs": [
    {
     "name": "stdout",
     "output_type": "stream",
     "text": [
      "The number of unique values  in rooms is:[ 2  4  1  3  7  5  8  6 10 13  9]\n",
      "mode of  rooms is:3\n",
      "The number of missing  values  in rooms is:0\n",
      "None\n"
     ]
    }
   ],
   "source": [
    "print(info_categorical('rooms'))"
   ]
  },
  {
   "cell_type": "code",
   "execution_count": null,
   "id": "26eb3414",
   "metadata": {},
   "outputs": [],
   "source": []
  },
  {
   "cell_type": "code",
   "execution_count": 16,
   "id": "dffaba40",
   "metadata": {},
   "outputs": [
    {
     "data": {
      "text/plain": [
       "array(['São Paulo', 'Porto Alegre', 'Rio de Janeiro', 'Campinas',\n",
       "       'Belo Horizonte'], dtype=object)"
      ]
     },
     "execution_count": 16,
     "metadata": {},
     "output_type": "execute_result"
    }
   ],
   "source": [
    "df.city.unique()"
   ]
  },
  {
   "cell_type": "code",
   "execution_count": 17,
   "id": "7ac11398",
   "metadata": {},
   "outputs": [
    {
     "data": {
      "text/plain": [
       "Index(['city', 'area', 'rooms', 'bathroom', 'parking spaces', 'floor',\n",
       "       'animal', 'furniture', 'hoa (R$)', 'rent amount (R$)',\n",
       "       'property tax (R$)', 'fire insurance (R$)', 'total (R$)'],\n",
       "      dtype='object')"
      ]
     },
     "execution_count": 17,
     "metadata": {},
     "output_type": "execute_result"
    }
   ],
   "source": [
    "df.columns"
   ]
  },
  {
   "cell_type": "code",
   "execution_count": 18,
   "id": "1bc429ee",
   "metadata": {},
   "outputs": [
    {
     "data": {
      "text/html": [
       "<div>\n",
       "<style scoped>\n",
       "    .dataframe tbody tr th:only-of-type {\n",
       "        vertical-align: middle;\n",
       "    }\n",
       "\n",
       "    .dataframe tbody tr th {\n",
       "        vertical-align: top;\n",
       "    }\n",
       "\n",
       "    .dataframe thead th {\n",
       "        text-align: right;\n",
       "    }\n",
       "</style>\n",
       "<table border=\"1\" class=\"dataframe\">\n",
       "  <thead>\n",
       "    <tr style=\"text-align: right;\">\n",
       "      <th></th>\n",
       "      <th>area</th>\n",
       "      <th>rooms</th>\n",
       "      <th>bathroom</th>\n",
       "      <th>parking spaces</th>\n",
       "      <th>floor</th>\n",
       "      <th>hoa (R$)</th>\n",
       "      <th>rent amount (R$)</th>\n",
       "      <th>property tax (R$)</th>\n",
       "      <th>fire insurance (R$)</th>\n",
       "      <th>total (R$)</th>\n",
       "    </tr>\n",
       "  </thead>\n",
       "  <tbody>\n",
       "    <tr>\n",
       "      <th>count</th>\n",
       "      <td>10692.000000</td>\n",
       "      <td>10692.000000</td>\n",
       "      <td>10692.000000</td>\n",
       "      <td>10692.000000</td>\n",
       "      <td>10692.000000</td>\n",
       "      <td>1.069200e+04</td>\n",
       "      <td>10692.000000</td>\n",
       "      <td>10692.000000</td>\n",
       "      <td>10692.000000</td>\n",
       "      <td>1.069200e+04</td>\n",
       "    </tr>\n",
       "    <tr>\n",
       "      <th>mean</th>\n",
       "      <td>149.217920</td>\n",
       "      <td>2.506079</td>\n",
       "      <td>2.236813</td>\n",
       "      <td>1.609147</td>\n",
       "      <td>5.067995</td>\n",
       "      <td>1.174022e+03</td>\n",
       "      <td>3896.247194</td>\n",
       "      <td>366.704358</td>\n",
       "      <td>53.300879</td>\n",
       "      <td>5.490487e+03</td>\n",
       "    </tr>\n",
       "    <tr>\n",
       "      <th>std</th>\n",
       "      <td>537.016942</td>\n",
       "      <td>1.171266</td>\n",
       "      <td>1.407198</td>\n",
       "      <td>1.589521</td>\n",
       "      <td>6.069050</td>\n",
       "      <td>1.559231e+04</td>\n",
       "      <td>3408.545518</td>\n",
       "      <td>3107.832321</td>\n",
       "      <td>47.768031</td>\n",
       "      <td>1.648473e+04</td>\n",
       "    </tr>\n",
       "    <tr>\n",
       "      <th>min</th>\n",
       "      <td>11.000000</td>\n",
       "      <td>1.000000</td>\n",
       "      <td>1.000000</td>\n",
       "      <td>0.000000</td>\n",
       "      <td>0.000000</td>\n",
       "      <td>0.000000e+00</td>\n",
       "      <td>450.000000</td>\n",
       "      <td>0.000000</td>\n",
       "      <td>3.000000</td>\n",
       "      <td>4.990000e+02</td>\n",
       "    </tr>\n",
       "    <tr>\n",
       "      <th>25%</th>\n",
       "      <td>56.000000</td>\n",
       "      <td>2.000000</td>\n",
       "      <td>1.000000</td>\n",
       "      <td>0.000000</td>\n",
       "      <td>1.000000</td>\n",
       "      <td>1.700000e+02</td>\n",
       "      <td>1530.000000</td>\n",
       "      <td>38.000000</td>\n",
       "      <td>21.000000</td>\n",
       "      <td>2.061750e+03</td>\n",
       "    </tr>\n",
       "    <tr>\n",
       "      <th>50%</th>\n",
       "      <td>90.000000</td>\n",
       "      <td>2.000000</td>\n",
       "      <td>2.000000</td>\n",
       "      <td>1.000000</td>\n",
       "      <td>3.000000</td>\n",
       "      <td>5.600000e+02</td>\n",
       "      <td>2661.000000</td>\n",
       "      <td>125.000000</td>\n",
       "      <td>36.000000</td>\n",
       "      <td>3.581500e+03</td>\n",
       "    </tr>\n",
       "    <tr>\n",
       "      <th>75%</th>\n",
       "      <td>182.000000</td>\n",
       "      <td>3.000000</td>\n",
       "      <td>3.000000</td>\n",
       "      <td>2.000000</td>\n",
       "      <td>8.000000</td>\n",
       "      <td>1.237500e+03</td>\n",
       "      <td>5000.000000</td>\n",
       "      <td>375.000000</td>\n",
       "      <td>68.000000</td>\n",
       "      <td>6.768000e+03</td>\n",
       "    </tr>\n",
       "    <tr>\n",
       "      <th>max</th>\n",
       "      <td>46335.000000</td>\n",
       "      <td>13.000000</td>\n",
       "      <td>10.000000</td>\n",
       "      <td>12.000000</td>\n",
       "      <td>301.000000</td>\n",
       "      <td>1.117000e+06</td>\n",
       "      <td>45000.000000</td>\n",
       "      <td>313700.000000</td>\n",
       "      <td>677.000000</td>\n",
       "      <td>1.120000e+06</td>\n",
       "    </tr>\n",
       "  </tbody>\n",
       "</table>\n",
       "</div>"
      ],
      "text/plain": [
       "               area         rooms      bathroom  parking spaces         floor  \\\n",
       "count  10692.000000  10692.000000  10692.000000    10692.000000  10692.000000   \n",
       "mean     149.217920      2.506079      2.236813        1.609147      5.067995   \n",
       "std      537.016942      1.171266      1.407198        1.589521      6.069050   \n",
       "min       11.000000      1.000000      1.000000        0.000000      0.000000   \n",
       "25%       56.000000      2.000000      1.000000        0.000000      1.000000   \n",
       "50%       90.000000      2.000000      2.000000        1.000000      3.000000   \n",
       "75%      182.000000      3.000000      3.000000        2.000000      8.000000   \n",
       "max    46335.000000     13.000000     10.000000       12.000000    301.000000   \n",
       "\n",
       "           hoa (R$)  rent amount (R$)  property tax (R$)  fire insurance (R$)  \\\n",
       "count  1.069200e+04      10692.000000       10692.000000         10692.000000   \n",
       "mean   1.174022e+03       3896.247194         366.704358            53.300879   \n",
       "std    1.559231e+04       3408.545518        3107.832321            47.768031   \n",
       "min    0.000000e+00        450.000000           0.000000             3.000000   \n",
       "25%    1.700000e+02       1530.000000          38.000000            21.000000   \n",
       "50%    5.600000e+02       2661.000000         125.000000            36.000000   \n",
       "75%    1.237500e+03       5000.000000         375.000000            68.000000   \n",
       "max    1.117000e+06      45000.000000      313700.000000           677.000000   \n",
       "\n",
       "         total (R$)  \n",
       "count  1.069200e+04  \n",
       "mean   5.490487e+03  \n",
       "std    1.648473e+04  \n",
       "min    4.990000e+02  \n",
       "25%    2.061750e+03  \n",
       "50%    3.581500e+03  \n",
       "75%    6.768000e+03  \n",
       "max    1.120000e+06  "
      ]
     },
     "execution_count": 18,
     "metadata": {},
     "output_type": "execute_result"
    }
   ],
   "source": [
    "#measures of dispersion for the numerical columns\n",
    "df.describe()"
   ]
  },
  {
   "cell_type": "code",
   "execution_count": 19,
   "id": "38ca0cc1",
   "metadata": {},
   "outputs": [],
   "source": [
    "df11 = df[(df['city'] != 'Rio de Janeiro') & (df['city'] != 'São Paulo')]"
   ]
  },
  {
   "cell_type": "code",
   "execution_count": 20,
   "id": "2d654d0e",
   "metadata": {},
   "outputs": [
    {
     "data": {
      "text/html": [
       "<div>\n",
       "<style scoped>\n",
       "    .dataframe tbody tr th:only-of-type {\n",
       "        vertical-align: middle;\n",
       "    }\n",
       "\n",
       "    .dataframe tbody tr th {\n",
       "        vertical-align: top;\n",
       "    }\n",
       "\n",
       "    .dataframe thead th {\n",
       "        text-align: right;\n",
       "    }\n",
       "</style>\n",
       "<table border=\"1\" class=\"dataframe\">\n",
       "  <thead>\n",
       "    <tr style=\"text-align: right;\">\n",
       "      <th></th>\n",
       "      <th>city</th>\n",
       "      <th>area</th>\n",
       "      <th>rooms</th>\n",
       "      <th>bathroom</th>\n",
       "      <th>parking spaces</th>\n",
       "      <th>floor</th>\n",
       "      <th>animal</th>\n",
       "      <th>furniture</th>\n",
       "      <th>hoa (R$)</th>\n",
       "      <th>rent amount (R$)</th>\n",
       "      <th>property tax (R$)</th>\n",
       "      <th>fire insurance (R$)</th>\n",
       "      <th>total (R$)</th>\n",
       "    </tr>\n",
       "  </thead>\n",
       "  <tbody>\n",
       "    <tr>\n",
       "      <th>2</th>\n",
       "      <td>Porto Alegre</td>\n",
       "      <td>80</td>\n",
       "      <td>1</td>\n",
       "      <td>1</td>\n",
       "      <td>1</td>\n",
       "      <td>6</td>\n",
       "      <td>acept</td>\n",
       "      <td>not furnished</td>\n",
       "      <td>1000</td>\n",
       "      <td>2800</td>\n",
       "      <td>0</td>\n",
       "      <td>41</td>\n",
       "      <td>3841</td>\n",
       "    </tr>\n",
       "    <tr>\n",
       "      <th>3</th>\n",
       "      <td>Porto Alegre</td>\n",
       "      <td>51</td>\n",
       "      <td>2</td>\n",
       "      <td>1</td>\n",
       "      <td>0</td>\n",
       "      <td>2</td>\n",
       "      <td>acept</td>\n",
       "      <td>not furnished</td>\n",
       "      <td>270</td>\n",
       "      <td>1112</td>\n",
       "      <td>22</td>\n",
       "      <td>17</td>\n",
       "      <td>1421</td>\n",
       "    </tr>\n",
       "    <tr>\n",
       "      <th>11</th>\n",
       "      <td>Campinas</td>\n",
       "      <td>46</td>\n",
       "      <td>1</td>\n",
       "      <td>1</td>\n",
       "      <td>1</td>\n",
       "      <td>10</td>\n",
       "      <td>acept</td>\n",
       "      <td>not furnished</td>\n",
       "      <td>550</td>\n",
       "      <td>580</td>\n",
       "      <td>43</td>\n",
       "      <td>8</td>\n",
       "      <td>1181</td>\n",
       "    </tr>\n",
       "    <tr>\n",
       "      <th>15</th>\n",
       "      <td>Campinas</td>\n",
       "      <td>330</td>\n",
       "      <td>4</td>\n",
       "      <td>6</td>\n",
       "      <td>6</td>\n",
       "      <td>0</td>\n",
       "      <td>acept</td>\n",
       "      <td>furnished</td>\n",
       "      <td>680</td>\n",
       "      <td>8000</td>\n",
       "      <td>328</td>\n",
       "      <td>121</td>\n",
       "      <td>9129</td>\n",
       "    </tr>\n",
       "    <tr>\n",
       "      <th>21</th>\n",
       "      <td>Belo Horizonte</td>\n",
       "      <td>42</td>\n",
       "      <td>1</td>\n",
       "      <td>1</td>\n",
       "      <td>1</td>\n",
       "      <td>17</td>\n",
       "      <td>not acept</td>\n",
       "      <td>furnished</td>\n",
       "      <td>470</td>\n",
       "      <td>2690</td>\n",
       "      <td>172</td>\n",
       "      <td>36</td>\n",
       "      <td>3368</td>\n",
       "    </tr>\n",
       "    <tr>\n",
       "      <th>...</th>\n",
       "      <td>...</td>\n",
       "      <td>...</td>\n",
       "      <td>...</td>\n",
       "      <td>...</td>\n",
       "      <td>...</td>\n",
       "      <td>...</td>\n",
       "      <td>...</td>\n",
       "      <td>...</td>\n",
       "      <td>...</td>\n",
       "      <td>...</td>\n",
       "      <td>...</td>\n",
       "      <td>...</td>\n",
       "      <td>...</td>\n",
       "    </tr>\n",
       "    <tr>\n",
       "      <th>10667</th>\n",
       "      <td>Belo Horizonte</td>\n",
       "      <td>75</td>\n",
       "      <td>2</td>\n",
       "      <td>1</td>\n",
       "      <td>1</td>\n",
       "      <td>3</td>\n",
       "      <td>not acept</td>\n",
       "      <td>not furnished</td>\n",
       "      <td>180</td>\n",
       "      <td>1250</td>\n",
       "      <td>0</td>\n",
       "      <td>17</td>\n",
       "      <td>1447</td>\n",
       "    </tr>\n",
       "    <tr>\n",
       "      <th>10673</th>\n",
       "      <td>Porto Alegre</td>\n",
       "      <td>220</td>\n",
       "      <td>3</td>\n",
       "      <td>2</td>\n",
       "      <td>2</td>\n",
       "      <td>15</td>\n",
       "      <td>acept</td>\n",
       "      <td>not furnished</td>\n",
       "      <td>842</td>\n",
       "      <td>2400</td>\n",
       "      <td>117</td>\n",
       "      <td>36</td>\n",
       "      <td>3395</td>\n",
       "    </tr>\n",
       "    <tr>\n",
       "      <th>10676</th>\n",
       "      <td>Porto Alegre</td>\n",
       "      <td>40</td>\n",
       "      <td>1</td>\n",
       "      <td>1</td>\n",
       "      <td>0</td>\n",
       "      <td>1</td>\n",
       "      <td>acept</td>\n",
       "      <td>not furnished</td>\n",
       "      <td>330</td>\n",
       "      <td>1200</td>\n",
       "      <td>159</td>\n",
       "      <td>18</td>\n",
       "      <td>1707</td>\n",
       "    </tr>\n",
       "    <tr>\n",
       "      <th>10682</th>\n",
       "      <td>Porto Alegre</td>\n",
       "      <td>160</td>\n",
       "      <td>3</td>\n",
       "      <td>2</td>\n",
       "      <td>3</td>\n",
       "      <td>4</td>\n",
       "      <td>acept</td>\n",
       "      <td>furnished</td>\n",
       "      <td>850</td>\n",
       "      <td>3300</td>\n",
       "      <td>220</td>\n",
       "      <td>49</td>\n",
       "      <td>4419</td>\n",
       "    </tr>\n",
       "    <tr>\n",
       "      <th>10687</th>\n",
       "      <td>Porto Alegre</td>\n",
       "      <td>63</td>\n",
       "      <td>2</td>\n",
       "      <td>1</td>\n",
       "      <td>1</td>\n",
       "      <td>5</td>\n",
       "      <td>not acept</td>\n",
       "      <td>furnished</td>\n",
       "      <td>402</td>\n",
       "      <td>1478</td>\n",
       "      <td>24</td>\n",
       "      <td>22</td>\n",
       "      <td>1926</td>\n",
       "    </tr>\n",
       "  </tbody>\n",
       "</table>\n",
       "<p>3304 rows × 13 columns</p>\n",
       "</div>"
      ],
      "text/plain": [
       "                 city  area  rooms  bathroom  parking spaces  floor  \\\n",
       "2        Porto Alegre    80      1         1               1      6   \n",
       "3        Porto Alegre    51      2         1               0      2   \n",
       "11           Campinas    46      1         1               1     10   \n",
       "15           Campinas   330      4         6               6      0   \n",
       "21     Belo Horizonte    42      1         1               1     17   \n",
       "...               ...   ...    ...       ...             ...    ...   \n",
       "10667  Belo Horizonte    75      2         1               1      3   \n",
       "10673    Porto Alegre   220      3         2               2     15   \n",
       "10676    Porto Alegre    40      1         1               0      1   \n",
       "10682    Porto Alegre   160      3         2               3      4   \n",
       "10687    Porto Alegre    63      2         1               1      5   \n",
       "\n",
       "          animal      furniture  hoa (R$)  rent amount (R$)  \\\n",
       "2          acept  not furnished      1000              2800   \n",
       "3          acept  not furnished       270              1112   \n",
       "11         acept  not furnished       550               580   \n",
       "15         acept      furnished       680              8000   \n",
       "21     not acept      furnished       470              2690   \n",
       "...          ...            ...       ...               ...   \n",
       "10667  not acept  not furnished       180              1250   \n",
       "10673      acept  not furnished       842              2400   \n",
       "10676      acept  not furnished       330              1200   \n",
       "10682      acept      furnished       850              3300   \n",
       "10687  not acept      furnished       402              1478   \n",
       "\n",
       "       property tax (R$)  fire insurance (R$)  total (R$)  \n",
       "2                      0                   41        3841  \n",
       "3                     22                   17        1421  \n",
       "11                    43                    8        1181  \n",
       "15                   328                  121        9129  \n",
       "21                   172                   36        3368  \n",
       "...                  ...                  ...         ...  \n",
       "10667                  0                   17        1447  \n",
       "10673                117                   36        3395  \n",
       "10676                159                   18        1707  \n",
       "10682                220                   49        4419  \n",
       "10687                 24                   22        1926  \n",
       "\n",
       "[3304 rows x 13 columns]"
      ]
     },
     "execution_count": 20,
     "metadata": {},
     "output_type": "execute_result"
    }
   ],
   "source": [
    "df11"
   ]
  },
  {
   "cell_type": "raw",
   "id": "ddac3d22",
   "metadata": {},
   "source": [
    "INTERPRETATION-The cities of Rio de Janeiro and São Paulo have been excluded from the data because they are expensive cities, and people in Brazil may not prefer them"
   ]
  },
  {
   "cell_type": "markdown",
   "id": "55dfe84f",
   "metadata": {},
   "source": [
    "# univariate analysis"
   ]
  },
  {
   "cell_type": "code",
   "execution_count": 21,
   "id": "1719eeb4",
   "metadata": {},
   "outputs": [
    {
     "name": "stdout",
     "output_type": "stream",
     "text": [
      "Belo Horizonte    1258\n",
      "Porto Alegre      1193\n",
      "Campinas           853\n",
      "Name: city, dtype: int64\n"
     ]
    },
    {
     "data": {
      "image/png": "[encoded data removed]",
      "text/plain": [
       "<Figure size 720x360 with 2 Axes>"
      ]
     },
     "metadata": {
      "needs_background": "light"
     },
     "output_type": "display_data"
    }
   ],
   "source": [
    "#city column\n",
    "fig,ax=plt.subplots(1,2,figsize=(10,5))\n",
    "ax[0].set_title(\"count of city \")\n",
    "data=df11['city'].value_counts()\n",
    "print(data)\n",
    "label=data.keys()\n",
    "sns.countplot(x=df11['city'],ax=ax[0])\n",
    "plt.pie(x=data,labels=label,autopct=\"%0.2f%%\")\n",
    "plt.show()"
   ]
  },
  {
   "cell_type": "raw",
   "id": "0f0673f6",
   "metadata": {},
   "source": [
    "INTERPRETATION-The city of Belo Horizonte appears numerous times in the dataset"
   ]
  },
  {
   "cell_type": "code",
   "execution_count": 22,
   "id": "7e8cf4e4",
   "metadata": {},
   "outputs": [
    {
     "name": "stdout",
     "output_type": "stream",
     "text": [
      "not furnished    2697\n",
      "furnished         607\n",
      "Name: furniture, dtype: int64\n"
     ]
    },
    {
     "data": {
      "image/png": "[encoded data removed]",
      "text/plain": [
       "<Figure size 720x360 with 2 Axes>"
      ]
     },
     "metadata": {
      "needs_background": "light"
     },
     "output_type": "display_data"
    }
   ],
   "source": [
    "#furniture column\n",
    "fig,ax=plt.subplots(1,2,figsize=(10,5))\n",
    "ax[0].set_title(\"count of furniture\")\n",
    "data=df11['furniture'].value_counts()\n",
    "print(data)\n",
    "label=data.keys()\n",
    "sns.countplot(x=df11['furniture'],ax=ax[0])\n",
    "plt.pie(x=data,labels=label,autopct=\"%0.2f%%\")\n",
    "plt.show()"
   ]
  },
  {
   "cell_type": "raw",
   "id": "7e05824b",
   "metadata": {},
   "source": [
    "INTERPRETION-The cities with  unfurnished properties is higher"
   ]
  },
  {
   "cell_type": "code",
   "execution_count": 23,
   "id": "47e20a1e",
   "metadata": {},
   "outputs": [
    {
     "name": "stdout",
     "output_type": "stream",
     "text": [
      "acept        2629\n",
      "not acept     675\n",
      "Name: animal, dtype: int64\n"
     ]
    },
    {
     "data": {
      "image/png": "[encoded data removed]",
      "text/plain": [
       "<Figure size 720x360 with 2 Axes>"
      ]
     },
     "metadata": {
      "needs_background": "light"
     },
     "output_type": "display_data"
    }
   ],
   "source": [
    "#animal column\n",
    "fig,ax=plt.subplots(1,2,figsize=(10,5))\n",
    "ax[0].set_title(\"count of animal\")\n",
    "data=df11['animal'].value_counts()\n",
    "print(data)\n",
    "label=data.keys()\n",
    "sns.countplot(x=df11['animal'],ax=ax[0])\n",
    "plt.pie(x=data,labels=label,autopct=\"%0.2f%%\")\n",
    "plt.show()"
   ]
  },
  {
   "cell_type": "raw",
   "id": "5b7f1401",
   "metadata": {},
   "source": [
    "INTERPRETATION-The cities in brazil that allow pets in their properties is higher"
   ]
  },
  {
   "cell_type": "code",
   "execution_count": 24,
   "id": "c8782ffe",
   "metadata": {},
   "outputs": [
    {
     "data": {
      "image/png": "[encoded data removed]",
      "text/plain": [
       "<Figure size 360x216 with 1 Axes>"
      ]
     },
     "metadata": {
      "needs_background": "light"
     },
     "output_type": "display_data"
    }
   ],
   "source": [
    "#rooms column\n",
    "fig,ax=plt.subplots(figsize=(5,3))\n",
    "bins=[1,2,3,4,5,6]\n",
    "sns.histplot(x=df11['rooms'],bins=bins)\n",
    "plt.show()"
   ]
  },
  {
   "cell_type": "raw",
   "id": "9e2d2b8a",
   "metadata": {},
   "source": [
    "INTERPRETATION-There are more cities in the data with properties having 2 or 3 bedrooms "
   ]
  },
  {
   "cell_type": "code",
   "execution_count": 25,
   "id": "bc04ea85",
   "metadata": {},
   "outputs": [
    {
     "data": {
      "image/png": "[encoded data removed]",
      "text/plain": [
       "<Figure size 360x216 with 1 Axes>"
      ]
     },
     "metadata": {
      "needs_background": "light"
     },
     "output_type": "display_data"
    }
   ],
   "source": [
    "#parking spaces column\n",
    "fig,ax=plt.subplots(figsize=(5,3))\n",
    "bins=[1,2,3,4,5,6]\n",
    "sns.histplot(x=df11['parking spaces'],bins=bins)\n",
    "plt.show()"
   ]
  },
  {
   "cell_type": "raw",
   "id": "51a6733b",
   "metadata": {},
   "source": [
    "INTERPRETATION-There are more cities in the data  where properties have only one parking space "
   ]
  },
  {
   "cell_type": "markdown",
   "id": "ac63869f",
   "metadata": {},
   "source": [
    "# BIVARIATE ANALYSIS FOR BACHELORS"
   ]
  },
  {
   "cell_type": "code",
   "execution_count": 26,
   "id": "8c717666",
   "metadata": {},
   "outputs": [],
   "source": [
    "df_bachelors=df11[(df11['rooms']<=2) &  (df11['bathroom']==1)]"
   ]
  },
  {
   "cell_type": "code",
   "execution_count": 27,
   "id": "26becb6e",
   "metadata": {},
   "outputs": [
    {
     "data": {
      "text/html": [
       "<div>\n",
       "<style scoped>\n",
       "    .dataframe tbody tr th:only-of-type {\n",
       "        vertical-align: middle;\n",
       "    }\n",
       "\n",
       "    .dataframe tbody tr th {\n",
       "        vertical-align: top;\n",
       "    }\n",
       "\n",
       "    .dataframe thead th {\n",
       "        text-align: right;\n",
       "    }\n",
       "</style>\n",
       "<table border=\"1\" class=\"dataframe\">\n",
       "  <thead>\n",
       "    <tr style=\"text-align: right;\">\n",
       "      <th></th>\n",
       "      <th>city</th>\n",
       "      <th>area</th>\n",
       "      <th>rooms</th>\n",
       "      <th>bathroom</th>\n",
       "      <th>parking spaces</th>\n",
       "      <th>floor</th>\n",
       "      <th>animal</th>\n",
       "      <th>furniture</th>\n",
       "      <th>hoa (R$)</th>\n",
       "      <th>rent amount (R$)</th>\n",
       "      <th>property tax (R$)</th>\n",
       "      <th>fire insurance (R$)</th>\n",
       "      <th>total (R$)</th>\n",
       "    </tr>\n",
       "  </thead>\n",
       "  <tbody>\n",
       "    <tr>\n",
       "      <th>2</th>\n",
       "      <td>Porto Alegre</td>\n",
       "      <td>80</td>\n",
       "      <td>1</td>\n",
       "      <td>1</td>\n",
       "      <td>1</td>\n",
       "      <td>6</td>\n",
       "      <td>acept</td>\n",
       "      <td>not furnished</td>\n",
       "      <td>1000</td>\n",
       "      <td>2800</td>\n",
       "      <td>0</td>\n",
       "      <td>41</td>\n",
       "      <td>3841</td>\n",
       "    </tr>\n",
       "    <tr>\n",
       "      <th>3</th>\n",
       "      <td>Porto Alegre</td>\n",
       "      <td>51</td>\n",
       "      <td>2</td>\n",
       "      <td>1</td>\n",
       "      <td>0</td>\n",
       "      <td>2</td>\n",
       "      <td>acept</td>\n",
       "      <td>not furnished</td>\n",
       "      <td>270</td>\n",
       "      <td>1112</td>\n",
       "      <td>22</td>\n",
       "      <td>17</td>\n",
       "      <td>1421</td>\n",
       "    </tr>\n",
       "    <tr>\n",
       "      <th>11</th>\n",
       "      <td>Campinas</td>\n",
       "      <td>46</td>\n",
       "      <td>1</td>\n",
       "      <td>1</td>\n",
       "      <td>1</td>\n",
       "      <td>10</td>\n",
       "      <td>acept</td>\n",
       "      <td>not furnished</td>\n",
       "      <td>550</td>\n",
       "      <td>580</td>\n",
       "      <td>43</td>\n",
       "      <td>8</td>\n",
       "      <td>1181</td>\n",
       "    </tr>\n",
       "    <tr>\n",
       "      <th>21</th>\n",
       "      <td>Belo Horizonte</td>\n",
       "      <td>42</td>\n",
       "      <td>1</td>\n",
       "      <td>1</td>\n",
       "      <td>1</td>\n",
       "      <td>17</td>\n",
       "      <td>not acept</td>\n",
       "      <td>furnished</td>\n",
       "      <td>470</td>\n",
       "      <td>2690</td>\n",
       "      <td>172</td>\n",
       "      <td>36</td>\n",
       "      <td>3368</td>\n",
       "    </tr>\n",
       "    <tr>\n",
       "      <th>35</th>\n",
       "      <td>Porto Alegre</td>\n",
       "      <td>38</td>\n",
       "      <td>1</td>\n",
       "      <td>1</td>\n",
       "      <td>2</td>\n",
       "      <td>11</td>\n",
       "      <td>not acept</td>\n",
       "      <td>not furnished</td>\n",
       "      <td>450</td>\n",
       "      <td>1750</td>\n",
       "      <td>0</td>\n",
       "      <td>26</td>\n",
       "      <td>2226</td>\n",
       "    </tr>\n",
       "    <tr>\n",
       "      <th>...</th>\n",
       "      <td>...</td>\n",
       "      <td>...</td>\n",
       "      <td>...</td>\n",
       "      <td>...</td>\n",
       "      <td>...</td>\n",
       "      <td>...</td>\n",
       "      <td>...</td>\n",
       "      <td>...</td>\n",
       "      <td>...</td>\n",
       "      <td>...</td>\n",
       "      <td>...</td>\n",
       "      <td>...</td>\n",
       "      <td>...</td>\n",
       "    </tr>\n",
       "    <tr>\n",
       "      <th>10648</th>\n",
       "      <td>Belo Horizonte</td>\n",
       "      <td>80</td>\n",
       "      <td>2</td>\n",
       "      <td>1</td>\n",
       "      <td>1</td>\n",
       "      <td>3</td>\n",
       "      <td>not acept</td>\n",
       "      <td>not furnished</td>\n",
       "      <td>240</td>\n",
       "      <td>1200</td>\n",
       "      <td>67</td>\n",
       "      <td>16</td>\n",
       "      <td>1523</td>\n",
       "    </tr>\n",
       "    <tr>\n",
       "      <th>10665</th>\n",
       "      <td>Belo Horizonte</td>\n",
       "      <td>55</td>\n",
       "      <td>2</td>\n",
       "      <td>1</td>\n",
       "      <td>1</td>\n",
       "      <td>2</td>\n",
       "      <td>not acept</td>\n",
       "      <td>furnished</td>\n",
       "      <td>200</td>\n",
       "      <td>1600</td>\n",
       "      <td>75</td>\n",
       "      <td>22</td>\n",
       "      <td>1897</td>\n",
       "    </tr>\n",
       "    <tr>\n",
       "      <th>10667</th>\n",
       "      <td>Belo Horizonte</td>\n",
       "      <td>75</td>\n",
       "      <td>2</td>\n",
       "      <td>1</td>\n",
       "      <td>1</td>\n",
       "      <td>3</td>\n",
       "      <td>not acept</td>\n",
       "      <td>not furnished</td>\n",
       "      <td>180</td>\n",
       "      <td>1250</td>\n",
       "      <td>0</td>\n",
       "      <td>17</td>\n",
       "      <td>1447</td>\n",
       "    </tr>\n",
       "    <tr>\n",
       "      <th>10676</th>\n",
       "      <td>Porto Alegre</td>\n",
       "      <td>40</td>\n",
       "      <td>1</td>\n",
       "      <td>1</td>\n",
       "      <td>0</td>\n",
       "      <td>1</td>\n",
       "      <td>acept</td>\n",
       "      <td>not furnished</td>\n",
       "      <td>330</td>\n",
       "      <td>1200</td>\n",
       "      <td>159</td>\n",
       "      <td>18</td>\n",
       "      <td>1707</td>\n",
       "    </tr>\n",
       "    <tr>\n",
       "      <th>10687</th>\n",
       "      <td>Porto Alegre</td>\n",
       "      <td>63</td>\n",
       "      <td>2</td>\n",
       "      <td>1</td>\n",
       "      <td>1</td>\n",
       "      <td>5</td>\n",
       "      <td>not acept</td>\n",
       "      <td>furnished</td>\n",
       "      <td>402</td>\n",
       "      <td>1478</td>\n",
       "      <td>24</td>\n",
       "      <td>22</td>\n",
       "      <td>1926</td>\n",
       "    </tr>\n",
       "  </tbody>\n",
       "</table>\n",
       "<p>1309 rows × 13 columns</p>\n",
       "</div>"
      ],
      "text/plain": [
       "                 city  area  rooms  bathroom  parking spaces  floor  \\\n",
       "2        Porto Alegre    80      1         1               1      6   \n",
       "3        Porto Alegre    51      2         1               0      2   \n",
       "11           Campinas    46      1         1               1     10   \n",
       "21     Belo Horizonte    42      1         1               1     17   \n",
       "35       Porto Alegre    38      1         1               2     11   \n",
       "...               ...   ...    ...       ...             ...    ...   \n",
       "10648  Belo Horizonte    80      2         1               1      3   \n",
       "10665  Belo Horizonte    55      2         1               1      2   \n",
       "10667  Belo Horizonte    75      2         1               1      3   \n",
       "10676    Porto Alegre    40      1         1               0      1   \n",
       "10687    Porto Alegre    63      2         1               1      5   \n",
       "\n",
       "          animal      furniture  hoa (R$)  rent amount (R$)  \\\n",
       "2          acept  not furnished      1000              2800   \n",
       "3          acept  not furnished       270              1112   \n",
       "11         acept  not furnished       550               580   \n",
       "21     not acept      furnished       470              2690   \n",
       "35     not acept  not furnished       450              1750   \n",
       "...          ...            ...       ...               ...   \n",
       "10648  not acept  not furnished       240              1200   \n",
       "10665  not acept      furnished       200              1600   \n",
       "10667  not acept  not furnished       180              1250   \n",
       "10676      acept  not furnished       330              1200   \n",
       "10687  not acept      furnished       402              1478   \n",
       "\n",
       "       property tax (R$)  fire insurance (R$)  total (R$)  \n",
       "2                      0                   41        3841  \n",
       "3                     22                   17        1421  \n",
       "11                    43                    8        1181  \n",
       "21                   172                   36        3368  \n",
       "35                     0                   26        2226  \n",
       "...                  ...                  ...         ...  \n",
       "10648                 67                   16        1523  \n",
       "10665                 75                   22        1897  \n",
       "10667                  0                   17        1447  \n",
       "10676                159                   18        1707  \n",
       "10687                 24                   22        1926  \n",
       "\n",
       "[1309 rows x 13 columns]"
      ]
     },
     "execution_count": 27,
     "metadata": {},
     "output_type": "execute_result"
    }
   ],
   "source": [
    "df_bachelors"
   ]
  },
  {
   "cell_type": "code",
   "execution_count": 57,
   "id": "02dc238e",
   "metadata": {},
   "outputs": [
    {
     "data": {
      "image/png": "[encoded data removed]",
      "text/plain": [
       "<Figure size 864x432 with 2 Axes>"
      ]
     },
     "metadata": {
      "needs_background": "light"
     },
     "output_type": "display_data"
    }
   ],
   "source": [
    "#relation between citi,rooms,bathrooms for bachelors\n",
    "fig,ax=plt.subplots(1,2,figsize=(12,6))\n",
    "sns.countplot(x='city',hue='rooms',data=df_bachelors,ax=ax[0])\n",
    "ax[0].set_title('City-wise Room Count')\n",
    "sns.countplot(x='city',hue='bathroom',data=df_bachelors)\n",
    "ax[1].set_title('City-wise bathRoom Count')\n",
    "plt.show()"
   ]
  },
  {
   "cell_type": "raw",
   "id": "0adc615f",
   "metadata": {},
   "source": [
    "INTERPRETATION-In Porto Alegre, there are a higher number of single and double rooms available, as well as a greater number of single bathrooms, making it a city that is well-suited for bachelors"
   ]
  },
  {
   "cell_type": "code",
   "execution_count": 58,
   "id": "a7e81191",
   "metadata": {},
   "outputs": [
    {
     "data": {
      "image/png": "[encoded data removed]",
      "text/plain": [
       "<Figure size 864x432 with 2 Axes>"
      ]
     },
     "metadata": {
      "needs_background": "light"
     },
     "output_type": "display_data"
    }
   ],
   "source": [
    "#relation between city  , parking spaces and animal acceptance\n",
    "fig,ax=plt.subplots(1,2,figsize=(12,6))\n",
    "sns.countplot(x='city',hue='parking spaces',data=df_bachelors,ax=ax[0])\n",
    "ax[0].set_title('City-wise parkingspaces Count')\n",
    "sns.countplot(x='city',hue='animal',data=df_bachelors)\n",
    "ax[1].set_title('City-wise animal acceptanceCount')\n",
    "plt.show()"
   ]
  },
  {
   "cell_type": "raw",
   "id": "17487be0",
   "metadata": {},
   "source": [
    "INTERPRETATION- -->Porto Alegre city has a good number of both 0 and 1 parking space options, making it a suitable city for bachelors who own a car and bike.\n",
    "has a higher number of furnished homes compared to other cities.\n",
    "--> Compared to other cities, Porto Alegre is expected to have a higher acceptance of pets, making it an ideal city for bachelors who wish to keep pets"
   ]
  },
  {
   "cell_type": "code",
   "execution_count": 61,
   "id": "ad883f8c",
   "metadata": {},
   "outputs": [
    {
     "data": {
      "image/png": "[encoded data removed]",
      "text/plain": [
       "<Figure size 432x288 with 1 Axes>"
      ]
     },
     "metadata": {
      "needs_background": "light"
     },
     "output_type": "display_data"
    }
   ],
   "source": [
    "#relation between city and area \n",
    "bins=[50,100,150,200,250,300,350,400,450,500,600,650]\n",
    "sns.histplot(x='area',hue='city',data=df_bachelors,bins=bins)\n",
    "plt.title('city wise area')\n",
    "plt.show()"
   ]
  },
  {
   "cell_type": "markdown",
   "id": "4444d15b",
   "metadata": {},
   "source": [
    "INTERPRETATION-The area in the porto alegre city is smaller and it is below 100 so it is the best option for the bachelors"
   ]
  },
  {
   "cell_type": "code",
   "execution_count": 64,
   "id": "ce72fa29",
   "metadata": {},
   "outputs": [
    {
     "data": {
      "image/png": "[encoded data removed]",
      "text/plain": [
       "<Figure size 864x432 with 2 Axes>"
      ]
     },
     "metadata": {
      "needs_background": "light"
     },
     "output_type": "display_data"
    }
   ],
   "source": [
    "#relation between city and rent amount\n",
    "fig,ax=plt.subplots(1,2,figsize=(12,6))\n",
    "bins=[1000,1500,2000,2500,3000,3500,4000]\n",
    "sns.histplot(x='rent amount (R$)',hue='city',data=df_bachelors,bins=bins,ax=ax[0])\n",
    "ax[0].set_title(\"city wise rent amount\")\n",
    "sns.boxplot(x='rent amount (R$)',y='city',data=df_bachelors)\n",
    "\n",
    "plt.show()"
   ]
  },
  {
   "cell_type": "raw",
   "id": "47c6f934",
   "metadata": {},
   "source": [
    "INTERPRETATION-The average rent for bachelors in Porto Alegre city falls between 1000 to 1200, it is  an affordable option for the bachelors."
   ]
  },
  {
   "cell_type": "code",
   "execution_count": 59,
   "id": "c3459974",
   "metadata": {},
   "outputs": [
    {
     "data": {
      "text/plain": [
       "Int64Index([    2,    21,    39,    73,    76,   108,   187,   238,   244,\n",
       "              334,\n",
       "            ...\n",
       "            10278, 10290, 10294, 10306, 10316, 10431, 10486, 10551, 10619,\n",
       "            10623],\n",
       "           dtype='int64', length=138)"
      ]
     },
     "execution_count": 59,
     "metadata": {},
     "output_type": "execute_result"
    }
   ],
   "source": [
    "#OUTLIER TREATMENT\n",
    "mean = df_bachelors['rent amount (R$)'].mean()\n",
    "x = df_bachelors[(df['rent amount (R$)'] > 2000)].index\n",
    "x"
   ]
  },
  {
   "cell_type": "code",
   "execution_count": 33,
   "id": "76f61e1a",
   "metadata": {},
   "outputs": [],
   "source": [
    "for index in x:\n",
    "    df_bachelors.loc[index, \"rent amount (R$)\"] = mean"
   ]
  },
  {
   "cell_type": "code",
   "execution_count": 34,
   "id": "eaf17b93",
   "metadata": {},
   "outputs": [],
   "source": [
    "#central tendency,measures of dispersion for rent amount\n",
    "pivot_table = pd.pivot_table(df_bachelors, values='rent amount (R$)', index='city', aggfunc=['mean', 'median','std'])"
   ]
  },
  {
   "cell_type": "code",
   "execution_count": 35,
   "id": "9360b891",
   "metadata": {},
   "outputs": [
    {
     "data": {
      "text/html": [
       "<div>\n",
       "<style scoped>\n",
       "    .dataframe tbody tr th:only-of-type {\n",
       "        vertical-align: middle;\n",
       "    }\n",
       "\n",
       "    .dataframe tbody tr th {\n",
       "        vertical-align: top;\n",
       "    }\n",
       "\n",
       "    .dataframe thead tr th {\n",
       "        text-align: left;\n",
       "    }\n",
       "\n",
       "    .dataframe thead tr:last-of-type th {\n",
       "        text-align: right;\n",
       "    }\n",
       "</style>\n",
       "<table border=\"1\" class=\"dataframe\">\n",
       "  <thead>\n",
       "    <tr>\n",
       "      <th></th>\n",
       "      <th>mean</th>\n",
       "      <th>median</th>\n",
       "      <th>std</th>\n",
       "    </tr>\n",
       "    <tr>\n",
       "      <th></th>\n",
       "      <th>rent amount (R$)</th>\n",
       "      <th>rent amount (R$)</th>\n",
       "      <th>rent amount (R$)</th>\n",
       "    </tr>\n",
       "    <tr>\n",
       "      <th>city</th>\n",
       "      <th></th>\n",
       "      <th></th>\n",
       "      <th></th>\n",
       "    </tr>\n",
       "  </thead>\n",
       "  <tbody>\n",
       "    <tr>\n",
       "      <th>Belo Horizonte</th>\n",
       "      <td>1092.593949</td>\n",
       "      <td>1100.0</td>\n",
       "      <td>289.229127</td>\n",
       "    </tr>\n",
       "    <tr>\n",
       "      <th>Campinas</th>\n",
       "      <td>1036.891718</td>\n",
       "      <td>1000.0</td>\n",
       "      <td>342.731177</td>\n",
       "    </tr>\n",
       "    <tr>\n",
       "      <th>Porto Alegre</th>\n",
       "      <td>1127.940130</td>\n",
       "      <td>1156.5</td>\n",
       "      <td>321.154575</td>\n",
       "    </tr>\n",
       "  </tbody>\n",
       "</table>\n",
       "</div>"
      ],
      "text/plain": [
       "                           mean           median              std\n",
       "               rent amount (R$) rent amount (R$) rent amount (R$)\n",
       "city                                                             \n",
       "Belo Horizonte      1092.593949           1100.0       289.229127\n",
       "Campinas            1036.891718           1000.0       342.731177\n",
       "Porto Alegre        1127.940130           1156.5       321.154575"
      ]
     },
     "execution_count": 35,
     "metadata": {},
     "output_type": "execute_result"
    }
   ],
   "source": [
    "pivot_table"
   ]
  },
  {
   "cell_type": "code",
   "execution_count": 65,
   "id": "6449f891",
   "metadata": {},
   "outputs": [
    {
     "data": {
      "image/png": "[encoded data removed]",
      "text/plain": [
       "<Figure size 1080x504 with 1 Axes>"
      ]
     },
     "metadata": {
      "needs_background": "light"
     },
     "output_type": "display_data"
    }
   ],
   "source": [
    "fig, ax = plt.subplots(figsize = (15, 7))\n",
    "bins=[1000,1500,2000,2500,3000,3500,4000,4500,5000]\n",
    "sns.histplot(x = \"total (R$)\", hue = \"city\", bins=bins,data=df_bachelors)\n",
    "plt.title('city wise total cost')\n",
    "plt.show()"
   ]
  },
  {
   "cell_type": "raw",
   "id": "77b26955",
   "metadata": {},
   "source": [
    "INTERPRETATION-The overall cost of living in Porto Alegre city is less expensive this is in between 1000 to 2000 .so bachelors can afford that money."
   ]
  },
  {
   "cell_type": "markdown",
   "id": "166f0578",
   "metadata": {},
   "source": [
    "# Porto Alegre city has a relatively low total cost of living compared to other cities in Brazil. Additionally, it has a high number of properties with a smaller area and 1 or 2 rooms, along with 1 parking space, making it suitable for bachelors. The city also has a higher acceptance rate for pets, which could be an important consideration for those who have pets. Therefore, Porto Alegre city is the best option for bachelors"
   ]
  },
  {
   "cell_type": "code",
   "execution_count": null,
   "id": "82a68f27",
   "metadata": {},
   "outputs": [],
   "source": []
  },
  {
   "cell_type": "markdown",
   "id": "0543864b",
   "metadata": {},
   "source": [
    "# BIVARIATE AND MULTIVARIATE  ANALYSIS FOR MID-SIZED FAMILIES"
   ]
  },
  {
   "cell_type": "code",
   "execution_count": 37,
   "id": "dd370ce3",
   "metadata": {},
   "outputs": [],
   "source": [
    "df_midsized=df11[(df11['rooms']<=3) & (df11['rooms']>=2)& (df11['bathroom']==2)\n",
    "                 &(df11['parking spaces']==2)]"
   ]
  },
  {
   "cell_type": "code",
   "execution_count": 38,
   "id": "39852c22",
   "metadata": {},
   "outputs": [
    {
     "data": {
      "text/html": [
       "<div>\n",
       "<style scoped>\n",
       "    .dataframe tbody tr th:only-of-type {\n",
       "        vertical-align: middle;\n",
       "    }\n",
       "\n",
       "    .dataframe tbody tr th {\n",
       "        vertical-align: top;\n",
       "    }\n",
       "\n",
       "    .dataframe thead th {\n",
       "        text-align: right;\n",
       "    }\n",
       "</style>\n",
       "<table border=\"1\" class=\"dataframe\">\n",
       "  <thead>\n",
       "    <tr style=\"text-align: right;\">\n",
       "      <th></th>\n",
       "      <th>city</th>\n",
       "      <th>area</th>\n",
       "      <th>rooms</th>\n",
       "      <th>bathroom</th>\n",
       "      <th>parking spaces</th>\n",
       "      <th>floor</th>\n",
       "      <th>animal</th>\n",
       "      <th>furniture</th>\n",
       "      <th>hoa (R$)</th>\n",
       "      <th>rent amount (R$)</th>\n",
       "      <th>property tax (R$)</th>\n",
       "      <th>fire insurance (R$)</th>\n",
       "      <th>total (R$)</th>\n",
       "    </tr>\n",
       "  </thead>\n",
       "  <tbody>\n",
       "    <tr>\n",
       "      <th>85</th>\n",
       "      <td>Belo Horizonte</td>\n",
       "      <td>75</td>\n",
       "      <td>2</td>\n",
       "      <td>2</td>\n",
       "      <td>2</td>\n",
       "      <td>14</td>\n",
       "      <td>not acept</td>\n",
       "      <td>not furnished</td>\n",
       "      <td>620</td>\n",
       "      <td>2500</td>\n",
       "      <td>264</td>\n",
       "      <td>34</td>\n",
       "      <td>3418</td>\n",
       "    </tr>\n",
       "    <tr>\n",
       "      <th>101</th>\n",
       "      <td>Porto Alegre</td>\n",
       "      <td>67</td>\n",
       "      <td>3</td>\n",
       "      <td>2</td>\n",
       "      <td>2</td>\n",
       "      <td>4</td>\n",
       "      <td>acept</td>\n",
       "      <td>not furnished</td>\n",
       "      <td>600</td>\n",
       "      <td>2200</td>\n",
       "      <td>50</td>\n",
       "      <td>33</td>\n",
       "      <td>2883</td>\n",
       "    </tr>\n",
       "    <tr>\n",
       "      <th>113</th>\n",
       "      <td>Campinas</td>\n",
       "      <td>80</td>\n",
       "      <td>2</td>\n",
       "      <td>2</td>\n",
       "      <td>2</td>\n",
       "      <td>11</td>\n",
       "      <td>acept</td>\n",
       "      <td>not furnished</td>\n",
       "      <td>832</td>\n",
       "      <td>2200</td>\n",
       "      <td>171</td>\n",
       "      <td>28</td>\n",
       "      <td>3231</td>\n",
       "    </tr>\n",
       "    <tr>\n",
       "      <th>122</th>\n",
       "      <td>Belo Horizonte</td>\n",
       "      <td>100</td>\n",
       "      <td>3</td>\n",
       "      <td>2</td>\n",
       "      <td>2</td>\n",
       "      <td>2</td>\n",
       "      <td>acept</td>\n",
       "      <td>not furnished</td>\n",
       "      <td>340</td>\n",
       "      <td>1600</td>\n",
       "      <td>183</td>\n",
       "      <td>22</td>\n",
       "      <td>2145</td>\n",
       "    </tr>\n",
       "    <tr>\n",
       "      <th>179</th>\n",
       "      <td>Belo Horizonte</td>\n",
       "      <td>90</td>\n",
       "      <td>2</td>\n",
       "      <td>2</td>\n",
       "      <td>2</td>\n",
       "      <td>3</td>\n",
       "      <td>acept</td>\n",
       "      <td>not furnished</td>\n",
       "      <td>200</td>\n",
       "      <td>2000</td>\n",
       "      <td>84</td>\n",
       "      <td>27</td>\n",
       "      <td>2311</td>\n",
       "    </tr>\n",
       "    <tr>\n",
       "      <th>...</th>\n",
       "      <td>...</td>\n",
       "      <td>...</td>\n",
       "      <td>...</td>\n",
       "      <td>...</td>\n",
       "      <td>...</td>\n",
       "      <td>...</td>\n",
       "      <td>...</td>\n",
       "      <td>...</td>\n",
       "      <td>...</td>\n",
       "      <td>...</td>\n",
       "      <td>...</td>\n",
       "      <td>...</td>\n",
       "      <td>...</td>\n",
       "    </tr>\n",
       "    <tr>\n",
       "      <th>10614</th>\n",
       "      <td>Campinas</td>\n",
       "      <td>67</td>\n",
       "      <td>2</td>\n",
       "      <td>2</td>\n",
       "      <td>2</td>\n",
       "      <td>12</td>\n",
       "      <td>acept</td>\n",
       "      <td>not furnished</td>\n",
       "      <td>800</td>\n",
       "      <td>1030</td>\n",
       "      <td>84</td>\n",
       "      <td>14</td>\n",
       "      <td>1928</td>\n",
       "    </tr>\n",
       "    <tr>\n",
       "      <th>10629</th>\n",
       "      <td>Campinas</td>\n",
       "      <td>83</td>\n",
       "      <td>2</td>\n",
       "      <td>2</td>\n",
       "      <td>2</td>\n",
       "      <td>1</td>\n",
       "      <td>acept</td>\n",
       "      <td>furnished</td>\n",
       "      <td>800</td>\n",
       "      <td>3700</td>\n",
       "      <td>234</td>\n",
       "      <td>47</td>\n",
       "      <td>4781</td>\n",
       "    </tr>\n",
       "    <tr>\n",
       "      <th>10635</th>\n",
       "      <td>Porto Alegre</td>\n",
       "      <td>100</td>\n",
       "      <td>3</td>\n",
       "      <td>2</td>\n",
       "      <td>2</td>\n",
       "      <td>2</td>\n",
       "      <td>acept</td>\n",
       "      <td>furnished</td>\n",
       "      <td>900</td>\n",
       "      <td>2455</td>\n",
       "      <td>125</td>\n",
       "      <td>36</td>\n",
       "      <td>3516</td>\n",
       "    </tr>\n",
       "    <tr>\n",
       "      <th>10651</th>\n",
       "      <td>Belo Horizonte</td>\n",
       "      <td>95</td>\n",
       "      <td>3</td>\n",
       "      <td>2</td>\n",
       "      <td>2</td>\n",
       "      <td>7</td>\n",
       "      <td>acept</td>\n",
       "      <td>not furnished</td>\n",
       "      <td>525</td>\n",
       "      <td>3100</td>\n",
       "      <td>219</td>\n",
       "      <td>42</td>\n",
       "      <td>3886</td>\n",
       "    </tr>\n",
       "    <tr>\n",
       "      <th>10673</th>\n",
       "      <td>Porto Alegre</td>\n",
       "      <td>220</td>\n",
       "      <td>3</td>\n",
       "      <td>2</td>\n",
       "      <td>2</td>\n",
       "      <td>15</td>\n",
       "      <td>acept</td>\n",
       "      <td>not furnished</td>\n",
       "      <td>842</td>\n",
       "      <td>2400</td>\n",
       "      <td>117</td>\n",
       "      <td>36</td>\n",
       "      <td>3395</td>\n",
       "    </tr>\n",
       "  </tbody>\n",
       "</table>\n",
       "<p>287 rows × 13 columns</p>\n",
       "</div>"
      ],
      "text/plain": [
       "                 city  area  rooms  bathroom  parking spaces  floor  \\\n",
       "85     Belo Horizonte    75      2         2               2     14   \n",
       "101      Porto Alegre    67      3         2               2      4   \n",
       "113          Campinas    80      2         2               2     11   \n",
       "122    Belo Horizonte   100      3         2               2      2   \n",
       "179    Belo Horizonte    90      2         2               2      3   \n",
       "...               ...   ...    ...       ...             ...    ...   \n",
       "10614        Campinas    67      2         2               2     12   \n",
       "10629        Campinas    83      2         2               2      1   \n",
       "10635    Porto Alegre   100      3         2               2      2   \n",
       "10651  Belo Horizonte    95      3         2               2      7   \n",
       "10673    Porto Alegre   220      3         2               2     15   \n",
       "\n",
       "          animal      furniture  hoa (R$)  rent amount (R$)  \\\n",
       "85     not acept  not furnished       620              2500   \n",
       "101        acept  not furnished       600              2200   \n",
       "113        acept  not furnished       832              2200   \n",
       "122        acept  not furnished       340              1600   \n",
       "179        acept  not furnished       200              2000   \n",
       "...          ...            ...       ...               ...   \n",
       "10614      acept  not furnished       800              1030   \n",
       "10629      acept      furnished       800              3700   \n",
       "10635      acept      furnished       900              2455   \n",
       "10651      acept  not furnished       525              3100   \n",
       "10673      acept  not furnished       842              2400   \n",
       "\n",
       "       property tax (R$)  fire insurance (R$)  total (R$)  \n",
       "85                   264                   34        3418  \n",
       "101                   50                   33        2883  \n",
       "113                  171                   28        3231  \n",
       "122                  183                   22        2145  \n",
       "179                   84                   27        2311  \n",
       "...                  ...                  ...         ...  \n",
       "10614                 84                   14        1928  \n",
       "10629                234                   47        4781  \n",
       "10635                125                   36        3516  \n",
       "10651                219                   42        3886  \n",
       "10673                117                   36        3395  \n",
       "\n",
       "[287 rows x 13 columns]"
      ]
     },
     "execution_count": 38,
     "metadata": {},
     "output_type": "execute_result"
    }
   ],
   "source": [
    "df_midsized"
   ]
  },
  {
   "cell_type": "code",
   "execution_count": 67,
   "id": "111736bc",
   "metadata": {},
   "outputs": [
    {
     "data": {
      "image/png": "[encoded data removed]",
      "text/plain": [
       "<Figure size 864x432 with 2 Axes>"
      ]
     },
     "metadata": {
      "needs_background": "light"
     },
     "output_type": "display_data"
    }
   ],
   "source": [
    "#relation between citi,rooms,bathrooms for mid-sized families\n",
    "fig,ax=plt.subplots(1,2,figsize=(12,6))\n",
    "sns.countplot(x='city',hue='rooms',data=df_midsized,ax=ax[0])\n",
    "ax[0].set_title('City-wise Room Count')\n",
    "sns.countplot(x='city',hue='bathroom',data=df_midsized)\n",
    "ax[1].set_title('City-wise BathRoom Count')\n",
    "plt.show()"
   ]
  },
  {
   "cell_type": "raw",
   "id": "e93fd071",
   "metadata": {},
   "source": [
    "INTERPRETATION-Belo Horizonte has a high number of houses with double and triple bedrooms,and 2 bathrooms  which makes it best suited for mid-sized families"
   ]
  },
  {
   "cell_type": "code",
   "execution_count": 68,
   "id": "eadec5f9",
   "metadata": {},
   "outputs": [
    {
     "data": {
      "image/png": "[encoded data removed]",
      "text/plain": [
       "<Figure size 864x432 with 2 Axes>"
      ]
     },
     "metadata": {
      "needs_background": "light"
     },
     "output_type": "display_data"
    }
   ],
   "source": [
    "fig,ax=plt.subplots(1,2,figsize=(12,6))\n",
    "sns.countplot(x='city',hue='parking spaces',data=df_midsized,ax=ax[0])\n",
    "ax[0].set_title('City-wise parking spaces Count')\n",
    "sns.countplot(x='city',hue='animal',data=df_midsized)\n",
    "ax[1].set_title('City-wise animalacceptance Count')\n",
    "plt.show()"
   ]
  },
  {
   "cell_type": "markdown",
   "id": "bbdf0df0",
   "metadata": {},
   "source": [
    "INTERPRETATION-Belo Horizonte has properties with 2 parking spaces and a high acceptance of pets, making it suitable for mid-sized families who have pets."
   ]
  },
  {
   "cell_type": "code",
   "execution_count": 69,
   "id": "82d9ce78",
   "metadata": {},
   "outputs": [
    {
     "data": {
      "image/png": "[encoded data removed]",
      "text/plain": [
       "<Figure size 864x432 with 2 Axes>"
      ]
     },
     "metadata": {
      "needs_background": "light"
     },
     "output_type": "display_data"
    }
   ],
   "source": [
    "#relation between city and area,furnished\n",
    "fig,ax=plt.subplots(1,2,figsize=(12,6))\n",
    "sns.countplot(x='city',hue='furniture',data=df_midsized,ax=ax[0])\n",
    "ax[0].set_title('City-wise furnishedhouses Count')\n",
    "bins=[100,150,200,250,300,350,400,450,500,600,650]\n",
    "sns.histplot(x='area',hue='city',data=df_midsized,bins=bins)\n",
    "ax[1].set_title('City-wise area Count')\n",
    "plt.show()"
   ]
  },
  {
   "cell_type": "raw",
   "id": "aeca7085",
   "metadata": {},
   "source": [
    "INTERPRETATION-The area of houses  in the Belo Horizonte city is in between  100 to 200 and it is the best option for the mid-sized families"
   ]
  },
  {
   "cell_type": "code",
   "execution_count": 72,
   "id": "89ce7585",
   "metadata": {},
   "outputs": [
    {
     "data": {
      "image/png": "[encoded data removed]",
      "text/plain": [
       "<Figure size 864x432 with 2 Axes>"
      ]
     },
     "metadata": {
      "needs_background": "light"
     },
     "output_type": "display_data"
    }
   ],
   "source": [
    "#relation between city and rent amount\n",
    "fig,ax=plt.subplots(1,2,figsize=(12,6))\n",
    "bins=[1000,1500,2000,2500,3000,3500,4000]\n",
    "sns.histplot(x='rent amount (R$)',hue='city',data=df_midsized,bins=bins,ax=ax[0])\n",
    "sns.boxplot(x='rent amount (R$)',y='city',data=df_midsized)\n",
    "plt.show()"
   ]
  },
  {
   "cell_type": "raw",
   "id": "f121d6d1",
   "metadata": {},
   "source": [
    "INTERPRETATION-The average rent for mid-sized families in Belo Horizonte city falls between 1500 to 2500, it is  an affordable option for the mid-sized families."
   ]
  },
  {
   "cell_type": "code",
   "execution_count": 70,
   "id": "1dc4508b",
   "metadata": {},
   "outputs": [
    {
     "data": {
      "text/plain": [
       "Int64Index([  196,   345,   424,   569,   609,   714,  1340,  1784,  1785,\n",
       "             1802,  2063,  2689,  2783,  2888,  2889,  2926,  3265,  3315,\n",
       "             3415,  3657,  3680,  3695,  4053,  4207,  4324,  4333,  4405,\n",
       "             4422,  4613,  4644,  4657,  4724,  4867,  5210,  5213,  5227,\n",
       "             5235,  5244,  5416,  5714,  5810,  6424,  6951,  7144,  7244,\n",
       "             7268,  7404,  7561,  8121,  8270,  8466,  8480,  8641,  8814,\n",
       "             8850,  9729,  9792,  9927, 10060, 10088, 10104, 10323, 10582,\n",
       "            10601, 10629, 10651],\n",
       "           dtype='int64')"
      ]
     },
     "execution_count": 70,
     "metadata": {},
     "output_type": "execute_result"
    }
   ],
   "source": [
    "#OUTLIER TREATMENT\n",
    "mean = df_midsized['rent amount (R$)'].mean()\n",
    "x = df_midsized[(df['rent amount (R$)'] > 3000)].index\n",
    "x"
   ]
  },
  {
   "cell_type": "code",
   "execution_count": 71,
   "id": "12b70bed",
   "metadata": {},
   "outputs": [],
   "source": [
    "for index in x:\n",
    "    df_midsized.loc[index, \"rent amount (R$)\"] = mean"
   ]
  },
  {
   "cell_type": "code",
   "execution_count": 45,
   "id": "b1142899",
   "metadata": {},
   "outputs": [],
   "source": [
    "#central tendency,measures of dispersion for rent amount\n",
    "pivot_table = pd.pivot_table(df_midsized, values='rent amount (R$)', index='city', aggfunc=['mean', 'median','std'])"
   ]
  },
  {
   "cell_type": "code",
   "execution_count": 46,
   "id": "442f6603",
   "metadata": {},
   "outputs": [
    {
     "data": {
      "text/html": [
       "<div>\n",
       "<style scoped>\n",
       "    .dataframe tbody tr th:only-of-type {\n",
       "        vertical-align: middle;\n",
       "    }\n",
       "\n",
       "    .dataframe tbody tr th {\n",
       "        vertical-align: top;\n",
       "    }\n",
       "\n",
       "    .dataframe thead tr th {\n",
       "        text-align: left;\n",
       "    }\n",
       "\n",
       "    .dataframe thead tr:last-of-type th {\n",
       "        text-align: right;\n",
       "    }\n",
       "</style>\n",
       "<table border=\"1\" class=\"dataframe\">\n",
       "  <thead>\n",
       "    <tr>\n",
       "      <th></th>\n",
       "      <th>mean</th>\n",
       "      <th>median</th>\n",
       "      <th>std</th>\n",
       "    </tr>\n",
       "    <tr>\n",
       "      <th></th>\n",
       "      <th>rent amount (R$)</th>\n",
       "      <th>rent amount (R$)</th>\n",
       "      <th>rent amount (R$)</th>\n",
       "    </tr>\n",
       "    <tr>\n",
       "      <th>city</th>\n",
       "      <th></th>\n",
       "      <th></th>\n",
       "      <th></th>\n",
       "    </tr>\n",
       "  </thead>\n",
       "  <tbody>\n",
       "    <tr>\n",
       "      <th>Belo Horizonte</th>\n",
       "      <td>2022.065051</td>\n",
       "      <td>2100.0</td>\n",
       "      <td>555.084651</td>\n",
       "    </tr>\n",
       "    <tr>\n",
       "      <th>Campinas</th>\n",
       "      <td>2121.424801</td>\n",
       "      <td>2200.0</td>\n",
       "      <td>466.211728</td>\n",
       "    </tr>\n",
       "    <tr>\n",
       "      <th>Porto Alegre</th>\n",
       "      <td>2371.579101</td>\n",
       "      <td>2500.0</td>\n",
       "      <td>379.307129</td>\n",
       "    </tr>\n",
       "  </tbody>\n",
       "</table>\n",
       "</div>"
      ],
      "text/plain": [
       "                           mean           median              std\n",
       "               rent amount (R$) rent amount (R$) rent amount (R$)\n",
       "city                                                             \n",
       "Belo Horizonte      2022.065051           2100.0       555.084651\n",
       "Campinas            2121.424801           2200.0       466.211728\n",
       "Porto Alegre        2371.579101           2500.0       379.307129"
      ]
     },
     "execution_count": 46,
     "metadata": {},
     "output_type": "execute_result"
    }
   ],
   "source": [
    "pivot_table"
   ]
  },
  {
   "cell_type": "code",
   "execution_count": 73,
   "id": "d40a9bab",
   "metadata": {},
   "outputs": [
    {
     "data": {
      "image/png": "[encoded data removed]",
      "text/plain": [
       "<Figure size 936x432 with 1 Axes>"
      ]
     },
     "metadata": {
      "needs_background": "light"
     },
     "output_type": "display_data"
    }
   ],
   "source": [
    "fig, ax = plt.subplots(figsize = (13, 6))\n",
    "bins=[1000,1500,2000,2500,3000,3500,4000,4500,5000]\n",
    "sns.histplot(x = \"total (R$)\", hue = \"city\", bins=bins,data=df_midsized)\n",
    "plt.title('city wise total cost')\n",
    "plt.show()"
   ]
  },
  {
   "cell_type": "raw",
   "id": "6943b939",
   "metadata": {},
   "source": [
    "Interpretation-The total cost of properties in Belo Horizonte city ranges from 2000 to 3500, which is an affordable price range for mid-sized families"
   ]
  },
  {
   "cell_type": "markdown",
   "id": "e79ec828",
   "metadata": {},
   "source": [
    "# Belo Horizonte city is an best option for mid-sized families as it has a high number of properties with 3 bedrooms and 2 bathrooms. These properties have an area ranging between 100 to 200 square meters and a total cost ranging between 2000 to 3500, which is an affordable price range for mid-sized families. The city also has a good acceptance rate for pets, which could be an important consideration for those who have pets. Therefore, Belo Horizonte city is the best option for mid-sized families ."
   ]
  },
  {
   "cell_type": "markdown",
   "id": "3b6f7363",
   "metadata": {},
   "source": [
    "# BIVARIATE AND MULTIVARIATE ANALYSIS FOR LARGE-SIZED FAMILIES"
   ]
  },
  {
   "cell_type": "code",
   "execution_count": 48,
   "id": "0eff6408",
   "metadata": {},
   "outputs": [],
   "source": [
    "df_largesized=df11[(df11['rooms']>=4) &  (df11['bathroom']>=3) &  (df11['parking spaces']>=3)\n",
    "                   & (df11['furniture']=='furnished')]"
   ]
  },
  {
   "cell_type": "code",
   "execution_count": 49,
   "id": "429860f8",
   "metadata": {},
   "outputs": [
    {
     "data": {
      "text/html": [
       "<div>\n",
       "<style scoped>\n",
       "    .dataframe tbody tr th:only-of-type {\n",
       "        vertical-align: middle;\n",
       "    }\n",
       "\n",
       "    .dataframe tbody tr th {\n",
       "        vertical-align: top;\n",
       "    }\n",
       "\n",
       "    .dataframe thead th {\n",
       "        text-align: right;\n",
       "    }\n",
       "</style>\n",
       "<table border=\"1\" class=\"dataframe\">\n",
       "  <thead>\n",
       "    <tr style=\"text-align: right;\">\n",
       "      <th></th>\n",
       "      <th>city</th>\n",
       "      <th>area</th>\n",
       "      <th>rooms</th>\n",
       "      <th>bathroom</th>\n",
       "      <th>parking spaces</th>\n",
       "      <th>floor</th>\n",
       "      <th>animal</th>\n",
       "      <th>furniture</th>\n",
       "      <th>hoa (R$)</th>\n",
       "      <th>rent amount (R$)</th>\n",
       "      <th>property tax (R$)</th>\n",
       "      <th>fire insurance (R$)</th>\n",
       "      <th>total (R$)</th>\n",
       "    </tr>\n",
       "  </thead>\n",
       "  <tbody>\n",
       "    <tr>\n",
       "      <th>15</th>\n",
       "      <td>Campinas</td>\n",
       "      <td>330</td>\n",
       "      <td>4</td>\n",
       "      <td>6</td>\n",
       "      <td>6</td>\n",
       "      <td>0</td>\n",
       "      <td>acept</td>\n",
       "      <td>furnished</td>\n",
       "      <td>680</td>\n",
       "      <td>8000</td>\n",
       "      <td>328</td>\n",
       "      <td>121</td>\n",
       "      <td>9129</td>\n",
       "    </tr>\n",
       "    <tr>\n",
       "      <th>91</th>\n",
       "      <td>Porto Alegre</td>\n",
       "      <td>350</td>\n",
       "      <td>4</td>\n",
       "      <td>4</td>\n",
       "      <td>4</td>\n",
       "      <td>0</td>\n",
       "      <td>acept</td>\n",
       "      <td>furnished</td>\n",
       "      <td>1</td>\n",
       "      <td>9000</td>\n",
       "      <td>359</td>\n",
       "      <td>160</td>\n",
       "      <td>9520</td>\n",
       "    </tr>\n",
       "    <tr>\n",
       "      <th>241</th>\n",
       "      <td>Belo Horizonte</td>\n",
       "      <td>570</td>\n",
       "      <td>5</td>\n",
       "      <td>6</td>\n",
       "      <td>7</td>\n",
       "      <td>0</td>\n",
       "      <td>acept</td>\n",
       "      <td>furnished</td>\n",
       "      <td>0</td>\n",
       "      <td>8330</td>\n",
       "      <td>873</td>\n",
       "      <td>137</td>\n",
       "      <td>9340</td>\n",
       "    </tr>\n",
       "    <tr>\n",
       "      <th>346</th>\n",
       "      <td>Belo Horizonte</td>\n",
       "      <td>204</td>\n",
       "      <td>4</td>\n",
       "      <td>4</td>\n",
       "      <td>4</td>\n",
       "      <td>22</td>\n",
       "      <td>not acept</td>\n",
       "      <td>furnished</td>\n",
       "      <td>2701</td>\n",
       "      <td>10000</td>\n",
       "      <td>760</td>\n",
       "      <td>134</td>\n",
       "      <td>13600</td>\n",
       "    </tr>\n",
       "    <tr>\n",
       "      <th>538</th>\n",
       "      <td>Belo Horizonte</td>\n",
       "      <td>428</td>\n",
       "      <td>5</td>\n",
       "      <td>5</td>\n",
       "      <td>4</td>\n",
       "      <td>0</td>\n",
       "      <td>acept</td>\n",
       "      <td>furnished</td>\n",
       "      <td>0</td>\n",
       "      <td>9600</td>\n",
       "      <td>667</td>\n",
       "      <td>158</td>\n",
       "      <td>10430</td>\n",
       "    </tr>\n",
       "    <tr>\n",
       "      <th>...</th>\n",
       "      <td>...</td>\n",
       "      <td>...</td>\n",
       "      <td>...</td>\n",
       "      <td>...</td>\n",
       "      <td>...</td>\n",
       "      <td>...</td>\n",
       "      <td>...</td>\n",
       "      <td>...</td>\n",
       "      <td>...</td>\n",
       "      <td>...</td>\n",
       "      <td>...</td>\n",
       "      <td>...</td>\n",
       "      <td>...</td>\n",
       "    </tr>\n",
       "    <tr>\n",
       "      <th>9888</th>\n",
       "      <td>Belo Horizonte</td>\n",
       "      <td>802</td>\n",
       "      <td>6</td>\n",
       "      <td>6</td>\n",
       "      <td>8</td>\n",
       "      <td>0</td>\n",
       "      <td>acept</td>\n",
       "      <td>furnished</td>\n",
       "      <td>0</td>\n",
       "      <td>15000</td>\n",
       "      <td>1003</td>\n",
       "      <td>246</td>\n",
       "      <td>16250</td>\n",
       "    </tr>\n",
       "    <tr>\n",
       "      <th>9909</th>\n",
       "      <td>Belo Horizonte</td>\n",
       "      <td>260</td>\n",
       "      <td>4</td>\n",
       "      <td>3</td>\n",
       "      <td>3</td>\n",
       "      <td>4</td>\n",
       "      <td>acept</td>\n",
       "      <td>furnished</td>\n",
       "      <td>2650</td>\n",
       "      <td>3300</td>\n",
       "      <td>555</td>\n",
       "      <td>44</td>\n",
       "      <td>6549</td>\n",
       "    </tr>\n",
       "    <tr>\n",
       "      <th>9989</th>\n",
       "      <td>Campinas</td>\n",
       "      <td>295</td>\n",
       "      <td>7</td>\n",
       "      <td>6</td>\n",
       "      <td>4</td>\n",
       "      <td>0</td>\n",
       "      <td>not acept</td>\n",
       "      <td>furnished</td>\n",
       "      <td>0</td>\n",
       "      <td>6200</td>\n",
       "      <td>334</td>\n",
       "      <td>94</td>\n",
       "      <td>6628</td>\n",
       "    </tr>\n",
       "    <tr>\n",
       "      <th>10172</th>\n",
       "      <td>Belo Horizonte</td>\n",
       "      <td>260</td>\n",
       "      <td>4</td>\n",
       "      <td>4</td>\n",
       "      <td>6</td>\n",
       "      <td>10</td>\n",
       "      <td>acept</td>\n",
       "      <td>furnished</td>\n",
       "      <td>3200</td>\n",
       "      <td>11900</td>\n",
       "      <td>12500</td>\n",
       "      <td>159</td>\n",
       "      <td>27760</td>\n",
       "    </tr>\n",
       "    <tr>\n",
       "      <th>10342</th>\n",
       "      <td>Belo Horizonte</td>\n",
       "      <td>300</td>\n",
       "      <td>4</td>\n",
       "      <td>4</td>\n",
       "      <td>4</td>\n",
       "      <td>17</td>\n",
       "      <td>acept</td>\n",
       "      <td>furnished</td>\n",
       "      <td>1200</td>\n",
       "      <td>7500</td>\n",
       "      <td>436</td>\n",
       "      <td>100</td>\n",
       "      <td>9236</td>\n",
       "    </tr>\n",
       "  </tbody>\n",
       "</table>\n",
       "<p>69 rows × 13 columns</p>\n",
       "</div>"
      ],
      "text/plain": [
       "                 city  area  rooms  bathroom  parking spaces  floor  \\\n",
       "15           Campinas   330      4         6               6      0   \n",
       "91       Porto Alegre   350      4         4               4      0   \n",
       "241    Belo Horizonte   570      5         6               7      0   \n",
       "346    Belo Horizonte   204      4         4               4     22   \n",
       "538    Belo Horizonte   428      5         5               4      0   \n",
       "...               ...   ...    ...       ...             ...    ...   \n",
       "9888   Belo Horizonte   802      6         6               8      0   \n",
       "9909   Belo Horizonte   260      4         3               3      4   \n",
       "9989         Campinas   295      7         6               4      0   \n",
       "10172  Belo Horizonte   260      4         4               6     10   \n",
       "10342  Belo Horizonte   300      4         4               4     17   \n",
       "\n",
       "          animal  furniture  hoa (R$)  rent amount (R$)  property tax (R$)  \\\n",
       "15         acept  furnished       680              8000                328   \n",
       "91         acept  furnished         1              9000                359   \n",
       "241        acept  furnished         0              8330                873   \n",
       "346    not acept  furnished      2701             10000                760   \n",
       "538        acept  furnished         0              9600                667   \n",
       "...          ...        ...       ...               ...                ...   \n",
       "9888       acept  furnished         0             15000               1003   \n",
       "9909       acept  furnished      2650              3300                555   \n",
       "9989   not acept  furnished         0              6200                334   \n",
       "10172      acept  furnished      3200             11900              12500   \n",
       "10342      acept  furnished      1200              7500                436   \n",
       "\n",
       "       fire insurance (R$)  total (R$)  \n",
       "15                     121        9129  \n",
       "91                     160        9520  \n",
       "241                    137        9340  \n",
       "346                    134       13600  \n",
       "538                    158       10430  \n",
       "...                    ...         ...  \n",
       "9888                   246       16250  \n",
       "9909                    44        6549  \n",
       "9989                    94        6628  \n",
       "10172                  159       27760  \n",
       "10342                  100        9236  \n",
       "\n",
       "[69 rows x 13 columns]"
      ]
     },
     "execution_count": 49,
     "metadata": {},
     "output_type": "execute_result"
    }
   ],
   "source": [
    "df_largesized"
   ]
  },
  {
   "cell_type": "code",
   "execution_count": 50,
   "id": "d921fbb6",
   "metadata": {},
   "outputs": [
    {
     "data": {
      "image/png": "[encoded data removed]",
      "text/plain": [
       "<Figure size 864x432 with 2 Axes>"
      ]
     },
     "metadata": {
      "needs_background": "light"
     },
     "output_type": "display_data"
    }
   ],
   "source": [
    "#relation between city,rooms,bathrooms for large-sized families\n",
    "fig,ax=plt.subplots(1,2,figsize=(12,6))\n",
    "sns.countplot(x='city',hue='rooms',data=df_largesized,ax=ax[0])\n",
    "sns.countplot(x='city',hue='bathroom',data=df_largesized)\n",
    "plt.show()"
   ]
  },
  {
   "cell_type": "raw",
   "id": "d512e08e",
   "metadata": {},
   "source": [
    "INTERPRETATION-Belo Horizonte city has a high number of houses with four bedrooms and a high count of four-bathroom houses, making it suitable for large-sized families\n"
   ]
  },
  {
   "cell_type": "code",
   "execution_count": 74,
   "id": "d96d5432",
   "metadata": {},
   "outputs": [
    {
     "data": {
      "image/png": "[encoded data removed]",
      "text/plain": [
       "<Figure size 864x432 with 2 Axes>"
      ]
     },
     "metadata": {
      "needs_background": "light"
     },
     "output_type": "display_data"
    }
   ],
   "source": [
    "#relation between city,parking spaces,animal for large-sized families\n",
    "fig,ax=plt.subplots(1,2,figsize=(12,6))\n",
    "sns.countplot(x='city',hue='parking spaces',data=df_largesized,ax=ax[0])\n",
    "ax[0].set_title('city wise parking spaces count')\n",
    "sns.countplot(x='city',hue='animal',data=df_largesized)\n",
    "ax[1].set_title('city wise animalacceptance count')\n",
    "plt.show()"
   ]
  },
  {
   "cell_type": "raw",
   "id": "a41300af",
   "metadata": {},
   "source": [
    "INTERPRETATION-Belo Horizonte city has a high number of houses with 3 and 4 parking spaces and high acceptance of pets, making it suitable for large-sized  families who have pets."
   ]
  },
  {
   "cell_type": "code",
   "execution_count": 75,
   "id": "86cd199e",
   "metadata": {},
   "outputs": [
    {
     "data": {
      "image/png": "[encoded data removed]",
      "text/plain": [
       "<Figure size 864x432 with 2 Axes>"
      ]
     },
     "metadata": {
      "needs_background": "light"
     },
     "output_type": "display_data"
    }
   ],
   "source": [
    "#relation between city and area,furnished\n",
    "fig,ax=plt.subplots(1,2,figsize=(12,6))\n",
    "sns.countplot(x='city',hue='furniture',data=df_largesized,ax=ax[0])\n",
    "ax[0].set_title('city wise furnishedhouses count')\n",
    "bins=[200,250,300,350,400,450,500,600,650]\n",
    "sns.histplot(x='area',hue='city',data=df_largesized,bins=bins)\n",
    "ax[1].set_title('city wise area count')\n",
    "plt.show()"
   ]
  },
  {
   "cell_type": "raw",
   "id": "2b28b4cd",
   "metadata": {},
   "source": [
    "INTERPRETATION-Belo Horizonte city has a high number of furnished houses with an area ranging between 200 to 600 square meters, making it suitable for large-sized families"
   ]
  },
  {
   "cell_type": "code",
   "execution_count": 53,
   "id": "56278917",
   "metadata": {},
   "outputs": [
    {
     "data": {
      "image/png": "[encoded data removed]",
      "text/plain": [
       "<Figure size 864x432 with 2 Axes>"
      ]
     },
     "metadata": {
      "needs_background": "light"
     },
     "output_type": "display_data"
    }
   ],
   "source": [
    "#relation between city and rent amount FOR LARGE SIZED FAMILIES\n",
    "fig,ax=plt.subplots(1,2,figsize=(12,6))\n",
    "bins=[2000,2500,3000,3500,4000,5000,6000]\n",
    "sns.histplot(x='rent amount (R$)',hue='city',data=df_largesized,bins=bins,ax=ax[0])\n",
    "sns.boxplot(x='rent amount (R$)',y='city',data=df_largesized)\n",
    "plt.show()"
   ]
  },
  {
   "cell_type": "raw",
   "id": "fb5d044b",
   "metadata": {},
   "source": [
    "INTERPRETATION-The rent amount of houses in Belo Horizonte city  falls within the range of 6500 to 12000, which may be affordable for large-sized families."
   ]
  },
  {
   "cell_type": "code",
   "execution_count": 76,
   "id": "015fd9cc",
   "metadata": {},
   "outputs": [
    {
     "data": {
      "image/png": "[encoded data removed]",
      "text/plain": [
       "<Figure size 936x432 with 1 Axes>"
      ]
     },
     "metadata": {
      "needs_background": "light"
     },
     "output_type": "display_data"
    }
   ],
   "source": [
    "fig, ax = plt.subplots(figsize = (13, 6))\n",
    "bins=[1000,2000,3000,4000,5000,6000,7000]\n",
    "sns.histplot(x = \"total (R$)\", hue = \"city\", bins=bins,data=df_largesized)\n",
    "plt.title('city wise total cost')\n",
    "plt.show()"
   ]
  },
  {
   "cell_type": "code",
   "execution_count": 55,
   "id": "729c5ee4",
   "metadata": {},
   "outputs": [
    {
     "ename": "SyntaxError",
     "evalue": "invalid syntax (Temp/ipykernel_7740/4038786487.py, line 1)",
     "output_type": "error",
     "traceback": [
      "\u001b[1;36m  File \u001b[1;32m\"C:\\Users\\vijaya\\AppData\\Local\\Temp/ipykernel_7740/4038786487.py\"\u001b[1;36m, line \u001b[1;32m1\u001b[0m\n\u001b[1;33m    INTERPRETATION-The total cost of living in Belo Horizonton city is in between 6000 and 7000.\u001b[0m\n\u001b[1;37m                       ^\u001b[0m\n\u001b[1;31mSyntaxError\u001b[0m\u001b[1;31m:\u001b[0m invalid syntax\n"
     ]
    }
   ],
   "source": [
    "INTERPRETATION-The total cost of living in Belo Horizonton city is in between 6000 and 7000."
   ]
  },
  {
   "cell_type": "markdown",
   "id": "72805d8e",
   "metadata": {},
   "source": [
    "# Belo Horizonte city is an best option for large-sized families as it has a high number of properties with morethan 4 bedrooms and 3 bathrooms. And also this city high number of furnished houses.These properties have an area ranging between 250 to 600 square meters and a total cost ranging between 6000 to 7000, which is an affordable price range for large-sized families. The city also has a good acceptance rate for pets, which could be an important consideration for those who have pets. Therefore, Belo Horizonte city is the best option for large-sized families"
   ]
  }
 ],
 "metadata": {
  "kernelspec": {
   "display_name": "Python 3 (ipykernel)",
   "language": "python",
   "name": "python3"
  },
  "language_info": {
   "codemirror_mode": {
    "name": "ipython",
    "version": 3
   },
   "file_extension": ".py",
   "mimetype": "text/x-python",
   "name": "python",
   "nbconvert_exporter": "python",
   "pygments_lexer": "ipython3",
   "version": "3.9.7"
  }
 },
 "nbformat": 4,
 "nbformat_minor": 5
}
