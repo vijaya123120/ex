{
 "cells": [
  {
   "cell_type": "code",
   "execution_count": 1,
   "id": "0009db67",
   "metadata": {},
   "outputs": [],
   "source": [
    "import numpy as np\n",
    "import pandas as pd\n",
    "import matplotlib.pyplot as plt\n",
    "import seaborn as sns\n",
    "from tabulate import  tabulate\n",
    "import warnings\n",
    "warnings.filterwarnings(\"ignore\")"
   ]
  },
  {
   "cell_type": "code",
   "execution_count": 2,
   "id": "6019f3b1",
   "metadata": {},
   "outputs": [],
   "source": [
    "df=pd.read_csv('DS1_C5_S4_Credit_Data_Hackathon.csv')"
   ]
  },
  {
   "cell_type": "code",
   "execution_count": 3,
   "id": "d25f20b3",
   "metadata": {},
   "outputs": [
    {
     "data": {
      "text/html": [
       "<div>\n",
       "<style scoped>\n",
       "    .dataframe tbody tr th:only-of-type {\n",
       "        vertical-align: middle;\n",
       "    }\n",
       "\n",
       "    .dataframe tbody tr th {\n",
       "        vertical-align: top;\n",
       "    }\n",
       "\n",
       "    .dataframe thead th {\n",
       "        text-align: right;\n",
       "    }\n",
       "</style>\n",
       "<table border=\"1\" class=\"dataframe\">\n",
       "  <thead>\n",
       "    <tr style=\"text-align: right;\">\n",
       "      <th></th>\n",
       "      <th>SK_ID_CURR</th>\n",
       "      <th>TARGET</th>\n",
       "      <th>NAME_CONTRACT_TYPE</th>\n",
       "      <th>GENDER</th>\n",
       "      <th>Car</th>\n",
       "      <th>House</th>\n",
       "      <th>CNT_CHILDREN</th>\n",
       "      <th>AMT_INCOME_TOTAL</th>\n",
       "      <th>AMT_CREDIT</th>\n",
       "      <th>AMT_GOODS_PRICE</th>\n",
       "      <th>...</th>\n",
       "      <th>DAYS_EMPLOYED</th>\n",
       "      <th>MOBILE</th>\n",
       "      <th>WORK_PHONE</th>\n",
       "      <th>HOME_PHONE</th>\n",
       "      <th>MOBILE_REACHABLE</th>\n",
       "      <th>FLAG_EMAIL</th>\n",
       "      <th>OCCUPATION_TYPE</th>\n",
       "      <th>CNT_FAM_MEMBERS</th>\n",
       "      <th>APPLICATION_DAY</th>\n",
       "      <th>TOTAL_DOC_SUBMITTED</th>\n",
       "    </tr>\n",
       "  </thead>\n",
       "  <tbody>\n",
       "    <tr>\n",
       "      <th>0</th>\n",
       "      <td>100002</td>\n",
       "      <td>1</td>\n",
       "      <td>Cash loans</td>\n",
       "      <td>M</td>\n",
       "      <td>N</td>\n",
       "      <td>Y</td>\n",
       "      <td>0</td>\n",
       "      <td>202500.0</td>\n",
       "      <td>406597.5</td>\n",
       "      <td>351000.0</td>\n",
       "      <td>...</td>\n",
       "      <td>-637</td>\n",
       "      <td>1</td>\n",
       "      <td>1</td>\n",
       "      <td>0</td>\n",
       "      <td>1</td>\n",
       "      <td>0</td>\n",
       "      <td>Laborers</td>\n",
       "      <td>1.0</td>\n",
       "      <td>WEDNESDAY</td>\n",
       "      <td>1</td>\n",
       "    </tr>\n",
       "    <tr>\n",
       "      <th>1</th>\n",
       "      <td>100003</td>\n",
       "      <td>0</td>\n",
       "      <td>Cash loans</td>\n",
       "      <td>F</td>\n",
       "      <td>N</td>\n",
       "      <td>N</td>\n",
       "      <td>0</td>\n",
       "      <td>270000.0</td>\n",
       "      <td>1293502.5</td>\n",
       "      <td>1129500.0</td>\n",
       "      <td>...</td>\n",
       "      <td>-1188</td>\n",
       "      <td>1</td>\n",
       "      <td>1</td>\n",
       "      <td>0</td>\n",
       "      <td>1</td>\n",
       "      <td>0</td>\n",
       "      <td>Core staff</td>\n",
       "      <td>2.0</td>\n",
       "      <td>MONDAY</td>\n",
       "      <td>1</td>\n",
       "    </tr>\n",
       "    <tr>\n",
       "      <th>2</th>\n",
       "      <td>100004</td>\n",
       "      <td>0</td>\n",
       "      <td>Revolving loans</td>\n",
       "      <td>M</td>\n",
       "      <td>Y</td>\n",
       "      <td>Y</td>\n",
       "      <td>0</td>\n",
       "      <td>67500.0</td>\n",
       "      <td>135000.0</td>\n",
       "      <td>135000.0</td>\n",
       "      <td>...</td>\n",
       "      <td>-225</td>\n",
       "      <td>1</td>\n",
       "      <td>1</td>\n",
       "      <td>1</td>\n",
       "      <td>1</td>\n",
       "      <td>0</td>\n",
       "      <td>Laborers</td>\n",
       "      <td>1.0</td>\n",
       "      <td>MONDAY</td>\n",
       "      <td>0</td>\n",
       "    </tr>\n",
       "    <tr>\n",
       "      <th>3</th>\n",
       "      <td>100006</td>\n",
       "      <td>0</td>\n",
       "      <td>Cash loans</td>\n",
       "      <td>F</td>\n",
       "      <td>N</td>\n",
       "      <td>Y</td>\n",
       "      <td>0</td>\n",
       "      <td>135000.0</td>\n",
       "      <td>312682.5</td>\n",
       "      <td>297000.0</td>\n",
       "      <td>...</td>\n",
       "      <td>-3039</td>\n",
       "      <td>1</td>\n",
       "      <td>1</td>\n",
       "      <td>0</td>\n",
       "      <td>1</td>\n",
       "      <td>0</td>\n",
       "      <td>Laborers</td>\n",
       "      <td>2.0</td>\n",
       "      <td>WEDNESDAY</td>\n",
       "      <td>1</td>\n",
       "    </tr>\n",
       "    <tr>\n",
       "      <th>4</th>\n",
       "      <td>100007</td>\n",
       "      <td>0</td>\n",
       "      <td>Cash loans</td>\n",
       "      <td>M</td>\n",
       "      <td>N</td>\n",
       "      <td>Y</td>\n",
       "      <td>0</td>\n",
       "      <td>121500.0</td>\n",
       "      <td>513000.0</td>\n",
       "      <td>513000.0</td>\n",
       "      <td>...</td>\n",
       "      <td>-3038</td>\n",
       "      <td>1</td>\n",
       "      <td>1</td>\n",
       "      <td>0</td>\n",
       "      <td>1</td>\n",
       "      <td>0</td>\n",
       "      <td>Core staff</td>\n",
       "      <td>1.0</td>\n",
       "      <td>THURSDAY</td>\n",
       "      <td>1</td>\n",
       "    </tr>\n",
       "  </tbody>\n",
       "</table>\n",
       "<p>5 rows × 24 columns</p>\n",
       "</div>"
      ],
      "text/plain": [
       "   SK_ID_CURR  TARGET NAME_CONTRACT_TYPE GENDER Car House  CNT_CHILDREN  \\\n",
       "0      100002       1         Cash loans      M   N     Y             0   \n",
       "1      100003       0         Cash loans      F   N     N             0   \n",
       "2      100004       0    Revolving loans      M   Y     Y             0   \n",
       "3      100006       0         Cash loans      F   N     Y             0   \n",
       "4      100007       0         Cash loans      M   N     Y             0   \n",
       "\n",
       "   AMT_INCOME_TOTAL  AMT_CREDIT  AMT_GOODS_PRICE  ... DAYS_EMPLOYED MOBILE  \\\n",
       "0          202500.0    406597.5         351000.0  ...          -637      1   \n",
       "1          270000.0   1293502.5        1129500.0  ...         -1188      1   \n",
       "2           67500.0    135000.0         135000.0  ...          -225      1   \n",
       "3          135000.0    312682.5         297000.0  ...         -3039      1   \n",
       "4          121500.0    513000.0         513000.0  ...         -3038      1   \n",
       "\n",
       "  WORK_PHONE HOME_PHONE  MOBILE_REACHABLE  FLAG_EMAIL  OCCUPATION_TYPE  \\\n",
       "0          1          0                 1           0         Laborers   \n",
       "1          1          0                 1           0       Core staff   \n",
       "2          1          1                 1           0         Laborers   \n",
       "3          1          0                 1           0         Laborers   \n",
       "4          1          0                 1           0       Core staff   \n",
       "\n",
       "   CNT_FAM_MEMBERS  APPLICATION_DAY  TOTAL_DOC_SUBMITTED  \n",
       "0              1.0        WEDNESDAY                    1  \n",
       "1              2.0           MONDAY                    1  \n",
       "2              1.0           MONDAY                    0  \n",
       "3              2.0        WEDNESDAY                    1  \n",
       "4              1.0         THURSDAY                    1  \n",
       "\n",
       "[5 rows x 24 columns]"
      ]
     },
     "execution_count": 3,
     "metadata": {},
     "output_type": "execute_result"
    }
   ],
   "source": [
    "df.head()"
   ]
  },
  {
   "cell_type": "markdown",
   "id": "116f2aed",
   "metadata": {},
   "source": [
    "# LEVEL 0 -DATA PREPROCESSING AND DATA CLEANING"
   ]
  },
  {
   "cell_type": "code",
   "execution_count": 4,
   "id": "51940e24",
   "metadata": {},
   "outputs": [
    {
     "data": {
      "text/plain": [
       "(100000, 24)"
      ]
     },
     "execution_count": 4,
     "metadata": {},
     "output_type": "execute_result"
    }
   ],
   "source": [
    "#shAPES OF dataset\n",
    "df.shape"
   ]
  },
  {
   "cell_type": "code",
   "execution_count": 5,
   "id": "099847fb",
   "metadata": {},
   "outputs": [
    {
     "data": {
      "text/plain": [
       "Index(['SK_ID_CURR', 'TARGET', 'NAME_CONTRACT_TYPE', 'GENDER', 'Car', 'House',\n",
       "       'CNT_CHILDREN', 'AMT_INCOME_TOTAL', 'AMT_CREDIT', 'AMT_GOODS_PRICE',\n",
       "       'NAME_TYPE_SUITE', 'NAME_INCOME_TYPE', 'NAME_EDUCATION_TYPE',\n",
       "       'NAME_FAMILY_STATUS', 'DAYS_EMPLOYED', 'MOBILE', 'WORK_PHONE',\n",
       "       'HOME_PHONE', 'MOBILE_REACHABLE', 'FLAG_EMAIL', 'OCCUPATION_TYPE',\n",
       "       'CNT_FAM_MEMBERS', 'APPLICATION_DAY', 'TOTAL_DOC_SUBMITTED'],\n",
       "      dtype='object')"
      ]
     },
     "execution_count": 5,
     "metadata": {},
     "output_type": "execute_result"
    }
   ],
   "source": [
    "#columns names\n",
    "df.columns"
   ]
  },
  {
   "cell_type": "code",
   "execution_count": 6,
   "id": "e169b6c9",
   "metadata": {},
   "outputs": [
    {
     "name": "stdout",
     "output_type": "stream",
     "text": [
      "<class 'pandas.core.frame.DataFrame'>\n",
      "RangeIndex: 100000 entries, 0 to 99999\n",
      "Data columns (total 24 columns):\n",
      " #   Column               Non-Null Count   Dtype  \n",
      "---  ------               --------------   -----  \n",
      " 0   SK_ID_CURR           100000 non-null  int64  \n",
      " 1   TARGET               100000 non-null  int64  \n",
      " 2   NAME_CONTRACT_TYPE   100000 non-null  object \n",
      " 3   GENDER               100000 non-null  object \n",
      " 4   Car                  100000 non-null  object \n",
      " 5   House                100000 non-null  object \n",
      " 6   CNT_CHILDREN         100000 non-null  int64  \n",
      " 7   AMT_INCOME_TOTAL     100000 non-null  float64\n",
      " 8   AMT_CREDIT           100000 non-null  float64\n",
      " 9   AMT_GOODS_PRICE      99919 non-null   float64\n",
      " 10  NAME_TYPE_SUITE      99595 non-null   object \n",
      " 11  NAME_INCOME_TYPE     100000 non-null  object \n",
      " 12  NAME_EDUCATION_TYPE  100000 non-null  object \n",
      " 13  NAME_FAMILY_STATUS   100000 non-null  object \n",
      " 14  DAYS_EMPLOYED        100000 non-null  int64  \n",
      " 15  MOBILE               100000 non-null  int64  \n",
      " 16  WORK_PHONE           100000 non-null  int64  \n",
      " 17  HOME_PHONE           100000 non-null  int64  \n",
      " 18  MOBILE_REACHABLE     100000 non-null  int64  \n",
      " 19  FLAG_EMAIL           100000 non-null  int64  \n",
      " 20  OCCUPATION_TYPE      68776 non-null   object \n",
      " 21  CNT_FAM_MEMBERS      99999 non-null   float64\n",
      " 22  APPLICATION_DAY      100000 non-null  object \n",
      " 23  TOTAL_DOC_SUBMITTED  100000 non-null  int64  \n",
      "dtypes: float64(4), int64(10), object(10)\n",
      "memory usage: 18.3+ MB\n"
     ]
    }
   ],
   "source": [
    "df.info()"
   ]
  },
  {
   "cell_type": "code",
   "execution_count": 7,
   "id": "5a04c009",
   "metadata": {
    "scrolled": true
   },
   "outputs": [
    {
     "name": "stdout",
     "output_type": "stream",
     "text": [
      "<class 'pandas.core.frame.DataFrame'>\n",
      "RangeIndex: 100000 entries, 0 to 99999\n",
      "Data columns (total 24 columns):\n",
      " #   Column               Non-Null Count   Dtype  \n",
      "---  ------               --------------   -----  \n",
      " 0   SK_ID_CURR           100000 non-null  int64  \n",
      " 1   TARGET               100000 non-null  int64  \n",
      " 2   NAME_CONTRACT_TYPE   100000 non-null  object \n",
      " 3   GENDER               100000 non-null  object \n",
      " 4   Car                  100000 non-null  object \n",
      " 5   House                100000 non-null  object \n",
      " 6   CNT_CHILDREN         100000 non-null  int64  \n",
      " 7   AMT_INCOME_TOTAL     100000 non-null  float64\n",
      " 8   AMT_CREDIT           100000 non-null  float64\n",
      " 9   AMT_GOODS_PRICE      99919 non-null   float64\n",
      " 10  NAME_TYPE_SUITE      99595 non-null   object \n",
      " 11  NAME_INCOME_TYPE     100000 non-null  object \n",
      " 12  NAME_EDUCATION_TYPE  100000 non-null  object \n",
      " 13  NAME_FAMILY_STATUS   100000 non-null  object \n",
      " 14  DAYS_EMPLOYED        100000 non-null  int64  \n",
      " 15  MOBILE               100000 non-null  int64  \n",
      " 16  WORK_PHONE           100000 non-null  int64  \n",
      " 17  HOME_PHONE           100000 non-null  int64  \n",
      " 18  MOBILE_REACHABLE     100000 non-null  int64  \n",
      " 19  FLAG_EMAIL           100000 non-null  int64  \n",
      " 20  OCCUPATION_TYPE      68776 non-null   object \n",
      " 21  CNT_FAM_MEMBERS      99999 non-null   float64\n",
      " 22  APPLICATION_DAY      100000 non-null  object \n",
      " 23  TOTAL_DOC_SUBMITTED  100000 non-null  int64  \n",
      "dtypes: float64(4), int64(10), object(10)\n",
      "memory usage: 18.3+ MB\n"
     ]
    }
   ],
   "source": [
    "#information about datset\n",
    "df.info()"
   ]
  },
  {
   "cell_type": "code",
   "execution_count": 8,
   "id": "02ac9d7d",
   "metadata": {},
   "outputs": [
    {
     "data": {
      "text/plain": [
       "SK_ID_CURR               int64\n",
       "TARGET                   int64\n",
       "NAME_CONTRACT_TYPE      object\n",
       "GENDER                  object\n",
       "Car                     object\n",
       "House                   object\n",
       "CNT_CHILDREN             int64\n",
       "AMT_INCOME_TOTAL       float64\n",
       "AMT_CREDIT             float64\n",
       "AMT_GOODS_PRICE        float64\n",
       "NAME_TYPE_SUITE         object\n",
       "NAME_INCOME_TYPE        object\n",
       "NAME_EDUCATION_TYPE     object\n",
       "NAME_FAMILY_STATUS      object\n",
       "DAYS_EMPLOYED            int64\n",
       "MOBILE                   int64\n",
       "WORK_PHONE               int64\n",
       "HOME_PHONE               int64\n",
       "MOBILE_REACHABLE         int64\n",
       "FLAG_EMAIL               int64\n",
       "OCCUPATION_TYPE         object\n",
       "CNT_FAM_MEMBERS        float64\n",
       "APPLICATION_DAY         object\n",
       "TOTAL_DOC_SUBMITTED      int64\n",
       "dtype: object"
      ]
     },
     "execution_count": 8,
     "metadata": {},
     "output_type": "execute_result"
    }
   ],
   "source": [
    "#checking the datatypes\n",
    "df.dtypes"
   ]
  },
  {
   "cell_type": "code",
   "execution_count": 9,
   "id": "5c5a77d0",
   "metadata": {},
   "outputs": [
    {
     "data": {
      "text/plain": [
       "SK_ID_CURR                 0\n",
       "TARGET                     0\n",
       "NAME_CONTRACT_TYPE         0\n",
       "GENDER                     0\n",
       "Car                        0\n",
       "House                      0\n",
       "CNT_CHILDREN               0\n",
       "AMT_INCOME_TOTAL           0\n",
       "AMT_CREDIT                 0\n",
       "AMT_GOODS_PRICE           81\n",
       "NAME_TYPE_SUITE          405\n",
       "NAME_INCOME_TYPE           0\n",
       "NAME_EDUCATION_TYPE        0\n",
       "NAME_FAMILY_STATUS         0\n",
       "DAYS_EMPLOYED              0\n",
       "MOBILE                     0\n",
       "WORK_PHONE                 0\n",
       "HOME_PHONE                 0\n",
       "MOBILE_REACHABLE           0\n",
       "FLAG_EMAIL                 0\n",
       "OCCUPATION_TYPE        31224\n",
       "CNT_FAM_MEMBERS            1\n",
       "APPLICATION_DAY            0\n",
       "TOTAL_DOC_SUBMITTED        0\n",
       "dtype: int64"
      ]
     },
     "execution_count": 9,
     "metadata": {},
     "output_type": "execute_result"
    }
   ],
   "source": [
    "#checking null va;lues\n",
    "df.isnull().sum()"
   ]
  },
  {
   "cell_type": "code",
   "execution_count": 10,
   "id": "5d8fb4ab",
   "metadata": {},
   "outputs": [
    {
     "data": {
      "text/plain": [
       "array(['Unaccompanied', 'Family', 'Spouse, partner', 'Children',\n",
       "       'Other_A', nan, 'Other_B', 'Group of people'], dtype=object)"
      ]
     },
     "execution_count": 10,
     "metadata": {},
     "output_type": "execute_result"
    }
   ],
   "source": [
    "df['NAME_TYPE_SUITE'].unique()"
   ]
  },
  {
   "cell_type": "code",
   "execution_count": 11,
   "id": "f9af1282",
   "metadata": {},
   "outputs": [
    {
     "data": {
      "text/plain": [
       "array(['Single / not married', 'Married', 'Civil marriage', 'Widow',\n",
       "       'Separated', 'Unknown'], dtype=object)"
      ]
     },
     "execution_count": 11,
     "metadata": {},
     "output_type": "execute_result"
    }
   ],
   "source": [
    "df['NAME_FAMILY_STATUS'].unique()"
   ]
  },
  {
   "cell_type": "code",
   "execution_count": 12,
   "id": "d8d1594b",
   "metadata": {
    "scrolled": false
   },
   "outputs": [
    {
     "name": "stdout",
     "output_type": "stream",
     "text": [
      "Categorical          Continuous\n",
      "-------------------  -------------------\n",
      "NAME_CONTRACT_TYPE   SK_ID_CURR\n",
      "GENDER               TARGET\n",
      "Car                  CNT_CHILDREN\n",
      "House                AMT_INCOME_TOTAL\n",
      "NAME_TYPE_SUITE      AMT_CREDIT\n",
      "NAME_INCOME_TYPE     AMT_GOODS_PRICE\n",
      "NAME_EDUCATION_TYPE  DAYS_EMPLOYED\n",
      "NAME_FAMILY_STATUS   MOBILE\n",
      "OCCUPATION_TYPE      WORK_PHONE\n",
      "APPLICATION_DAY      HOME_PHONE\n",
      "                     MOBILE_REACHABLE\n",
      "                     FLAG_EMAIL\n",
      "                     CNT_FAM_MEMBERS\n",
      "                     TOTAL_DOC_SUBMITTED\n"
     ]
    }
   ],
   "source": [
    "def separate_data_types(df):\n",
    "    categorical = []\n",
    "    continuous = []\n",
    "    for column in df.columns:\n",
    "        if df[column].dtype == 'object':     \n",
    "            categorical.append(column)           \n",
    "        else:\n",
    "            continuous.append(column)\n",
    "    return categorical, continuous\n",
    "\n",
    "categorical, continuous = separate_data_types(df)\n",
    "from tabulate import tabulate \n",
    "table = {\"Categorical\": categorical, \"Continuous\": continuous}\n",
    "print(tabulate(table, headers='keys'))\n"
   ]
  },
  {
   "cell_type": "code",
   "execution_count": 13,
   "id": "886b995e",
   "metadata": {},
   "outputs": [],
   "source": [
    "#information about the categorical columns\n",
    "def info_categorical(col):\n",
    "    print(f\"The number of unique values  in {col} is:{df[col].unique()}\")\n",
    "    print(f\"mode of  {col} is:{df[col].mode()[0]}\")\n",
    "    print(f\"The number of missing  values  in {col} is:{df[col].isnull().sum()}\")"
   ]
  },
  {
   "cell_type": "code",
   "execution_count": 14,
   "id": "d668c590",
   "metadata": {},
   "outputs": [
    {
     "name": "stdout",
     "output_type": "stream",
     "text": [
      "The number of unique values  in NAME_CONTRACT_TYPE is:['Cash loans' 'Revolving loans']\n",
      "mode of  NAME_CONTRACT_TYPE is:Cash loans\n",
      "The number of missing  values  in NAME_CONTRACT_TYPE is:0\n"
     ]
    }
   ],
   "source": [
    "info_categorical('NAME_CONTRACT_TYPE')"
   ]
  },
  {
   "cell_type": "code",
   "execution_count": 15,
   "id": "ce52df2f",
   "metadata": {},
   "outputs": [
    {
     "name": "stdout",
     "output_type": "stream",
     "text": [
      "The number of unique values  in GENDER is:['M' 'F' 'XNA']\n",
      "mode of  GENDER is:F\n",
      "The number of missing  values  in GENDER is:0\n"
     ]
    }
   ],
   "source": [
    "info_categorical('GENDER')"
   ]
  },
  {
   "cell_type": "code",
   "execution_count": 16,
   "id": "796dcad5",
   "metadata": {},
   "outputs": [
    {
     "name": "stdout",
     "output_type": "stream",
     "text": [
      "The number of unique values  in Car is:['N' 'Y']\n",
      "mode of  Car is:N\n",
      "The number of missing  values  in Car is:0\n"
     ]
    }
   ],
   "source": [
    "info_categorical('Car')"
   ]
  },
  {
   "cell_type": "code",
   "execution_count": 17,
   "id": "ca136223",
   "metadata": {},
   "outputs": [
    {
     "name": "stdout",
     "output_type": "stream",
     "text": [
      "The number of unique values  in House is:['Y' 'N']\n",
      "mode of  House is:Y\n",
      "The number of missing  values  in House is:0\n"
     ]
    }
   ],
   "source": [
    "info_categorical('House')"
   ]
  },
  {
   "cell_type": "code",
   "execution_count": 18,
   "id": "dd2f9311",
   "metadata": {},
   "outputs": [
    {
     "name": "stdout",
     "output_type": "stream",
     "text": [
      "The number of unique values  in NAME_TYPE_SUITE is:['Unaccompanied' 'Family' 'Spouse, partner' 'Children' 'Other_A' nan\n",
      " 'Other_B' 'Group of people']\n",
      "mode of  NAME_TYPE_SUITE is:Unaccompanied\n",
      "The number of missing  values  in NAME_TYPE_SUITE is:405\n"
     ]
    }
   ],
   "source": [
    "info_categorical('NAME_TYPE_SUITE')"
   ]
  },
  {
   "cell_type": "code",
   "execution_count": 19,
   "id": "e519ad81",
   "metadata": {},
   "outputs": [
    {
     "name": "stdout",
     "output_type": "stream",
     "text": [
      "The number of unique values  in NAME_INCOME_TYPE is:['Working' 'State servant' 'Commercial associate' 'Pensioner' 'Unemployed'\n",
      " 'Student' 'Businessman' 'Maternity leave']\n",
      "mode of  NAME_INCOME_TYPE is:Working\n",
      "The number of missing  values  in NAME_INCOME_TYPE is:0\n"
     ]
    }
   ],
   "source": [
    "info_categorical('NAME_INCOME_TYPE')"
   ]
  },
  {
   "cell_type": "code",
   "execution_count": 20,
   "id": "1831c216",
   "metadata": {},
   "outputs": [
    {
     "name": "stdout",
     "output_type": "stream",
     "text": [
      "The number of unique values  in NAME_EDUCATION_TYPE is:['Secondary / secondary special' 'Higher education' 'Incomplete higher'\n",
      " 'Lower secondary' 'Academic degree']\n",
      "mode of  NAME_EDUCATION_TYPE is:Secondary / secondary special\n",
      "The number of missing  values  in NAME_EDUCATION_TYPE is:0\n"
     ]
    }
   ],
   "source": [
    "info_categorical('NAME_EDUCATION_TYPE')"
   ]
  },
  {
   "cell_type": "code",
   "execution_count": 21,
   "id": "6fd3346b",
   "metadata": {},
   "outputs": [
    {
     "name": "stdout",
     "output_type": "stream",
     "text": [
      "The number of unique values  in NAME_FAMILY_STATUS is:['Single / not married' 'Married' 'Civil marriage' 'Widow' 'Separated'\n",
      " 'Unknown']\n",
      "mode of  NAME_FAMILY_STATUS is:Married\n",
      "The number of missing  values  in NAME_FAMILY_STATUS is:0\n"
     ]
    }
   ],
   "source": [
    "info_categorical('NAME_FAMILY_STATUS')"
   ]
  },
  {
   "cell_type": "code",
   "execution_count": 22,
   "id": "5e6eb74c",
   "metadata": {},
   "outputs": [
    {
     "name": "stdout",
     "output_type": "stream",
     "text": [
      "The number of unique values  in OCCUPATION_TYPE is:['Laborers' 'Core staff' 'Accountants' 'Managers' nan 'Drivers'\n",
      " 'Sales staff' 'Cleaning staff' 'Cooking staff' 'Private service staff'\n",
      " 'Medicine staff' 'Security staff' 'High skill tech staff'\n",
      " 'Waiters/barmen staff' 'Low-skill Laborers' 'Realty agents' 'Secretaries'\n",
      " 'IT staff' 'HR staff']\n",
      "mode of  OCCUPATION_TYPE is:Laborers\n",
      "The number of missing  values  in OCCUPATION_TYPE is:31224\n"
     ]
    }
   ],
   "source": [
    "info_categorical('OCCUPATION_TYPE')"
   ]
  },
  {
   "cell_type": "code",
   "execution_count": 23,
   "id": "4fe15396",
   "metadata": {},
   "outputs": [
    {
     "name": "stdout",
     "output_type": "stream",
     "text": [
      "The number of unique values  in APPLICATION_DAY is:['WEDNESDAY' 'MONDAY' 'THURSDAY' 'SUNDAY' 'SATURDAY' 'FRIDAY' 'TUESDAY']\n",
      "mode of  APPLICATION_DAY is:TUESDAY\n",
      "The number of missing  values  in APPLICATION_DAY is:0\n"
     ]
    }
   ],
   "source": [
    "info_categorical('APPLICATION_DAY')"
   ]
  },
  {
   "cell_type": "code",
   "execution_count": 24,
   "id": "b7c96a5b",
   "metadata": {},
   "outputs": [
    {
     "data": {
      "text/html": [
       "<div>\n",
       "<style scoped>\n",
       "    .dataframe tbody tr th:only-of-type {\n",
       "        vertical-align: middle;\n",
       "    }\n",
       "\n",
       "    .dataframe tbody tr th {\n",
       "        vertical-align: top;\n",
       "    }\n",
       "\n",
       "    .dataframe thead th {\n",
       "        text-align: right;\n",
       "    }\n",
       "</style>\n",
       "<table border=\"1\" class=\"dataframe\">\n",
       "  <thead>\n",
       "    <tr style=\"text-align: right;\">\n",
       "      <th></th>\n",
       "      <th>SK_ID_CURR</th>\n",
       "      <th>TARGET</th>\n",
       "      <th>CNT_CHILDREN</th>\n",
       "      <th>AMT_INCOME_TOTAL</th>\n",
       "      <th>AMT_CREDIT</th>\n",
       "      <th>AMT_GOODS_PRICE</th>\n",
       "      <th>DAYS_EMPLOYED</th>\n",
       "      <th>MOBILE</th>\n",
       "      <th>WORK_PHONE</th>\n",
       "      <th>HOME_PHONE</th>\n",
       "      <th>MOBILE_REACHABLE</th>\n",
       "      <th>FLAG_EMAIL</th>\n",
       "      <th>CNT_FAM_MEMBERS</th>\n",
       "      <th>TOTAL_DOC_SUBMITTED</th>\n",
       "    </tr>\n",
       "  </thead>\n",
       "  <tbody>\n",
       "    <tr>\n",
       "      <th>count</th>\n",
       "      <td>100000.000000</td>\n",
       "      <td>100000.000000</td>\n",
       "      <td>100000.000000</td>\n",
       "      <td>1.000000e+05</td>\n",
       "      <td>1.000000e+05</td>\n",
       "      <td>9.991900e+04</td>\n",
       "      <td>100000.000000</td>\n",
       "      <td>100000.000000</td>\n",
       "      <td>100000.00000</td>\n",
       "      <td>100000.000000</td>\n",
       "      <td>100000.000000</td>\n",
       "      <td>100000.000000</td>\n",
       "      <td>99999.000000</td>\n",
       "      <td>100000.000000</td>\n",
       "    </tr>\n",
       "    <tr>\n",
       "      <th>mean</th>\n",
       "      <td>158006.140860</td>\n",
       "      <td>0.080930</td>\n",
       "      <td>0.417390</td>\n",
       "      <td>1.694261e+05</td>\n",
       "      <td>5.990034e+05</td>\n",
       "      <td>5.383451e+05</td>\n",
       "      <td>63292.222060</td>\n",
       "      <td>0.999990</td>\n",
       "      <td>0.82128</td>\n",
       "      <td>0.199740</td>\n",
       "      <td>0.997990</td>\n",
       "      <td>0.056190</td>\n",
       "      <td>2.155672</td>\n",
       "      <td>0.931210</td>\n",
       "    </tr>\n",
       "    <tr>\n",
       "      <th>std</th>\n",
       "      <td>33481.166996</td>\n",
       "      <td>0.272729</td>\n",
       "      <td>0.721014</td>\n",
       "      <td>3.835007e+05</td>\n",
       "      <td>4.020520e+05</td>\n",
       "      <td>3.693977e+05</td>\n",
       "      <td>140839.697296</td>\n",
       "      <td>0.003162</td>\n",
       "      <td>0.38312</td>\n",
       "      <td>0.399807</td>\n",
       "      <td>0.044788</td>\n",
       "      <td>0.230289</td>\n",
       "      <td>0.908897</td>\n",
       "      <td>0.343917</td>\n",
       "    </tr>\n",
       "    <tr>\n",
       "      <th>min</th>\n",
       "      <td>100002.000000</td>\n",
       "      <td>0.000000</td>\n",
       "      <td>0.000000</td>\n",
       "      <td>2.565000e+04</td>\n",
       "      <td>4.500000e+04</td>\n",
       "      <td>4.500000e+04</td>\n",
       "      <td>-17531.000000</td>\n",
       "      <td>0.000000</td>\n",
       "      <td>0.00000</td>\n",
       "      <td>0.000000</td>\n",
       "      <td>0.000000</td>\n",
       "      <td>0.000000</td>\n",
       "      <td>1.000000</td>\n",
       "      <td>0.000000</td>\n",
       "    </tr>\n",
       "    <tr>\n",
       "      <th>25%</th>\n",
       "      <td>129076.750000</td>\n",
       "      <td>0.000000</td>\n",
       "      <td>0.000000</td>\n",
       "      <td>1.125000e+05</td>\n",
       "      <td>2.700000e+05</td>\n",
       "      <td>2.385000e+05</td>\n",
       "      <td>-2758.000000</td>\n",
       "      <td>1.000000</td>\n",
       "      <td>1.00000</td>\n",
       "      <td>0.000000</td>\n",
       "      <td>1.000000</td>\n",
       "      <td>0.000000</td>\n",
       "      <td>2.000000</td>\n",
       "      <td>1.000000</td>\n",
       "    </tr>\n",
       "    <tr>\n",
       "      <th>50%</th>\n",
       "      <td>157877.000000</td>\n",
       "      <td>0.000000</td>\n",
       "      <td>0.000000</td>\n",
       "      <td>1.440000e+05</td>\n",
       "      <td>5.130405e+05</td>\n",
       "      <td>4.500000e+05</td>\n",
       "      <td>-1219.000000</td>\n",
       "      <td>1.000000</td>\n",
       "      <td>1.00000</td>\n",
       "      <td>0.000000</td>\n",
       "      <td>1.000000</td>\n",
       "      <td>0.000000</td>\n",
       "      <td>2.000000</td>\n",
       "      <td>1.000000</td>\n",
       "    </tr>\n",
       "    <tr>\n",
       "      <th>75%</th>\n",
       "      <td>186982.250000</td>\n",
       "      <td>0.000000</td>\n",
       "      <td>1.000000</td>\n",
       "      <td>2.025000e+05</td>\n",
       "      <td>8.086500e+05</td>\n",
       "      <td>6.795000e+05</td>\n",
       "      <td>-291.000000</td>\n",
       "      <td>1.000000</td>\n",
       "      <td>1.00000</td>\n",
       "      <td>0.000000</td>\n",
       "      <td>1.000000</td>\n",
       "      <td>0.000000</td>\n",
       "      <td>3.000000</td>\n",
       "      <td>1.000000</td>\n",
       "    </tr>\n",
       "    <tr>\n",
       "      <th>max</th>\n",
       "      <td>216090.000000</td>\n",
       "      <td>1.000000</td>\n",
       "      <td>12.000000</td>\n",
       "      <td>1.170000e+08</td>\n",
       "      <td>4.050000e+06</td>\n",
       "      <td>4.050000e+06</td>\n",
       "      <td>365243.000000</td>\n",
       "      <td>1.000000</td>\n",
       "      <td>1.00000</td>\n",
       "      <td>1.000000</td>\n",
       "      <td>1.000000</td>\n",
       "      <td>1.000000</td>\n",
       "      <td>14.000000</td>\n",
       "      <td>4.000000</td>\n",
       "    </tr>\n",
       "  </tbody>\n",
       "</table>\n",
       "</div>"
      ],
      "text/plain": [
       "          SK_ID_CURR         TARGET   CNT_CHILDREN  AMT_INCOME_TOTAL  \\\n",
       "count  100000.000000  100000.000000  100000.000000      1.000000e+05   \n",
       "mean   158006.140860       0.080930       0.417390      1.694261e+05   \n",
       "std     33481.166996       0.272729       0.721014      3.835007e+05   \n",
       "min    100002.000000       0.000000       0.000000      2.565000e+04   \n",
       "25%    129076.750000       0.000000       0.000000      1.125000e+05   \n",
       "50%    157877.000000       0.000000       0.000000      1.440000e+05   \n",
       "75%    186982.250000       0.000000       1.000000      2.025000e+05   \n",
       "max    216090.000000       1.000000      12.000000      1.170000e+08   \n",
       "\n",
       "         AMT_CREDIT  AMT_GOODS_PRICE  DAYS_EMPLOYED         MOBILE  \\\n",
       "count  1.000000e+05     9.991900e+04  100000.000000  100000.000000   \n",
       "mean   5.990034e+05     5.383451e+05   63292.222060       0.999990   \n",
       "std    4.020520e+05     3.693977e+05  140839.697296       0.003162   \n",
       "min    4.500000e+04     4.500000e+04  -17531.000000       0.000000   \n",
       "25%    2.700000e+05     2.385000e+05   -2758.000000       1.000000   \n",
       "50%    5.130405e+05     4.500000e+05   -1219.000000       1.000000   \n",
       "75%    8.086500e+05     6.795000e+05    -291.000000       1.000000   \n",
       "max    4.050000e+06     4.050000e+06  365243.000000       1.000000   \n",
       "\n",
       "         WORK_PHONE     HOME_PHONE  MOBILE_REACHABLE     FLAG_EMAIL  \\\n",
       "count  100000.00000  100000.000000     100000.000000  100000.000000   \n",
       "mean        0.82128       0.199740          0.997990       0.056190   \n",
       "std         0.38312       0.399807          0.044788       0.230289   \n",
       "min         0.00000       0.000000          0.000000       0.000000   \n",
       "25%         1.00000       0.000000          1.000000       0.000000   \n",
       "50%         1.00000       0.000000          1.000000       0.000000   \n",
       "75%         1.00000       0.000000          1.000000       0.000000   \n",
       "max         1.00000       1.000000          1.000000       1.000000   \n",
       "\n",
       "       CNT_FAM_MEMBERS  TOTAL_DOC_SUBMITTED  \n",
       "count     99999.000000        100000.000000  \n",
       "mean          2.155672             0.931210  \n",
       "std           0.908897             0.343917  \n",
       "min           1.000000             0.000000  \n",
       "25%           2.000000             1.000000  \n",
       "50%           2.000000             1.000000  \n",
       "75%           3.000000             1.000000  \n",
       "max          14.000000             4.000000  "
      ]
     },
     "execution_count": 24,
     "metadata": {},
     "output_type": "execute_result"
    }
   ],
   "source": [
    "#statistical measures of data\n",
    "df.describe()"
   ]
  },
  {
   "cell_type": "markdown",
   "id": "ab39a482",
   "metadata": {},
   "source": [
    "# HANDLING MISSING VALUES"
   ]
  },
  {
   "cell_type": "code",
   "execution_count": 25,
   "id": "b07541ff",
   "metadata": {},
   "outputs": [],
   "source": [
    "#for AMT_GOODS_PRICE column,filling the missing values with amt_credit because loan amount is same as the goods price \n",
    "df['AMT_GOODS_PRICE']=np.where(df['AMT_GOODS_PRICE'].isnull()==True,\n",
    "df['AMT_CREDIT'],df['AMT_GOODS_PRICE'])"
   ]
  },
  {
   "cell_type": "code",
   "execution_count": 26,
   "id": "64408e73",
   "metadata": {},
   "outputs": [],
   "source": [
    "#for NAME_TYPE_SUITE column,filling the missing values with mode\n",
    "mode_value = df['NAME_TYPE_SUITE'].mode()[0]\n",
    "df['NAME_TYPE_SUITE'].fillna(mode_value, inplace=True)"
   ]
  },
  {
   "cell_type": "code",
   "execution_count": 27,
   "id": "a01b4f9d",
   "metadata": {},
   "outputs": [],
   "source": [
    "#forOCCUPATION _TYPE_ column,filling the missing values with mode\n",
    "mode_value = df['OCCUPATION_TYPE'].mode()[0]\n",
    "df['OCCUPATION_TYPE'].fillna(mode_value, inplace=True)\n"
   ]
  },
  {
   "cell_type": "code",
   "execution_count": 28,
   "id": "f481febb",
   "metadata": {},
   "outputs": [],
   "source": [
    "#for CNT_FAM_MEMBERS\tcolumn,filling missing values with mean\n",
    "mean = df['CNT_FAM_MEMBERS'].mean()\n",
    "df['CNT_FAM_MEMBERS'].fillna(mean,inplace=True)"
   ]
  },
  {
   "cell_type": "code",
   "execution_count": 29,
   "id": "859739a9",
   "metadata": {},
   "outputs": [
    {
     "data": {
      "text/plain": [
       "SK_ID_CURR             0\n",
       "TARGET                 0\n",
       "NAME_CONTRACT_TYPE     0\n",
       "GENDER                 0\n",
       "Car                    0\n",
       "House                  0\n",
       "CNT_CHILDREN           0\n",
       "AMT_INCOME_TOTAL       0\n",
       "AMT_CREDIT             0\n",
       "AMT_GOODS_PRICE        0\n",
       "NAME_TYPE_SUITE        0\n",
       "NAME_INCOME_TYPE       0\n",
       "NAME_EDUCATION_TYPE    0\n",
       "NAME_FAMILY_STATUS     0\n",
       "DAYS_EMPLOYED          0\n",
       "MOBILE                 0\n",
       "WORK_PHONE             0\n",
       "HOME_PHONE             0\n",
       "MOBILE_REACHABLE       0\n",
       "FLAG_EMAIL             0\n",
       "OCCUPATION_TYPE        0\n",
       "CNT_FAM_MEMBERS        0\n",
       "APPLICATION_DAY        0\n",
       "TOTAL_DOC_SUBMITTED    0\n",
       "dtype: int64"
      ]
     },
     "execution_count": 29,
     "metadata": {},
     "output_type": "execute_result"
    }
   ],
   "source": [
    "#after filling the null values\n",
    "df.isnull().sum()"
   ]
  },
  {
   "cell_type": "code",
   "execution_count": 30,
   "id": "b79cd6ba",
   "metadata": {},
   "outputs": [
    {
     "data": {
      "image/png": "[encoded data removed]",
      "text/plain": [
       "<Figure size 432x288 with 2 Axes>"
      ]
     },
     "metadata": {
      "needs_background": "light"
     },
     "output_type": "display_data"
    }
   ],
   "source": [
    "#heatmap\n",
    "sns.heatmap(df.corr(), cbar=True, cmap='YlGnBu',center=0,linewidth=0.5)\n",
    "\n",
    "plt.show()"
   ]
  },
  {
   "cell_type": "code",
   "execution_count": null,
   "id": "62b73c1a",
   "metadata": {},
   "outputs": [],
   "source": []
  },
  {
   "cell_type": "markdown",
   "id": "f00a8f2a",
   "metadata": {},
   "source": [
    "# LEVEL 1-UNIVARIATE ANLYSIS"
   ]
  },
  {
   "cell_type": "code",
   "execution_count": null,
   "id": "721751e9",
   "metadata": {},
   "outputs": [],
   "source": []
  },
  {
   "cell_type": "code",
   "execution_count": 31,
   "id": "33b8b209",
   "metadata": {},
   "outputs": [
    {
     "data": {
      "text/plain": [
       "Index(['SK_ID_CURR', 'TARGET', 'NAME_CONTRACT_TYPE', 'GENDER', 'Car', 'House',\n",
       "       'CNT_CHILDREN', 'AMT_INCOME_TOTAL', 'AMT_CREDIT', 'AMT_GOODS_PRICE',\n",
       "       'NAME_TYPE_SUITE', 'NAME_INCOME_TYPE', 'NAME_EDUCATION_TYPE',\n",
       "       'NAME_FAMILY_STATUS', 'DAYS_EMPLOYED', 'MOBILE', 'WORK_PHONE',\n",
       "       'HOME_PHONE', 'MOBILE_REACHABLE', 'FLAG_EMAIL', 'OCCUPATION_TYPE',\n",
       "       'CNT_FAM_MEMBERS', 'APPLICATION_DAY', 'TOTAL_DOC_SUBMITTED'],\n",
       "      dtype='object')"
      ]
     },
     "execution_count": 31,
     "metadata": {},
     "output_type": "execute_result"
    }
   ],
   "source": [
    "df.columns"
   ]
  },
  {
   "cell_type": "code",
   "execution_count": 32,
   "id": "4ad919dd",
   "metadata": {},
   "outputs": [
    {
     "ename": "NameError",
     "evalue": "name 'df11' is not defined",
     "output_type": "error",
     "traceback": [
      "\u001b[1;31m---------------------------------------------------------------------------\u001b[0m",
      "\u001b[1;31mNameError\u001b[0m                                 Traceback (most recent call last)",
      "\u001b[1;32m~\\AppData\\Local\\Temp/ipykernel_13576/3310698505.py\u001b[0m in \u001b[0;36m<module>\u001b[1;34m\u001b[0m\n\u001b[1;32m----> 1\u001b[1;33m \u001b[0mdefaulters\u001b[0m \u001b[1;33m=\u001b[0m \u001b[0mdf11\u001b[0m\u001b[1;33m[\u001b[0m\u001b[0mdf11\u001b[0m\u001b[1;33m[\u001b[0m\u001b[1;34m'TARGET'\u001b[0m\u001b[1;33m]\u001b[0m \u001b[1;33m==\u001b[0m \u001b[1;36m1\u001b[0m\u001b[1;33m]\u001b[0m\u001b[1;33m\u001b[0m\u001b[1;33m\u001b[0m\u001b[0m\n\u001b[0m\u001b[0;32m      2\u001b[0m \u001b[0mnon_defaulters\u001b[0m \u001b[1;33m=\u001b[0m \u001b[0mdf11\u001b[0m\u001b[1;33m[\u001b[0m\u001b[0mdf11\u001b[0m\u001b[1;33m[\u001b[0m\u001b[1;34m'TARGET'\u001b[0m\u001b[1;33m]\u001b[0m \u001b[1;33m==\u001b[0m \u001b[1;36m0\u001b[0m\u001b[1;33m]\u001b[0m\u001b[1;33m\u001b[0m\u001b[1;33m\u001b[0m\u001b[0m\n",
      "\u001b[1;31mNameError\u001b[0m: name 'df11' is not defined"
     ]
    }
   ],
   "source": [
    "defaulters = df11[df11['TARGET'] == 1]\n",
    "non_defaulters = df11[df11['TARGET'] == 0]"
   ]
  },
  {
   "cell_type": "code",
   "execution_count": null,
   "id": "13e4d021",
   "metadata": {},
   "outputs": [],
   "source": [
    "#target variable\n",
    "fig, ax = plt.subplots(figsize=(10,5))\n",
    "plt.title(\"Percentage of target variable\")\n",
    "labels = ['No', 'Yes']\n",
    "plt.pie(df['TARGET'].value_counts(),labels=labels,autopct='%1.1f%%')\n",
    "plt.title(\"Target variable\",fontsize=16, fontweight='bold', color='black')\n",
    "plt.legend()\n",
    "plt.show()\n"
   ]
  },
  {
   "cell_type": "raw",
   "id": "823724e0",
   "metadata": {},
   "source": [
    "INTERPRETATION-The count of the target variable with value 0 is more, indicating that there are a less number of customers with payment difficulties"
   ]
  },
  {
   "cell_type": "code",
   "execution_count": null,
   "id": "07ce36fd",
   "metadata": {},
   "outputs": [],
   "source": [
    "#with target variabel separting the defualt and non default customers\n",
    "#df_defaulters = df[df['TARGET'] == 1]\n",
    "\n",
    "df_nondefaulters = df[df['TARGET'] == 0]"
   ]
  },
  {
   "cell_type": "code",
   "execution_count": null,
   "id": "da3be07b",
   "metadata": {},
   "outputs": [],
   "source": [
    "df_nondefaulters"
   ]
  },
  {
   "cell_type": "raw",
   "id": "dd143bce",
   "metadata": {},
   "source": [
    "INTERPRETATION-The distribution of credit amount lies between 200,000 to 300,000 and also between 500,000 to 600,000 suggests that these ranges of credit amount are more popular among customers who have not defaulted on their loans."
   ]
  },
  {
   "cell_type": "code",
   "execution_count": null,
   "id": "5c35164c",
   "metadata": {},
   "outputs": [],
   "source": [
    "#for gender column\n",
    "counts = df['GENDER'].value_counts()\n",
    "plt.pie(counts, labels=counts.index, autopct='%1.1f%%')\n",
    "plt.title('Gender Distribution',fontsize=16, fontweight='bold', color='black')\n",
    "plt.show()"
   ]
  },
  {
   "cell_type": "raw",
   "id": "00091a32",
   "metadata": {},
   "source": [
    "INTERPRETATION-ThIS Graph  suggests that there are more female  compared to males"
   ]
  },
  {
   "cell_type": "code",
   "execution_count": null,
   "id": "09e96388",
   "metadata": {},
   "outputs": [],
   "source": [
    "# countplot for accompanying person\n",
    "fig, ax = plt.subplots(figsize=(12, 5))\n",
    "sns.countplot(x='NAME_TYPE_SUITE', data=df)\n",
    "plt.xlabel('Accompanying Person')\n",
    "plt.ylabel('Count')\n",
    "plt.title('Accompanying Person of customer',fontweight='bold',fontsize=20)\n",
    "plt.xticks(rotation=45)\n",
    "plt.show()\n"
   ]
  },
  {
   "cell_type": "code",
   "execution_count": null,
   "id": "d84c5c03",
   "metadata": {},
   "outputs": [],
   "source": []
  },
  {
   "cell_type": "raw",
   "id": "a22dbef9",
   "metadata": {},
   "source": [
    "INTERPRETION-The type suite of 80 %  customers is unaccompanied"
   ]
  },
  {
   "cell_type": "code",
   "execution_count": null,
   "id": "a802b8d3",
   "metadata": {},
   "outputs": [],
   "source": [
    "#forcontract type column\n",
    "counts = df['NAME_CONTRACT_TYPE'].value_counts()\n",
    "plt.pie(counts, labels=counts.index, autopct='%1.1f%%')\n",
    "plt.title('contract Distribution',fontsize=16, fontweight='bold', color='black')\n",
    "plt.show()"
   ]
  },
  {
   "cell_type": "code",
   "execution_count": null,
   "id": "8f39fe44",
   "metadata": {},
   "outputs": [],
   "source": [
    "INTERPRETATION-90% Of  cash loans and 10% of  revolving  loans "
   ]
  },
  {
   "cell_type": "markdown",
   "id": "e750ab60",
   "metadata": {},
   "source": [
    "# LEVEL 2-BIVARIATE ANALYSIS"
   ]
  },
  {
   "cell_type": "code",
   "execution_count": null,
   "id": "e7611270",
   "metadata": {},
   "outputs": [],
   "source": [
    "sns.countplot(x='GENDER', hue='TARGET', data=df)\n",
    "plt.title('Gender and Target Variable', fontsize=16, fontweight='bold', color='black')\n",
    "plt.show()"
   ]
  },
  {
   "cell_type": "code",
   "execution_count": null,
   "id": "4a1eb34b",
   "metadata": {},
   "outputs": [],
   "source": []
  },
  {
   "cell_type": "code",
   "execution_count": null,
   "id": "4244b6ac",
   "metadata": {},
   "outputs": [],
   "source": [
    "#countplot for owns cars\n",
    "fig, ax = plt.subplots(1,2 ,figsize=(12, 5))\n",
    "sns.countplot(x='Car',hue='TARGET', data=df, ax=ax[0])\n",
    "ax[0].set_xlabel('Own car')\n",
    "ax[0].set_ylabel('Count')\n",
    "ax[0].set_title('car ownership for Non-Defaulters')\n",
    "\n",
    "#countplot for owns house\n",
    "sns.countplot(x='House',hue='TARGET', data=df, ax=ax[1])\n",
    "ax[1].set_xlabel('Own House')\n",
    "ax[1].set_ylabel('Count')\n",
    "ax[1].set_title('House Ownership for Non-Defaulters')\n",
    "plt.show()\n",
    "\n"
   ]
  },
  {
   "cell_type": "raw",
   "id": "2759bcea",
   "metadata": {},
   "source": [
    "INTERPRETATION-non-defaulters have a higher proportion of car and house ownership compared to defaulters."
   ]
  },
  {
   "cell_type": "code",
   "execution_count": null,
   "id": "7b5f817a",
   "metadata": {},
   "outputs": [],
   "source": [
    "sns.countplot(x='NAME_EDUCATION_TYPE', hue='TARGET', data=df)\n",
    "\n",
    "\n",
    "plt.xlabel('Education Type')\n",
    "plt.ylabel('Count')\n",
    "plt.title('Education Type of Customers by Target',fontweight='bold',fontsize=20)\n",
    "\n",
    "plt.xticks(rotation=70)\n",
    "\n",
    "# Show plot\n",
    "plt.show()"
   ]
  },
  {
   "cell_type": "code",
   "execution_count": null,
   "id": "ed3171b8",
   "metadata": {},
   "outputs": [],
   "source": [
    "INTERPRETATION-The education level of the 70 % customers is secondary special "
   ]
  },
  {
   "cell_type": "code",
   "execution_count": null,
   "id": "031fc07b",
   "metadata": {},
   "outputs": [],
   "source": [
    "df.columns"
   ]
  },
  {
   "cell_type": "code",
   "execution_count": 37,
   "id": "2df302ed",
   "metadata": {},
   "outputs": [
    {
     "data": {
      "text/html": [
       "<div>\n",
       "<style scoped>\n",
       "    .dataframe tbody tr th:only-of-type {\n",
       "        vertical-align: middle;\n",
       "    }\n",
       "\n",
       "    .dataframe tbody tr th {\n",
       "        vertical-align: top;\n",
       "    }\n",
       "\n",
       "    .dataframe thead th {\n",
       "        text-align: right;\n",
       "    }\n",
       "</style>\n",
       "<table border=\"1\" class=\"dataframe\">\n",
       "  <thead>\n",
       "    <tr style=\"text-align: right;\">\n",
       "      <th></th>\n",
       "      <th>SK_ID_CURR</th>\n",
       "      <th>TARGET</th>\n",
       "      <th>NAME_CONTRACT_TYPE</th>\n",
       "      <th>GENDER</th>\n",
       "      <th>Car</th>\n",
       "      <th>House</th>\n",
       "      <th>CNT_CHILDREN</th>\n",
       "      <th>AMT_INCOME_TOTAL</th>\n",
       "      <th>AMT_CREDIT</th>\n",
       "      <th>AMT_GOODS_PRICE</th>\n",
       "      <th>...</th>\n",
       "      <th>DAYS_EMPLOYED</th>\n",
       "      <th>MOBILE</th>\n",
       "      <th>WORK_PHONE</th>\n",
       "      <th>HOME_PHONE</th>\n",
       "      <th>MOBILE_REACHABLE</th>\n",
       "      <th>FLAG_EMAIL</th>\n",
       "      <th>OCCUPATION_TYPE</th>\n",
       "      <th>CNT_FAM_MEMBERS</th>\n",
       "      <th>APPLICATION_DAY</th>\n",
       "      <th>TOTAL_DOC_SUBMITTED</th>\n",
       "    </tr>\n",
       "  </thead>\n",
       "  <tbody>\n",
       "    <tr>\n",
       "      <th>0</th>\n",
       "      <td>100002</td>\n",
       "      <td>1</td>\n",
       "      <td>Cash loans</td>\n",
       "      <td>M</td>\n",
       "      <td>N</td>\n",
       "      <td>Y</td>\n",
       "      <td>0</td>\n",
       "      <td>202500.0</td>\n",
       "      <td>406597.5</td>\n",
       "      <td>351000.0</td>\n",
       "      <td>...</td>\n",
       "      <td>-637</td>\n",
       "      <td>1</td>\n",
       "      <td>1</td>\n",
       "      <td>0</td>\n",
       "      <td>1</td>\n",
       "      <td>0</td>\n",
       "      <td>Laborers</td>\n",
       "      <td>1.0</td>\n",
       "      <td>WEDNESDAY</td>\n",
       "      <td>1</td>\n",
       "    </tr>\n",
       "    <tr>\n",
       "      <th>2</th>\n",
       "      <td>100004</td>\n",
       "      <td>0</td>\n",
       "      <td>Revolving loans</td>\n",
       "      <td>M</td>\n",
       "      <td>Y</td>\n",
       "      <td>Y</td>\n",
       "      <td>0</td>\n",
       "      <td>67500.0</td>\n",
       "      <td>135000.0</td>\n",
       "      <td>135000.0</td>\n",
       "      <td>...</td>\n",
       "      <td>-225</td>\n",
       "      <td>1</td>\n",
       "      <td>1</td>\n",
       "      <td>1</td>\n",
       "      <td>1</td>\n",
       "      <td>0</td>\n",
       "      <td>Laborers</td>\n",
       "      <td>1.0</td>\n",
       "      <td>MONDAY</td>\n",
       "      <td>0</td>\n",
       "    </tr>\n",
       "    <tr>\n",
       "      <th>3</th>\n",
       "      <td>100006</td>\n",
       "      <td>0</td>\n",
       "      <td>Cash loans</td>\n",
       "      <td>F</td>\n",
       "      <td>N</td>\n",
       "      <td>Y</td>\n",
       "      <td>0</td>\n",
       "      <td>135000.0</td>\n",
       "      <td>312682.5</td>\n",
       "      <td>297000.0</td>\n",
       "      <td>...</td>\n",
       "      <td>-3039</td>\n",
       "      <td>1</td>\n",
       "      <td>1</td>\n",
       "      <td>0</td>\n",
       "      <td>1</td>\n",
       "      <td>0</td>\n",
       "      <td>Laborers</td>\n",
       "      <td>2.0</td>\n",
       "      <td>WEDNESDAY</td>\n",
       "      <td>1</td>\n",
       "    </tr>\n",
       "    <tr>\n",
       "      <th>4</th>\n",
       "      <td>100007</td>\n",
       "      <td>0</td>\n",
       "      <td>Cash loans</td>\n",
       "      <td>M</td>\n",
       "      <td>N</td>\n",
       "      <td>Y</td>\n",
       "      <td>0</td>\n",
       "      <td>121500.0</td>\n",
       "      <td>513000.0</td>\n",
       "      <td>513000.0</td>\n",
       "      <td>...</td>\n",
       "      <td>-3038</td>\n",
       "      <td>1</td>\n",
       "      <td>1</td>\n",
       "      <td>0</td>\n",
       "      <td>1</td>\n",
       "      <td>0</td>\n",
       "      <td>Core staff</td>\n",
       "      <td>1.0</td>\n",
       "      <td>THURSDAY</td>\n",
       "      <td>1</td>\n",
       "    </tr>\n",
       "    <tr>\n",
       "      <th>5</th>\n",
       "      <td>100008</td>\n",
       "      <td>0</td>\n",
       "      <td>Cash loans</td>\n",
       "      <td>M</td>\n",
       "      <td>N</td>\n",
       "      <td>Y</td>\n",
       "      <td>0</td>\n",
       "      <td>99000.0</td>\n",
       "      <td>490495.5</td>\n",
       "      <td>454500.0</td>\n",
       "      <td>...</td>\n",
       "      <td>-1588</td>\n",
       "      <td>1</td>\n",
       "      <td>1</td>\n",
       "      <td>1</td>\n",
       "      <td>1</td>\n",
       "      <td>0</td>\n",
       "      <td>Laborers</td>\n",
       "      <td>2.0</td>\n",
       "      <td>WEDNESDAY</td>\n",
       "      <td>1</td>\n",
       "    </tr>\n",
       "    <tr>\n",
       "      <th>...</th>\n",
       "      <td>...</td>\n",
       "      <td>...</td>\n",
       "      <td>...</td>\n",
       "      <td>...</td>\n",
       "      <td>...</td>\n",
       "      <td>...</td>\n",
       "      <td>...</td>\n",
       "      <td>...</td>\n",
       "      <td>...</td>\n",
       "      <td>...</td>\n",
       "      <td>...</td>\n",
       "      <td>...</td>\n",
       "      <td>...</td>\n",
       "      <td>...</td>\n",
       "      <td>...</td>\n",
       "      <td>...</td>\n",
       "      <td>...</td>\n",
       "      <td>...</td>\n",
       "      <td>...</td>\n",
       "      <td>...</td>\n",
       "      <td>...</td>\n",
       "    </tr>\n",
       "    <tr>\n",
       "      <th>99994</th>\n",
       "      <td>216085</td>\n",
       "      <td>0</td>\n",
       "      <td>Cash loans</td>\n",
       "      <td>M</td>\n",
       "      <td>Y</td>\n",
       "      <td>N</td>\n",
       "      <td>0</td>\n",
       "      <td>225000.0</td>\n",
       "      <td>612000.0</td>\n",
       "      <td>612000.0</td>\n",
       "      <td>...</td>\n",
       "      <td>-135</td>\n",
       "      <td>1</td>\n",
       "      <td>1</td>\n",
       "      <td>0</td>\n",
       "      <td>1</td>\n",
       "      <td>0</td>\n",
       "      <td>Laborers</td>\n",
       "      <td>2.0</td>\n",
       "      <td>SATURDAY</td>\n",
       "      <td>1</td>\n",
       "    </tr>\n",
       "    <tr>\n",
       "      <th>99995</th>\n",
       "      <td>216086</td>\n",
       "      <td>0</td>\n",
       "      <td>Cash loans</td>\n",
       "      <td>F</td>\n",
       "      <td>N</td>\n",
       "      <td>Y</td>\n",
       "      <td>1</td>\n",
       "      <td>157500.0</td>\n",
       "      <td>755190.0</td>\n",
       "      <td>675000.0</td>\n",
       "      <td>...</td>\n",
       "      <td>-232</td>\n",
       "      <td>1</td>\n",
       "      <td>1</td>\n",
       "      <td>1</td>\n",
       "      <td>1</td>\n",
       "      <td>0</td>\n",
       "      <td>Sales staff</td>\n",
       "      <td>3.0</td>\n",
       "      <td>MONDAY</td>\n",
       "      <td>1</td>\n",
       "    </tr>\n",
       "    <tr>\n",
       "      <th>99996</th>\n",
       "      <td>216087</td>\n",
       "      <td>0</td>\n",
       "      <td>Cash loans</td>\n",
       "      <td>F</td>\n",
       "      <td>N</td>\n",
       "      <td>Y</td>\n",
       "      <td>1</td>\n",
       "      <td>225000.0</td>\n",
       "      <td>284400.0</td>\n",
       "      <td>225000.0</td>\n",
       "      <td>...</td>\n",
       "      <td>-182</td>\n",
       "      <td>1</td>\n",
       "      <td>1</td>\n",
       "      <td>0</td>\n",
       "      <td>1</td>\n",
       "      <td>0</td>\n",
       "      <td>Managers</td>\n",
       "      <td>3.0</td>\n",
       "      <td>TUESDAY</td>\n",
       "      <td>1</td>\n",
       "    </tr>\n",
       "    <tr>\n",
       "      <th>99998</th>\n",
       "      <td>216089</td>\n",
       "      <td>0</td>\n",
       "      <td>Cash loans</td>\n",
       "      <td>F</td>\n",
       "      <td>Y</td>\n",
       "      <td>N</td>\n",
       "      <td>0</td>\n",
       "      <td>135000.0</td>\n",
       "      <td>225000.0</td>\n",
       "      <td>225000.0</td>\n",
       "      <td>...</td>\n",
       "      <td>-340</td>\n",
       "      <td>1</td>\n",
       "      <td>1</td>\n",
       "      <td>0</td>\n",
       "      <td>1</td>\n",
       "      <td>0</td>\n",
       "      <td>Sales staff</td>\n",
       "      <td>2.0</td>\n",
       "      <td>FRIDAY</td>\n",
       "      <td>2</td>\n",
       "    </tr>\n",
       "    <tr>\n",
       "      <th>99999</th>\n",
       "      <td>216090</td>\n",
       "      <td>0</td>\n",
       "      <td>Revolving loans</td>\n",
       "      <td>M</td>\n",
       "      <td>Y</td>\n",
       "      <td>Y</td>\n",
       "      <td>0</td>\n",
       "      <td>202500.0</td>\n",
       "      <td>337500.0</td>\n",
       "      <td>337500.0</td>\n",
       "      <td>...</td>\n",
       "      <td>-3230</td>\n",
       "      <td>1</td>\n",
       "      <td>1</td>\n",
       "      <td>1</td>\n",
       "      <td>1</td>\n",
       "      <td>0</td>\n",
       "      <td>Drivers</td>\n",
       "      <td>2.0</td>\n",
       "      <td>SATURDAY</td>\n",
       "      <td>0</td>\n",
       "    </tr>\n",
       "  </tbody>\n",
       "</table>\n",
       "<p>81992 rows × 24 columns</p>\n",
       "</div>"
      ],
      "text/plain": [
       "       SK_ID_CURR  TARGET NAME_CONTRACT_TYPE GENDER Car House  CNT_CHILDREN  \\\n",
       "0          100002       1         Cash loans      M   N     Y             0   \n",
       "2          100004       0    Revolving loans      M   Y     Y             0   \n",
       "3          100006       0         Cash loans      F   N     Y             0   \n",
       "4          100007       0         Cash loans      M   N     Y             0   \n",
       "5          100008       0         Cash loans      M   N     Y             0   \n",
       "...           ...     ...                ...    ...  ..   ...           ...   \n",
       "99994      216085       0         Cash loans      M   Y     N             0   \n",
       "99995      216086       0         Cash loans      F   N     Y             1   \n",
       "99996      216087       0         Cash loans      F   N     Y             1   \n",
       "99998      216089       0         Cash loans      F   Y     N             0   \n",
       "99999      216090       0    Revolving loans      M   Y     Y             0   \n",
       "\n",
       "       AMT_INCOME_TOTAL  AMT_CREDIT  AMT_GOODS_PRICE  ... DAYS_EMPLOYED  \\\n",
       "0              202500.0    406597.5         351000.0  ...          -637   \n",
       "2               67500.0    135000.0         135000.0  ...          -225   \n",
       "3              135000.0    312682.5         297000.0  ...         -3039   \n",
       "4              121500.0    513000.0         513000.0  ...         -3038   \n",
       "5               99000.0    490495.5         454500.0  ...         -1588   \n",
       "...                 ...         ...              ...  ...           ...   \n",
       "99994          225000.0    612000.0         612000.0  ...          -135   \n",
       "99995          157500.0    755190.0         675000.0  ...          -232   \n",
       "99996          225000.0    284400.0         225000.0  ...          -182   \n",
       "99998          135000.0    225000.0         225000.0  ...          -340   \n",
       "99999          202500.0    337500.0         337500.0  ...         -3230   \n",
       "\n",
       "      MOBILE WORK_PHONE HOME_PHONE  MOBILE_REACHABLE  FLAG_EMAIL  \\\n",
       "0          1          1          0                 1           0   \n",
       "2          1          1          1                 1           0   \n",
       "3          1          1          0                 1           0   \n",
       "4          1          1          0                 1           0   \n",
       "5          1          1          1                 1           0   \n",
       "...      ...        ...        ...               ...         ...   \n",
       "99994      1          1          0                 1           0   \n",
       "99995      1          1          1                 1           0   \n",
       "99996      1          1          0                 1           0   \n",
       "99998      1          1          0                 1           0   \n",
       "99999      1          1          1                 1           0   \n",
       "\n",
       "       OCCUPATION_TYPE  CNT_FAM_MEMBERS  APPLICATION_DAY  TOTAL_DOC_SUBMITTED  \n",
       "0             Laborers              1.0        WEDNESDAY                    1  \n",
       "2             Laborers              1.0           MONDAY                    0  \n",
       "3             Laborers              2.0        WEDNESDAY                    1  \n",
       "4           Core staff              1.0         THURSDAY                    1  \n",
       "5             Laborers              2.0        WEDNESDAY                    1  \n",
       "...                ...              ...              ...                  ...  \n",
       "99994         Laborers              2.0         SATURDAY                    1  \n",
       "99995      Sales staff              3.0           MONDAY                    1  \n",
       "99996         Managers              3.0          TUESDAY                    1  \n",
       "99998      Sales staff              2.0           FRIDAY                    2  \n",
       "99999          Drivers              2.0         SATURDAY                    0  \n",
       "\n",
       "[81992 rows x 24 columns]"
      ]
     },
     "execution_count": 37,
     "metadata": {},
     "output_type": "execute_result"
    }
   ],
   "source": [
    "df_filtered= df[((df.AMT_INCOME_TOTAL > 25650) & (df.AMT_INCOME_TOTAL <= 400000)) & ((df.AMT_CREDIT > 45000) & (df.AMT_CREDIT < 1000000))\n",
    "             & ((df.AMT_GOODS_PRICE > 45000) & (df.AMT_GOODS_PRICE< 1000000))]\n",
    "df_filtered"
   ]
  },
  {
   "cell_type": "code",
   "execution_count": 38,
   "id": "eeea35fd",
   "metadata": {},
   "outputs": [
    {
     "data": {
      "image/png": "[encoded data removed]",
      "text/plain": [
       "<Figure size 864x432 with 1 Axes>"
      ]
     },
     "metadata": {
      "needs_background": "light"
     },
     "output_type": "display_data"
    }
   ],
   "source": [
    "fig, ax = plt.subplots(figsize=(12, 6))\n",
    "sns.countplot(x='NAME_CONTRACT_TYPE', hue='TARGET', data=df)\n",
    "ax.set_xlabel('contractType')\n",
    "ax.set_ylabel('Count')\n",
    "ax.set_title('Distribution of contract Type by Target',fontweight='bold',fontsize=20)\n",
    "plt.xticks(rotation=70)\n",
    "\n",
    "\n",
    "plt.show()\n"
   ]
  },
  {
   "cell_type": "code",
   "execution_count": 39,
   "id": "8c151269",
   "metadata": {},
   "outputs": [
    {
     "ename": "SyntaxError",
     "evalue": "invalid syntax (Temp/ipykernel_13576/528357793.py, line 1)",
     "output_type": "error",
     "traceback": [
      "\u001b[1;36m  File \u001b[1;32m\"C:\\Users\\vijaya\\AppData\\Local\\Temp/ipykernel_13576/528357793.py\"\u001b[1;36m, line \u001b[1;32m1\u001b[0m\n\u001b[1;33m    INTERPRETATION-More cash loans are defaulting than the revolving loans\u001b[0m\n\u001b[1;37m                        ^\u001b[0m\n\u001b[1;31mSyntaxError\u001b[0m\u001b[1;31m:\u001b[0m invalid syntax\n"
     ]
    }
   ],
   "source": [
    "INTERPRETATION-More cash loans are defaulting than the revolving loans"
   ]
  },
  {
   "cell_type": "code",
   "execution_count": 60,
   "id": "a3a8ad06",
   "metadata": {},
   "outputs": [
    {
     "data": {
      "image/png": "[encoded data removed]",
      "text/plain": [
       "<Figure size 1152x432 with 2 Axes>"
      ]
     },
     "metadata": {
      "needs_background": "light"
     },
     "output_type": "display_data"
    }
   ],
   "source": [
    "#for amt_income column\n",
    "fig, ax= plt.subplots(1,2, figsize=(16,6))\n",
    "\n",
    "# Histogram plot\n",
    "bins=np.arange(50000,500000,50000)\n",
    "sns.histplot(x='AMT_INCOME_TOTAL', hue='TARGET', data=df_filtered, bins=bins, ax=ax[0])\n",
    "ax[0].set_xlabel('Total income')\n",
    "ax[0].set_ylabel('Frequency')\n",
    "ax[0].set_title('Distribution of Total Income by Target',fontweight='bold',fontsize=14)\n",
    "\n",
    "# Boxplot\n",
    "sns.boxplot(x='TARGET', y='AMT_INCOME_TOTAL', data=df_filtered, ax=ax[1])\n",
    "ax[1].set_xlabel('Target')\n",
    "ax[1].set_ylabel('Total income')\n",
    "ax[1].set_title('Boxplot of Total Income by Target',fontweight='bold',fontsize=14)\n",
    "plt.show()\n"
   ]
  },
  {
   "cell_type": "raw",
   "id": "deb6f695",
   "metadata": {},
   "source": [
    "INTERPRETATION-customers who are non-defaulters have a higher distribution of total income compared to defaulters. Specifically, non-defaulters are earning upto 250000 ."
   ]
  },
  {
   "cell_type": "code",
   "execution_count": 54,
   "id": "0ed6fcc4",
   "metadata": {},
   "outputs": [
    {
     "data": {
      "image/png": "[encoded data removed]",
      "text/plain": [
       "<Figure size 720x432 with 1 Axes>"
      ]
     },
     "metadata": {
      "needs_background": "light"
     },
     "output_type": "display_data"
    }
   ],
   "source": [
    "#for amt_credit column\n",
    "\n",
    "fig, ax = plt.subplots(figsize=(10, 6))\n",
    "bins = np.arange(100000, 1000000, 100000)\n",
    "\n",
    "\n",
    "sns.histplot(x='AMT_CREDIT', hue='TARGET',bins=bins, data=df_filtered, ax=ax)\n",
    "ax.set_xlabel('AMT_CREDIT')\n",
    "ax.set_ylabel('Frequency')\n",
    "ax.set_title('Distribution of AMT_CREDIT by Target', fontweight='bold', fontsize=14)\n",
    "\n",
    "plt.show()"
   ]
  },
  {
   "cell_type": "raw",
   "id": "862615a2",
   "metadata": {},
   "source": [
    "INTERPRETATION-Non-defaulters having a wider distribution of credit amounts than defaulters indicates a greater variability in credit amounts among non-defaulters.The narrower distribution among defaulters may suggest that they have more similar characteristics, which could be indicative of a higher risk group"
   ]
  },
  {
   "cell_type": "code",
   "execution_count": 58,
   "id": "47b3669b",
   "metadata": {},
   "outputs": [
    {
     "data": {
      "text/plain": [
       "117000000.0"
      ]
     },
     "execution_count": 58,
     "metadata": {},
     "output_type": "execute_result"
    }
   ],
   "source": [
    "df['AMT_INCOME_TOTAL'].min()\n",
    "df['AMT_INCOME_TOTAL'].max()"
   ]
  },
  {
   "cell_type": "code",
   "execution_count": null,
   "id": "dd76644b",
   "metadata": {},
   "outputs": [],
   "source": [
    "#FOR GOODS-PRICE COLUMN\n",
    "fig, ax = plt.subplots(1,2,figsize=(12, 6))\n",
    "#histplot\n",
    "bins=np.arange(45000,1000000,100000)\n",
    "sns.histplot(x='AMT_GOODS_PRICE', hue='TARGET', data=df_filtered, kde=False,bins=bins, ax=ax[0])\n",
    "ax[0].set_xlabel('Goods Price')\n",
    "ax[0].set_ylabel('Frequency')\n",
    "ax[0].set_title('Distribution of Goods Price by Target')\n",
    "\n",
    "# boxplot\n",
    "sns.boxplot(x='TARGET', y='AMT_GOODS_PRICE', data=df_filtered, ax=ax[1])\n",
    "ax[1].set_xlabel('Target')\n",
    "ax[1].set_ylabel('Goods Price')\n",
    "ax[1].set_title('Boxplot of Goods Price by Target')\n",
    "\n",
    "plt.show()\n"
   ]
  },
  {
   "cell_type": "raw",
   "id": "92529172",
   "metadata": {},
   "source": [
    "INTERPRETAION-The histogram shows that the goods price for non-defaulters is generally higher than for defaulters, indicating a possible correlation between the amount of goods purchased and the borrower's ability to repay the loan"
   ]
  },
  {
   "cell_type": "code",
   "execution_count": null,
   "id": "fcbb3fbd",
   "metadata": {},
   "outputs": [],
   "source": [
    "df.columns"
   ]
  },
  {
   "cell_type": "code",
   "execution_count": null,
   "id": "1d3a62e5",
   "metadata": {},
   "outputs": [],
   "source": [
    "#relation between goods_price and amount credit\n",
    "\n",
    "fig, ax = plt.subplots(1, 2, figsize=(12, 6))\n",
    "\n",
    "# Line chart for AMT_GOODS_PRICE vs AMT_CREDIT\n",
    "sns.lineplot(x='AMT_GOODS_PRICE', y='AMT_CREDIT', data=df, ax=ax[0])\n",
    "ax[0].set_xlabel('Goods Price')\n",
    "ax[0].set_ylabel('Amount credit')\n",
    "ax[0].set_title('Correlation between Goods Price and Amount Credit', fontweight='bold', fontsize=10)\n",
    "\n",
    "# Line chart for cnt_children vs cnt_family_members\n",
    "sns.lineplot(x='CNT_CHILDREN', y='CNT_FAM_MEMBERS', data=df, ax=ax[1])\n",
    "ax[1].set_xlabel('Count of Children')\n",
    "ax[1].set_ylabel('Count of Family Members')\n",
    "ax[1].set_title('Correlation between Family Members and Children Count', fontweight='bold', fontsize=10)\n",
    "\n",
    "# Show the plot\n",
    "plt.show()\n"
   ]
  },
  {
   "cell_type": "raw",
   "id": "06811a80",
   "metadata": {},
   "source": [
    "INTERPRETATION-The line plot shows a gradual increase in credit limit as the goods price increases, indicating a positive correlation between the two variables. This suggests that customers who purchase higher-priced goods are offered higher credit limits by the bank.Similarly, in the second chart, we can see that as the count of children increases, the count of family members also tends to increase."
   ]
  },
  {
   "cell_type": "code",
   "execution_count": 61,
   "id": "78463fe8",
   "metadata": {},
   "outputs": [
    {
     "data": {
      "image/png": "[encoded data removed]",
      "text/plain": [
       "<Figure size 864x432 with 1 Axes>"
      ]
     },
     "metadata": {
      "needs_background": "light"
     },
     "output_type": "display_data"
    }
   ],
   "source": [
    "#relation between income type and customers\n",
    "fig, ax = plt.subplots(figsize=(12, 6))\n",
    "sns.countplot(x='NAME_INCOME_TYPE', hue='TARGET', data=df)\n",
    "ax.set_xlabel('Income Type')\n",
    "ax.set_ylabel('Count')\n",
    "ax.set_title('Distribution of Income Type by Target',fontweight='bold',fontsize=20)\n",
    "plt.xticks(rotation=70)\n",
    "\n",
    "\n",
    "plt.show()\n"
   ]
  },
  {
   "cell_type": "raw",
   "id": "84958e3d",
   "metadata": {},
   "source": [
    "INTERPRETATION- we can Interprete  that non-defaulters have a higher proportion of working, state servant, and commercial associate income types. This could indicate that individuals with these types of income sources may have a more stable source of income and are more capable of repaying their loans, leading to a reduced risk of default."
   ]
  },
  {
   "cell_type": "code",
   "execution_count": null,
   "id": "79e91a0b",
   "metadata": {},
   "outputs": [],
   "source": [
    "#relation between family status and atrget\n",
    "fig, ax = plt.subplots(figsize=(12, 6))\n",
    "sns.countplot(x='NAME_FAMILY_STATUS',hue='TARGET', data=df)\n",
    "ax.set_xlabel('Family status')\n",
    "ax.set_ylabel('Count')\n",
    "ax.set_title('Distribution of family status by Target',fontweight='bold',fontsize=20)\n",
    "\n",
    "plt.show()"
   ]
  },
  {
   "cell_type": "raw",
   "id": "9f9a4b59",
   "metadata": {},
   "source": [
    "INTERPRETATION-75% of non-defaulters are married, which could indicate a greater sense of financial stability and responsibility, as well as a higher likelihood of having a dual income to support loan repayment.For defaulters, the percentage of married individuals is lower,It's possible that single individuals may have higher levels of  financial responsibilities, or they may have a lower income ."
   ]
  },
  {
   "cell_type": "code",
   "execution_count": null,
   "id": "b56e6f94",
   "metadata": {},
   "outputs": [],
   "source": [
    "\n",
    "fig, axs = plt.subplots(1,2, figsize=(12, 5))\n",
    "\n",
    "# count plots\n",
    "sns.countplot(x='CNT_CHILDREN', hue='TARGET', data=df, ax=axs[0],palette='Pastel1')\n",
    "sns.countplot(x='CNT_FAM_MEMBERS', hue='TARGET', data=df, ax=axs[1],palette='Pastel2',order=df['CNT_FAM_MEMBERS'].astype(int).value_counts().index)\n",
    "axs[0].set_xlabel('Number of Children')\n",
    "axs[0].set_ylabel('Count')\n",
    "axs[0].set_title('Distribution of Target by Number of Children',fontweight='bold',fontsize=12)\n",
    "axs[1].set_xlabel('Number of Family Members')\n",
    "axs[1].set_ylabel('Count')\n",
    "axs[1].set_title('Distribution of Target by Number of Family Members',fontweight='bold',fontsize=12)\n",
    "axs[1].tick_params(axis='x', rotation=90)\n",
    "\n",
    "plt.show()\n"
   ]
  },
  {
   "cell_type": "raw",
   "id": "9e8a515c",
   "metadata": {},
   "source": [
    "INTERPRETATION-The first plot shows that clients with 0 children are the most numerous and they have the highest number of non-defaulters. On the other hand, clients with 2 children have the lowest number of defaulters"
   ]
  },
  {
   "cell_type": "raw",
   "id": "5154a50e",
   "metadata": {},
   "source": [
    "The second plot shows that clients with 1 or 2 family members are the most numerous and they have the highest number of non-defaulters. This suggests that having a small family might be associated with a lower risk of defaulting"
   ]
  },
  {
   "cell_type": "code",
   "execution_count": null,
   "id": "bb7af2d8",
   "metadata": {},
   "outputs": [],
   "source": []
  },
  {
   "cell_type": "code",
   "execution_count": null,
   "id": "e5104081",
   "metadata": {},
   "outputs": [],
   "source": [
    "df.columns"
   ]
  },
  {
   "cell_type": "code",
   "execution_count": null,
   "id": "f34133ee",
   "metadata": {},
   "outputs": [],
   "source": [
    "df['OCCUPATION_TYPE'].unique()\n"
   ]
  },
  {
   "cell_type": "code",
   "execution_count": 62,
   "id": "c693d3c6",
   "metadata": {},
   "outputs": [
    {
     "data": {
      "image/png": "[encoded data removed]",
      "text/plain": [
       "<Figure size 864x432 with 1 Axes>"
      ]
     },
     "metadata": {
      "needs_background": "light"
     },
     "output_type": "display_data"
    }
   ],
   "source": [
    "#relation between occupation type and target\n",
    "fig, ax = plt.subplots(figsize=(12, 6))\n",
    "sns.countplot(x='OCCUPATION_TYPE', hue='TARGET', data=df_filtered)\n",
    "plt.xlabel('Occupation Type')\n",
    "plt.ylabel('Count')\n",
    "plt.title('Distribution of Occupation Type by Target',fontsize=15,fontweight='bold')\n",
    "plt.xticks(rotation=70)\n",
    "plt.show()\n"
   ]
  },
  {
   "cell_type": "raw",
   "id": "294b47c2",
   "metadata": {},
   "source": [
    "INTERPRETATION-Higher percentage of non-defaulters are in the laborers and sales staff occupations. This could be indicative of a higher level of job security and steady income, resulting in a lower likelihood of default. "
   ]
  },
  {
   "cell_type": "code",
   "execution_count": null,
   "id": "ee51191b",
   "metadata": {},
   "outputs": [],
   "source": [
    "df[['MOBILE', 'WORK_PHONE', 'HOME_PHONE', 'MOBILE_REACHABLE', 'FLAG_EMAIL', 'TOTAL_DOC_SUBMITTED']]\n"
   ]
  },
  {
   "cell_type": "markdown",
   "id": "9e07fc55",
   "metadata": {},
   "source": [
    "# LEVEL-3-MULTIVARIATE ANALYSIS"
   ]
  },
  {
   "cell_type": "code",
   "execution_count": null,
   "id": "0cc93918",
   "metadata": {},
   "outputs": [],
   "source": [
    "df['FLAG_EMAIL'].unique()"
   ]
  },
  {
   "cell_type": "code",
   "execution_count": 64,
   "id": "9bca262d",
   "metadata": {},
   "outputs": [],
   "source": [
    "df_B=df[(df['MOBILE'] == 1) & (df['WORK_PHONE'] == 1) & (df['MOBILE_REACHABLE']==1)&\n",
    "          (df['TOTAL_DOC_SUBMITTED'] >= 1) & (df['TOTAL_DOC_SUBMITTED'] <= 4)]\n"
   ]
  },
  {
   "cell_type": "code",
   "execution_count": 65,
   "id": "7af0dc42",
   "metadata": {},
   "outputs": [
    {
     "data": {
      "text/html": [
       "<div>\n",
       "<style scoped>\n",
       "    .dataframe tbody tr th:only-of-type {\n",
       "        vertical-align: middle;\n",
       "    }\n",
       "\n",
       "    .dataframe tbody tr th {\n",
       "        vertical-align: top;\n",
       "    }\n",
       "\n",
       "    .dataframe thead th {\n",
       "        text-align: right;\n",
       "    }\n",
       "</style>\n",
       "<table border=\"1\" class=\"dataframe\">\n",
       "  <thead>\n",
       "    <tr style=\"text-align: right;\">\n",
       "      <th></th>\n",
       "      <th>SK_ID_CURR</th>\n",
       "      <th>TARGET</th>\n",
       "      <th>NAME_CONTRACT_TYPE</th>\n",
       "      <th>GENDER</th>\n",
       "      <th>Car</th>\n",
       "      <th>House</th>\n",
       "      <th>CNT_CHILDREN</th>\n",
       "      <th>AMT_INCOME_TOTAL</th>\n",
       "      <th>AMT_CREDIT</th>\n",
       "      <th>AMT_GOODS_PRICE</th>\n",
       "      <th>...</th>\n",
       "      <th>DAYS_EMPLOYED</th>\n",
       "      <th>MOBILE</th>\n",
       "      <th>WORK_PHONE</th>\n",
       "      <th>HOME_PHONE</th>\n",
       "      <th>MOBILE_REACHABLE</th>\n",
       "      <th>FLAG_EMAIL</th>\n",
       "      <th>OCCUPATION_TYPE</th>\n",
       "      <th>CNT_FAM_MEMBERS</th>\n",
       "      <th>APPLICATION_DAY</th>\n",
       "      <th>TOTAL_DOC_SUBMITTED</th>\n",
       "    </tr>\n",
       "  </thead>\n",
       "  <tbody>\n",
       "    <tr>\n",
       "      <th>0</th>\n",
       "      <td>100002</td>\n",
       "      <td>1</td>\n",
       "      <td>Cash loans</td>\n",
       "      <td>M</td>\n",
       "      <td>N</td>\n",
       "      <td>Y</td>\n",
       "      <td>0</td>\n",
       "      <td>202500.0</td>\n",
       "      <td>406597.5</td>\n",
       "      <td>351000.0</td>\n",
       "      <td>...</td>\n",
       "      <td>-637</td>\n",
       "      <td>1</td>\n",
       "      <td>1</td>\n",
       "      <td>0</td>\n",
       "      <td>1</td>\n",
       "      <td>0</td>\n",
       "      <td>Laborers</td>\n",
       "      <td>1.0</td>\n",
       "      <td>WEDNESDAY</td>\n",
       "      <td>1</td>\n",
       "    </tr>\n",
       "    <tr>\n",
       "      <th>1</th>\n",
       "      <td>100003</td>\n",
       "      <td>0</td>\n",
       "      <td>Cash loans</td>\n",
       "      <td>F</td>\n",
       "      <td>N</td>\n",
       "      <td>N</td>\n",
       "      <td>0</td>\n",
       "      <td>270000.0</td>\n",
       "      <td>1293502.5</td>\n",
       "      <td>1129500.0</td>\n",
       "      <td>...</td>\n",
       "      <td>-1188</td>\n",
       "      <td>1</td>\n",
       "      <td>1</td>\n",
       "      <td>0</td>\n",
       "      <td>1</td>\n",
       "      <td>0</td>\n",
       "      <td>Core staff</td>\n",
       "      <td>2.0</td>\n",
       "      <td>MONDAY</td>\n",
       "      <td>1</td>\n",
       "    </tr>\n",
       "    <tr>\n",
       "      <th>3</th>\n",
       "      <td>100006</td>\n",
       "      <td>0</td>\n",
       "      <td>Cash loans</td>\n",
       "      <td>F</td>\n",
       "      <td>N</td>\n",
       "      <td>Y</td>\n",
       "      <td>0</td>\n",
       "      <td>135000.0</td>\n",
       "      <td>312682.5</td>\n",
       "      <td>297000.0</td>\n",
       "      <td>...</td>\n",
       "      <td>-3039</td>\n",
       "      <td>1</td>\n",
       "      <td>1</td>\n",
       "      <td>0</td>\n",
       "      <td>1</td>\n",
       "      <td>0</td>\n",
       "      <td>Laborers</td>\n",
       "      <td>2.0</td>\n",
       "      <td>WEDNESDAY</td>\n",
       "      <td>1</td>\n",
       "    </tr>\n",
       "    <tr>\n",
       "      <th>4</th>\n",
       "      <td>100007</td>\n",
       "      <td>0</td>\n",
       "      <td>Cash loans</td>\n",
       "      <td>M</td>\n",
       "      <td>N</td>\n",
       "      <td>Y</td>\n",
       "      <td>0</td>\n",
       "      <td>121500.0</td>\n",
       "      <td>513000.0</td>\n",
       "      <td>513000.0</td>\n",
       "      <td>...</td>\n",
       "      <td>-3038</td>\n",
       "      <td>1</td>\n",
       "      <td>1</td>\n",
       "      <td>0</td>\n",
       "      <td>1</td>\n",
       "      <td>0</td>\n",
       "      <td>Core staff</td>\n",
       "      <td>1.0</td>\n",
       "      <td>THURSDAY</td>\n",
       "      <td>1</td>\n",
       "    </tr>\n",
       "    <tr>\n",
       "      <th>5</th>\n",
       "      <td>100008</td>\n",
       "      <td>0</td>\n",
       "      <td>Cash loans</td>\n",
       "      <td>M</td>\n",
       "      <td>N</td>\n",
       "      <td>Y</td>\n",
       "      <td>0</td>\n",
       "      <td>99000.0</td>\n",
       "      <td>490495.5</td>\n",
       "      <td>454500.0</td>\n",
       "      <td>...</td>\n",
       "      <td>-1588</td>\n",
       "      <td>1</td>\n",
       "      <td>1</td>\n",
       "      <td>1</td>\n",
       "      <td>1</td>\n",
       "      <td>0</td>\n",
       "      <td>Laborers</td>\n",
       "      <td>2.0</td>\n",
       "      <td>WEDNESDAY</td>\n",
       "      <td>1</td>\n",
       "    </tr>\n",
       "    <tr>\n",
       "      <th>...</th>\n",
       "      <td>...</td>\n",
       "      <td>...</td>\n",
       "      <td>...</td>\n",
       "      <td>...</td>\n",
       "      <td>...</td>\n",
       "      <td>...</td>\n",
       "      <td>...</td>\n",
       "      <td>...</td>\n",
       "      <td>...</td>\n",
       "      <td>...</td>\n",
       "      <td>...</td>\n",
       "      <td>...</td>\n",
       "      <td>...</td>\n",
       "      <td>...</td>\n",
       "      <td>...</td>\n",
       "      <td>...</td>\n",
       "      <td>...</td>\n",
       "      <td>...</td>\n",
       "      <td>...</td>\n",
       "      <td>...</td>\n",
       "      <td>...</td>\n",
       "    </tr>\n",
       "    <tr>\n",
       "      <th>99994</th>\n",
       "      <td>216085</td>\n",
       "      <td>0</td>\n",
       "      <td>Cash loans</td>\n",
       "      <td>M</td>\n",
       "      <td>Y</td>\n",
       "      <td>N</td>\n",
       "      <td>0</td>\n",
       "      <td>225000.0</td>\n",
       "      <td>612000.0</td>\n",
       "      <td>612000.0</td>\n",
       "      <td>...</td>\n",
       "      <td>-135</td>\n",
       "      <td>1</td>\n",
       "      <td>1</td>\n",
       "      <td>0</td>\n",
       "      <td>1</td>\n",
       "      <td>0</td>\n",
       "      <td>Laborers</td>\n",
       "      <td>2.0</td>\n",
       "      <td>SATURDAY</td>\n",
       "      <td>1</td>\n",
       "    </tr>\n",
       "    <tr>\n",
       "      <th>99995</th>\n",
       "      <td>216086</td>\n",
       "      <td>0</td>\n",
       "      <td>Cash loans</td>\n",
       "      <td>F</td>\n",
       "      <td>N</td>\n",
       "      <td>Y</td>\n",
       "      <td>1</td>\n",
       "      <td>157500.0</td>\n",
       "      <td>755190.0</td>\n",
       "      <td>675000.0</td>\n",
       "      <td>...</td>\n",
       "      <td>-232</td>\n",
       "      <td>1</td>\n",
       "      <td>1</td>\n",
       "      <td>1</td>\n",
       "      <td>1</td>\n",
       "      <td>0</td>\n",
       "      <td>Sales staff</td>\n",
       "      <td>3.0</td>\n",
       "      <td>MONDAY</td>\n",
       "      <td>1</td>\n",
       "    </tr>\n",
       "    <tr>\n",
       "      <th>99996</th>\n",
       "      <td>216087</td>\n",
       "      <td>0</td>\n",
       "      <td>Cash loans</td>\n",
       "      <td>F</td>\n",
       "      <td>N</td>\n",
       "      <td>Y</td>\n",
       "      <td>1</td>\n",
       "      <td>225000.0</td>\n",
       "      <td>284400.0</td>\n",
       "      <td>225000.0</td>\n",
       "      <td>...</td>\n",
       "      <td>-182</td>\n",
       "      <td>1</td>\n",
       "      <td>1</td>\n",
       "      <td>0</td>\n",
       "      <td>1</td>\n",
       "      <td>0</td>\n",
       "      <td>Managers</td>\n",
       "      <td>3.0</td>\n",
       "      <td>TUESDAY</td>\n",
       "      <td>1</td>\n",
       "    </tr>\n",
       "    <tr>\n",
       "      <th>99997</th>\n",
       "      <td>216088</td>\n",
       "      <td>0</td>\n",
       "      <td>Cash loans</td>\n",
       "      <td>F</td>\n",
       "      <td>Y</td>\n",
       "      <td>Y</td>\n",
       "      <td>0</td>\n",
       "      <td>135000.0</td>\n",
       "      <td>1262583.0</td>\n",
       "      <td>1102500.0</td>\n",
       "      <td>...</td>\n",
       "      <td>-4805</td>\n",
       "      <td>1</td>\n",
       "      <td>1</td>\n",
       "      <td>0</td>\n",
       "      <td>1</td>\n",
       "      <td>0</td>\n",
       "      <td>Sales staff</td>\n",
       "      <td>2.0</td>\n",
       "      <td>TUESDAY</td>\n",
       "      <td>1</td>\n",
       "    </tr>\n",
       "    <tr>\n",
       "      <th>99998</th>\n",
       "      <td>216089</td>\n",
       "      <td>0</td>\n",
       "      <td>Cash loans</td>\n",
       "      <td>F</td>\n",
       "      <td>Y</td>\n",
       "      <td>N</td>\n",
       "      <td>0</td>\n",
       "      <td>135000.0</td>\n",
       "      <td>225000.0</td>\n",
       "      <td>225000.0</td>\n",
       "      <td>...</td>\n",
       "      <td>-340</td>\n",
       "      <td>1</td>\n",
       "      <td>1</td>\n",
       "      <td>0</td>\n",
       "      <td>1</td>\n",
       "      <td>0</td>\n",
       "      <td>Sales staff</td>\n",
       "      <td>2.0</td>\n",
       "      <td>FRIDAY</td>\n",
       "      <td>2</td>\n",
       "    </tr>\n",
       "  </tbody>\n",
       "</table>\n",
       "<p>73504 rows × 24 columns</p>\n",
       "</div>"
      ],
      "text/plain": [
       "       SK_ID_CURR  TARGET NAME_CONTRACT_TYPE GENDER Car House  CNT_CHILDREN  \\\n",
       "0          100002       1         Cash loans      M   N     Y             0   \n",
       "1          100003       0         Cash loans      F   N     N             0   \n",
       "3          100006       0         Cash loans      F   N     Y             0   \n",
       "4          100007       0         Cash loans      M   N     Y             0   \n",
       "5          100008       0         Cash loans      M   N     Y             0   \n",
       "...           ...     ...                ...    ...  ..   ...           ...   \n",
       "99994      216085       0         Cash loans      M   Y     N             0   \n",
       "99995      216086       0         Cash loans      F   N     Y             1   \n",
       "99996      216087       0         Cash loans      F   N     Y             1   \n",
       "99997      216088       0         Cash loans      F   Y     Y             0   \n",
       "99998      216089       0         Cash loans      F   Y     N             0   \n",
       "\n",
       "       AMT_INCOME_TOTAL  AMT_CREDIT  AMT_GOODS_PRICE  ... DAYS_EMPLOYED  \\\n",
       "0              202500.0    406597.5         351000.0  ...          -637   \n",
       "1              270000.0   1293502.5        1129500.0  ...         -1188   \n",
       "3              135000.0    312682.5         297000.0  ...         -3039   \n",
       "4              121500.0    513000.0         513000.0  ...         -3038   \n",
       "5               99000.0    490495.5         454500.0  ...         -1588   \n",
       "...                 ...         ...              ...  ...           ...   \n",
       "99994          225000.0    612000.0         612000.0  ...          -135   \n",
       "99995          157500.0    755190.0         675000.0  ...          -232   \n",
       "99996          225000.0    284400.0         225000.0  ...          -182   \n",
       "99997          135000.0   1262583.0        1102500.0  ...         -4805   \n",
       "99998          135000.0    225000.0         225000.0  ...          -340   \n",
       "\n",
       "      MOBILE WORK_PHONE HOME_PHONE  MOBILE_REACHABLE  FLAG_EMAIL  \\\n",
       "0          1          1          0                 1           0   \n",
       "1          1          1          0                 1           0   \n",
       "3          1          1          0                 1           0   \n",
       "4          1          1          0                 1           0   \n",
       "5          1          1          1                 1           0   \n",
       "...      ...        ...        ...               ...         ...   \n",
       "99994      1          1          0                 1           0   \n",
       "99995      1          1          1                 1           0   \n",
       "99996      1          1          0                 1           0   \n",
       "99997      1          1          0                 1           0   \n",
       "99998      1          1          0                 1           0   \n",
       "\n",
       "       OCCUPATION_TYPE  CNT_FAM_MEMBERS  APPLICATION_DAY  TOTAL_DOC_SUBMITTED  \n",
       "0             Laborers              1.0        WEDNESDAY                    1  \n",
       "1           Core staff              2.0           MONDAY                    1  \n",
       "3             Laborers              2.0        WEDNESDAY                    1  \n",
       "4           Core staff              1.0         THURSDAY                    1  \n",
       "5             Laborers              2.0        WEDNESDAY                    1  \n",
       "...                ...              ...              ...                  ...  \n",
       "99994         Laborers              2.0         SATURDAY                    1  \n",
       "99995      Sales staff              3.0           MONDAY                    1  \n",
       "99996         Managers              3.0          TUESDAY                    1  \n",
       "99997      Sales staff              2.0          TUESDAY                    1  \n",
       "99998      Sales staff              2.0           FRIDAY                    2  \n",
       "\n",
       "[73504 rows x 24 columns]"
      ]
     },
     "execution_count": 65,
     "metadata": {},
     "output_type": "execute_result"
    }
   ],
   "source": [
    "df_B"
   ]
  },
  {
   "cell_type": "code",
   "execution_count": null,
   "id": "71bb928e",
   "metadata": {},
   "outputs": [],
   "source": []
  },
  {
   "cell_type": "code",
   "execution_count": 66,
   "id": "8e385f83",
   "metadata": {},
   "outputs": [
    {
     "data": {
      "image/png": "[encoded data removed]",
      "text/plain": [
       "<Figure size 864x432 with 2 Axes>"
      ]
     },
     "metadata": {
      "needs_background": "light"
     },
     "output_type": "display_data"
    }
   ],
   "source": [
    "fig, ax = plt.subplots(1, 2, figsize=(12, 6))\n",
    "\n",
    "#  countplot-for mobile\n",
    "sns.countplot(x='MOBILE', hue='TARGET', data=df_B, ax=ax[0])\n",
    "ax[0].set_xlabel('Mobile')\n",
    "ax[0].set_ylabel('Count')\n",
    "ax[0].set_title('Distribution of Mobile by Target')\n",
    "\n",
    "# countplot-for work_phone\n",
    "sns.countplot(x='WORK_PHONE', hue='TARGET', data=df_B, ax=ax[1])\n",
    "ax[1].set_xlabel('Work Phone')\n",
    "ax[1].set_ylabel('Count')\n",
    "ax[1].set_title('Distribution of Work Phone by Target')\n",
    "plt.show()\n"
   ]
  },
  {
   "cell_type": "raw",
   "id": "d7e87a3c",
   "metadata": {},
   "source": [
    "INTERPRETATION-Non-defaulters providing their mobile and work phone numbers than the defaulters\n",
    "may indicate greater financial stability and responsibility to repay the loan"
   ]
  },
  {
   "cell_type": "code",
   "execution_count": 67,
   "id": "e6f94b6c",
   "metadata": {},
   "outputs": [
    {
     "data": {
      "image/png": "[encoded data removed]",
      "text/plain": [
       "<Figure size 864x432 with 2 Axes>"
      ]
     },
     "metadata": {
      "needs_background": "light"
     },
     "output_type": "display_data"
    }
   ],
   "source": [
    "fig, ax = plt.subplots(1, 2, figsize=(12, 6))\n",
    "\n",
    "# countplot for Mobile Recharge\n",
    "sns.countplot(x='MOBILE_REACHABLE', hue='TARGET', data=df_B, ax=ax[0])\n",
    "ax[0].set_xlabel('Mobile Recharge')\n",
    "ax[0].set_ylabel('Count')\n",
    "ax[0].set_title('Distribution of Mobile Recharge by Target')\n",
    "\n",
    "# countplot for Documents Submitted\n",
    "sns.countplot(x='TOTAL_DOC_SUBMITTED', hue='TARGET', data=df_B, ax=ax[1])\n",
    "ax[1].set_xlabel('Documents Submitted')\n",
    "ax[1].set_ylabel('Count')\n",
    "ax[1].set_title('Distribution of Documents Submitted by Target')\n",
    "\n",
    "plt.show()\n"
   ]
  },
  {
   "cell_type": "code",
   "execution_count": null,
   "id": "18cfa4d9",
   "metadata": {},
   "outputs": [],
   "source": [
    "INTERPRETATION-non-defaulters have a higher occurence of doing the  mobile recharge and submitted atleast  1 or 2 documents \n",
    "than defaulters, it may suggest greater financial responsibility and reliability of no_defaulters"
   ]
  },
  {
   "cell_type": "code",
   "execution_count": null,
   "id": "baa0eb3c",
   "metadata": {},
   "outputs": [],
   "source": [
    "df.columns.unique()"
   ]
  },
  {
   "cell_type": "markdown",
   "id": "fe5bd99b",
   "metadata": {},
   "source": [
    "# LEVEL-3-MULTIVARIATE ANALYSIS"
   ]
  },
  {
   "cell_type": "code",
   "execution_count": 33,
   "id": "29bec003",
   "metadata": {},
   "outputs": [],
   "source": [
    "#filtering the data based on some criteria which i ahve got as a result in bivariate analysis\n",
    "df_c=df[(df['CNT_CHILDREN'] == 0) & \\\n",
    "        (df['House']=='Y')&\\\n",
    "                 (df['NAME_FAMILY_STATUS'].isin(['Married','Single']))& \\\n",
    "                 (df['OCCUPATION_TYPE'].isin(['Sales staff', 'Laborers','Drivers','Core staff'])) & \\\n",
    "                 (df['NAME_INCOME_TYPE'].isin(['Working', 'Pensioner', 'State servant','Commercial associate'])) & \\\n",
    "                 (df['NAME_EDUCATION_TYPE'].isin(['Higher education', 'Secondary / secondary special']))&\\\n",
    "       (df['CNT_FAM_MEMBERS'] >= 0) & (df['CNT_FAM_MEMBERS'] <= 2)]\n"
   ]
  },
  {
   "cell_type": "code",
   "execution_count": 34,
   "id": "12482e8b",
   "metadata": {},
   "outputs": [
    {
     "data": {
      "text/html": [
       "<div>\n",
       "<style scoped>\n",
       "    .dataframe tbody tr th:only-of-type {\n",
       "        vertical-align: middle;\n",
       "    }\n",
       "\n",
       "    .dataframe tbody tr th {\n",
       "        vertical-align: top;\n",
       "    }\n",
       "\n",
       "    .dataframe thead th {\n",
       "        text-align: right;\n",
       "    }\n",
       "</style>\n",
       "<table border=\"1\" class=\"dataframe\">\n",
       "  <thead>\n",
       "    <tr style=\"text-align: right;\">\n",
       "      <th></th>\n",
       "      <th>SK_ID_CURR</th>\n",
       "      <th>TARGET</th>\n",
       "      <th>NAME_CONTRACT_TYPE</th>\n",
       "      <th>GENDER</th>\n",
       "      <th>Car</th>\n",
       "      <th>House</th>\n",
       "      <th>CNT_CHILDREN</th>\n",
       "      <th>AMT_INCOME_TOTAL</th>\n",
       "      <th>AMT_CREDIT</th>\n",
       "      <th>AMT_GOODS_PRICE</th>\n",
       "      <th>...</th>\n",
       "      <th>DAYS_EMPLOYED</th>\n",
       "      <th>MOBILE</th>\n",
       "      <th>WORK_PHONE</th>\n",
       "      <th>HOME_PHONE</th>\n",
       "      <th>MOBILE_REACHABLE</th>\n",
       "      <th>FLAG_EMAIL</th>\n",
       "      <th>OCCUPATION_TYPE</th>\n",
       "      <th>CNT_FAM_MEMBERS</th>\n",
       "      <th>APPLICATION_DAY</th>\n",
       "      <th>TOTAL_DOC_SUBMITTED</th>\n",
       "    </tr>\n",
       "  </thead>\n",
       "  <tbody>\n",
       "    <tr>\n",
       "      <th>5</th>\n",
       "      <td>100008</td>\n",
       "      <td>0</td>\n",
       "      <td>Cash loans</td>\n",
       "      <td>M</td>\n",
       "      <td>N</td>\n",
       "      <td>Y</td>\n",
       "      <td>0</td>\n",
       "      <td>99000.000</td>\n",
       "      <td>490495.5</td>\n",
       "      <td>454500.0</td>\n",
       "      <td>...</td>\n",
       "      <td>-1588</td>\n",
       "      <td>1</td>\n",
       "      <td>1</td>\n",
       "      <td>1</td>\n",
       "      <td>1</td>\n",
       "      <td>0</td>\n",
       "      <td>Laborers</td>\n",
       "      <td>2.0</td>\n",
       "      <td>WEDNESDAY</td>\n",
       "      <td>1</td>\n",
       "    </tr>\n",
       "    <tr>\n",
       "      <th>8</th>\n",
       "      <td>100011</td>\n",
       "      <td>0</td>\n",
       "      <td>Cash loans</td>\n",
       "      <td>F</td>\n",
       "      <td>N</td>\n",
       "      <td>Y</td>\n",
       "      <td>0</td>\n",
       "      <td>112500.000</td>\n",
       "      <td>1019610.0</td>\n",
       "      <td>913500.0</td>\n",
       "      <td>...</td>\n",
       "      <td>365243</td>\n",
       "      <td>1</td>\n",
       "      <td>0</td>\n",
       "      <td>0</td>\n",
       "      <td>1</td>\n",
       "      <td>0</td>\n",
       "      <td>Laborers</td>\n",
       "      <td>2.0</td>\n",
       "      <td>WEDNESDAY</td>\n",
       "      <td>1</td>\n",
       "    </tr>\n",
       "    <tr>\n",
       "      <th>11</th>\n",
       "      <td>100015</td>\n",
       "      <td>0</td>\n",
       "      <td>Cash loans</td>\n",
       "      <td>F</td>\n",
       "      <td>N</td>\n",
       "      <td>Y</td>\n",
       "      <td>0</td>\n",
       "      <td>38419.155</td>\n",
       "      <td>148365.0</td>\n",
       "      <td>135000.0</td>\n",
       "      <td>...</td>\n",
       "      <td>365243</td>\n",
       "      <td>1</td>\n",
       "      <td>0</td>\n",
       "      <td>0</td>\n",
       "      <td>1</td>\n",
       "      <td>0</td>\n",
       "      <td>Laborers</td>\n",
       "      <td>2.0</td>\n",
       "      <td>FRIDAY</td>\n",
       "      <td>1</td>\n",
       "    </tr>\n",
       "    <tr>\n",
       "      <th>12</th>\n",
       "      <td>100016</td>\n",
       "      <td>0</td>\n",
       "      <td>Cash loans</td>\n",
       "      <td>F</td>\n",
       "      <td>N</td>\n",
       "      <td>Y</td>\n",
       "      <td>0</td>\n",
       "      <td>67500.000</td>\n",
       "      <td>80865.0</td>\n",
       "      <td>67500.0</td>\n",
       "      <td>...</td>\n",
       "      <td>-2717</td>\n",
       "      <td>1</td>\n",
       "      <td>1</td>\n",
       "      <td>1</td>\n",
       "      <td>1</td>\n",
       "      <td>0</td>\n",
       "      <td>Laborers</td>\n",
       "      <td>2.0</td>\n",
       "      <td>FRIDAY</td>\n",
       "      <td>1</td>\n",
       "    </tr>\n",
       "    <tr>\n",
       "      <th>14</th>\n",
       "      <td>100018</td>\n",
       "      <td>0</td>\n",
       "      <td>Cash loans</td>\n",
       "      <td>F</td>\n",
       "      <td>N</td>\n",
       "      <td>Y</td>\n",
       "      <td>0</td>\n",
       "      <td>189000.000</td>\n",
       "      <td>773680.5</td>\n",
       "      <td>679500.0</td>\n",
       "      <td>...</td>\n",
       "      <td>-203</td>\n",
       "      <td>1</td>\n",
       "      <td>1</td>\n",
       "      <td>0</td>\n",
       "      <td>1</td>\n",
       "      <td>0</td>\n",
       "      <td>Laborers</td>\n",
       "      <td>2.0</td>\n",
       "      <td>MONDAY</td>\n",
       "      <td>1</td>\n",
       "    </tr>\n",
       "    <tr>\n",
       "      <th>...</th>\n",
       "      <td>...</td>\n",
       "      <td>...</td>\n",
       "      <td>...</td>\n",
       "      <td>...</td>\n",
       "      <td>...</td>\n",
       "      <td>...</td>\n",
       "      <td>...</td>\n",
       "      <td>...</td>\n",
       "      <td>...</td>\n",
       "      <td>...</td>\n",
       "      <td>...</td>\n",
       "      <td>...</td>\n",
       "      <td>...</td>\n",
       "      <td>...</td>\n",
       "      <td>...</td>\n",
       "      <td>...</td>\n",
       "      <td>...</td>\n",
       "      <td>...</td>\n",
       "      <td>...</td>\n",
       "      <td>...</td>\n",
       "      <td>...</td>\n",
       "    </tr>\n",
       "    <tr>\n",
       "      <th>99983</th>\n",
       "      <td>216074</td>\n",
       "      <td>0</td>\n",
       "      <td>Cash loans</td>\n",
       "      <td>F</td>\n",
       "      <td>N</td>\n",
       "      <td>Y</td>\n",
       "      <td>0</td>\n",
       "      <td>378000.000</td>\n",
       "      <td>758214.0</td>\n",
       "      <td>603000.0</td>\n",
       "      <td>...</td>\n",
       "      <td>-1670</td>\n",
       "      <td>1</td>\n",
       "      <td>1</td>\n",
       "      <td>0</td>\n",
       "      <td>1</td>\n",
       "      <td>0</td>\n",
       "      <td>Core staff</td>\n",
       "      <td>2.0</td>\n",
       "      <td>SUNDAY</td>\n",
       "      <td>1</td>\n",
       "    </tr>\n",
       "    <tr>\n",
       "      <th>99985</th>\n",
       "      <td>216076</td>\n",
       "      <td>0</td>\n",
       "      <td>Cash loans</td>\n",
       "      <td>M</td>\n",
       "      <td>Y</td>\n",
       "      <td>Y</td>\n",
       "      <td>0</td>\n",
       "      <td>157500.000</td>\n",
       "      <td>445500.0</td>\n",
       "      <td>445500.0</td>\n",
       "      <td>...</td>\n",
       "      <td>-803</td>\n",
       "      <td>1</td>\n",
       "      <td>1</td>\n",
       "      <td>0</td>\n",
       "      <td>1</td>\n",
       "      <td>0</td>\n",
       "      <td>Drivers</td>\n",
       "      <td>2.0</td>\n",
       "      <td>SATURDAY</td>\n",
       "      <td>1</td>\n",
       "    </tr>\n",
       "    <tr>\n",
       "      <th>99989</th>\n",
       "      <td>216080</td>\n",
       "      <td>0</td>\n",
       "      <td>Cash loans</td>\n",
       "      <td>F</td>\n",
       "      <td>N</td>\n",
       "      <td>Y</td>\n",
       "      <td>0</td>\n",
       "      <td>180000.000</td>\n",
       "      <td>1546020.0</td>\n",
       "      <td>1350000.0</td>\n",
       "      <td>...</td>\n",
       "      <td>-2250</td>\n",
       "      <td>1</td>\n",
       "      <td>1</td>\n",
       "      <td>0</td>\n",
       "      <td>1</td>\n",
       "      <td>0</td>\n",
       "      <td>Laborers</td>\n",
       "      <td>2.0</td>\n",
       "      <td>MONDAY</td>\n",
       "      <td>1</td>\n",
       "    </tr>\n",
       "    <tr>\n",
       "      <th>99997</th>\n",
       "      <td>216088</td>\n",
       "      <td>0</td>\n",
       "      <td>Cash loans</td>\n",
       "      <td>F</td>\n",
       "      <td>Y</td>\n",
       "      <td>Y</td>\n",
       "      <td>0</td>\n",
       "      <td>135000.000</td>\n",
       "      <td>1262583.0</td>\n",
       "      <td>1102500.0</td>\n",
       "      <td>...</td>\n",
       "      <td>-4805</td>\n",
       "      <td>1</td>\n",
       "      <td>1</td>\n",
       "      <td>0</td>\n",
       "      <td>1</td>\n",
       "      <td>0</td>\n",
       "      <td>Sales staff</td>\n",
       "      <td>2.0</td>\n",
       "      <td>TUESDAY</td>\n",
       "      <td>1</td>\n",
       "    </tr>\n",
       "    <tr>\n",
       "      <th>99999</th>\n",
       "      <td>216090</td>\n",
       "      <td>0</td>\n",
       "      <td>Revolving loans</td>\n",
       "      <td>M</td>\n",
       "      <td>Y</td>\n",
       "      <td>Y</td>\n",
       "      <td>0</td>\n",
       "      <td>202500.000</td>\n",
       "      <td>337500.0</td>\n",
       "      <td>337500.0</td>\n",
       "      <td>...</td>\n",
       "      <td>-3230</td>\n",
       "      <td>1</td>\n",
       "      <td>1</td>\n",
       "      <td>1</td>\n",
       "      <td>1</td>\n",
       "      <td>0</td>\n",
       "      <td>Drivers</td>\n",
       "      <td>2.0</td>\n",
       "      <td>SATURDAY</td>\n",
       "      <td>0</td>\n",
       "    </tr>\n",
       "  </tbody>\n",
       "</table>\n",
       "<p>21412 rows × 24 columns</p>\n",
       "</div>"
      ],
      "text/plain": [
       "       SK_ID_CURR  TARGET NAME_CONTRACT_TYPE GENDER Car House  CNT_CHILDREN  \\\n",
       "5          100008       0         Cash loans      M   N     Y             0   \n",
       "8          100011       0         Cash loans      F   N     Y             0   \n",
       "11         100015       0         Cash loans      F   N     Y             0   \n",
       "12         100016       0         Cash loans      F   N     Y             0   \n",
       "14         100018       0         Cash loans      F   N     Y             0   \n",
       "...           ...     ...                ...    ...  ..   ...           ...   \n",
       "99983      216074       0         Cash loans      F   N     Y             0   \n",
       "99985      216076       0         Cash loans      M   Y     Y             0   \n",
       "99989      216080       0         Cash loans      F   N     Y             0   \n",
       "99997      216088       0         Cash loans      F   Y     Y             0   \n",
       "99999      216090       0    Revolving loans      M   Y     Y             0   \n",
       "\n",
       "       AMT_INCOME_TOTAL  AMT_CREDIT  AMT_GOODS_PRICE  ... DAYS_EMPLOYED  \\\n",
       "5             99000.000    490495.5         454500.0  ...         -1588   \n",
       "8            112500.000   1019610.0         913500.0  ...        365243   \n",
       "11            38419.155    148365.0         135000.0  ...        365243   \n",
       "12            67500.000     80865.0          67500.0  ...         -2717   \n",
       "14           189000.000    773680.5         679500.0  ...          -203   \n",
       "...                 ...         ...              ...  ...           ...   \n",
       "99983        378000.000    758214.0         603000.0  ...         -1670   \n",
       "99985        157500.000    445500.0         445500.0  ...          -803   \n",
       "99989        180000.000   1546020.0        1350000.0  ...         -2250   \n",
       "99997        135000.000   1262583.0        1102500.0  ...         -4805   \n",
       "99999        202500.000    337500.0         337500.0  ...         -3230   \n",
       "\n",
       "      MOBILE WORK_PHONE HOME_PHONE  MOBILE_REACHABLE  FLAG_EMAIL  \\\n",
       "5          1          1          1                 1           0   \n",
       "8          1          0          0                 1           0   \n",
       "11         1          0          0                 1           0   \n",
       "12         1          1          1                 1           0   \n",
       "14         1          1          0                 1           0   \n",
       "...      ...        ...        ...               ...         ...   \n",
       "99983      1          1          0                 1           0   \n",
       "99985      1          1          0                 1           0   \n",
       "99989      1          1          0                 1           0   \n",
       "99997      1          1          0                 1           0   \n",
       "99999      1          1          1                 1           0   \n",
       "\n",
       "       OCCUPATION_TYPE  CNT_FAM_MEMBERS  APPLICATION_DAY  TOTAL_DOC_SUBMITTED  \n",
       "5             Laborers              2.0        WEDNESDAY                    1  \n",
       "8             Laborers              2.0        WEDNESDAY                    1  \n",
       "11            Laborers              2.0           FRIDAY                    1  \n",
       "12            Laborers              2.0           FRIDAY                    1  \n",
       "14            Laborers              2.0           MONDAY                    1  \n",
       "...                ...              ...              ...                  ...  \n",
       "99983       Core staff              2.0           SUNDAY                    1  \n",
       "99985          Drivers              2.0         SATURDAY                    1  \n",
       "99989         Laborers              2.0           MONDAY                    1  \n",
       "99997      Sales staff              2.0          TUESDAY                    1  \n",
       "99999          Drivers              2.0         SATURDAY                    0  \n",
       "\n",
       "[21412 rows x 24 columns]"
      ]
     },
     "execution_count": 34,
     "metadata": {},
     "output_type": "execute_result"
    }
   ],
   "source": [
    "df_c"
   ]
  },
  {
   "cell_type": "code",
   "execution_count": 35,
   "id": "da415837",
   "metadata": {},
   "outputs": [
    {
     "data": {
      "image/png": "[encoded data removed]",
      "text/plain": [
       "<Figure size 720x360 with 1 Axes>"
      ]
     },
     "metadata": {},
     "output_type": "display_data"
    }
   ],
   "source": [
    "fig, ax = plt.subplots(figsize=(10,5))\n",
    "plt.title(\"Filtered Properties - Target Variable\",fontsize=16, fontweight='bold', color='black')\n",
    "labels = ['No', 'Yes']\n",
    "plt.pie(df_c['TARGET'].value_counts(),labels=labels,autopct='%1.1f%%')\n",
    "\n",
    "plt.legend()\n",
    "plt.show()"
   ]
  },
  {
   "cell_type": "code",
   "execution_count": null,
   "id": "65eed953",
   "metadata": {},
   "outputs": [],
   "source": [
    "#incometype vs education status of defaulters and non-defaulters"
   ]
  },
  {
   "cell_type": "code",
   "execution_count": null,
   "id": "f516023c",
   "metadata": {},
   "outputs": [],
   "source": [
    "plt.figure(figsize=(35,14)) \n",
    "plt.yscale('log')                     \n",
    "sns.boxplot(data =df, x='NAME_EDUCATION_TYPE',y='AMT_INCOME_TOTAL',   \n",
    "            hue ='TARGET')\n",
    "\n",
    "plt.legend( loc = 'upper right',fontsize=30)                                              \n",
    "plt.title('Income amount vs Education Status',fontsize=35 ,fontweight=\"bold\")\n",
    "plt.xlabel(\"NAME_EDUCATION_TYPE\",fontsize= 30, fontweight=\"bold\")\n",
    "plt.ylabel(\"AMT_INCOME_TOTAL\",fontsize= 30, fontweight=\"bold\")\n",
    "plt.xticks(rotation=90, fontsize=30)\n",
    "plt.yticks(rotation=360, fontsize=30)\n",
    "\n",
    "plt.show()\n"
   ]
  },
  {
   "cell_type": "raw",
   "id": "600ec653",
   "metadata": {},
   "source": [
    "INTERPRETATION-customers  having Higher Education,  Secondary/Secondary Special have a higher number of outliers.\n",
    " we can say that  customers having Higher Education , who haven’t completed their Higher Education,\n",
    " Secondary/Secondary Special Education tend to have higher incomes."
   ]
  },
  {
   "cell_type": "code",
   "execution_count": null,
   "id": "08e7f9c0",
   "metadata": {},
   "outputs": [],
   "source": [
    "#credit amount vs education status of defaulters and non-defaulters"
   ]
  },
  {
   "cell_type": "code",
   "execution_count": null,
   "id": "ff88393d",
   "metadata": {},
   "outputs": [],
   "source": [
    "plt.figure(figsize=(35,14))\n",
    "plt.yscale('log')                      \n",
    "\n",
    "sns.boxplot(data =df, x='NAME_EDUCATION_TYPE',y='AMT_CREDIT',\n",
    "            hue ='TARGET',orient='v')\n",
    "\n",
    "plt.legend(loc = 'upper right',fontsize=18)           \n",
    "plt.title('Credit V/s Education',fontsize=35,fontweight='bold')\n",
    "plt.xlabel(\"NAME_EDUCATION_TYPE\",fontsize= 30, fontweight=\"bold\")\n",
    "plt.ylabel(\"AMT_CREDIT\",fontsize= 30, fontweight=\"bold\")\n",
    "plt.xticks(rotation=90, fontsize=30)\n",
    "plt.yticks(rotation=360, fontsize=30)\n",
    "\n",
    "plt.show()\n",
    "\n"
   ]
  },
  {
   "cell_type": "raw",
   "id": "434d4acb",
   "metadata": {},
   "source": [
    "INTERPRETATION-Customers  with an Academic degree tend to take higher credit loan.\n",
    "Some of the customers with Higher Education, Incomplete Higher Education, \n",
    "Lower Secondary Education and Secondary/Secondary Special Education are more likely to take a high amount of credit loans"
   ]
  },
  {
   "cell_type": "code",
   "execution_count": null,
   "id": "39f03284",
   "metadata": {},
   "outputs": [],
   "source": []
  },
  {
   "cell_type": "code",
   "execution_count": null,
   "id": "353ef6e1",
   "metadata": {},
   "outputs": [],
   "source": []
  },
  {
   "cell_type": "code",
   "execution_count": null,
   "id": "78d72932",
   "metadata": {},
   "outputs": [],
   "source": []
  }
 ],
 "metadata": {
  "kernelspec": {
   "display_name": "Python 3 (ipykernel)",
   "language": "python",
   "name": "python3"
  },
  "language_info": {
   "codemirror_mode": {
    "name": "ipython",
    "version": 3
   },
   "file_extension": ".py",
   "mimetype": "text/x-python",
   "name": "python",
   "nbconvert_exporter": "python",
   "pygments_lexer": "ipython3",
   "version": "3.9.7"
  }
 },
 "nbformat": 4,
 "nbformat_minor": 5
}
